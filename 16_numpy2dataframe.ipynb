{
 "cells": [
  {
   "cell_type": "code",
   "execution_count": null,
   "id": "8d605041-5c01-4531-8c38-f2aa60db7bb5",
   "metadata": {},
   "outputs": [],
   "source": []
  }
 ],
 "metadata": {
  "kernelspec": {
   "display_name": "Python 3.8",
   "language": "python",
   "name": "py38"
  },
  "language_info": {
   "name": ""
  }
 },
 "nbformat": 4,
 "nbformat_minor": 5
}
