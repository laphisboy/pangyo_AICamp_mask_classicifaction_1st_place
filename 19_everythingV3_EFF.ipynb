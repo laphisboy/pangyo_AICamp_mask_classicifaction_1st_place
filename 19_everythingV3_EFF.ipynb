{
 "cells": [
  {
   "cell_type": "markdown",
   "id": "6c50f01a-72fd-4804-9f54-d77b52d3991f",
   "metadata": {
    "id": "6c50f01a-72fd-4804-9f54-d77b52d3991f"
   },
   "source": [
    "if os.path.isfile(os.path.join(TEST_ANNOT_DIR, 'test.pkl')):\n",
    "    test_db = pd.read_pickle(os.path.join(TEST_ANNOT_DIR, 'test.pkl'))\n",
    "else:\n",
    "    test_db = test_loader()\n",
    "    test_db.to_pickle(os.path.join(TEST_ANNOT_DIR, 'test.pkl'))# Pangyo AI Challenge 2021 - Mask Classification Baseline"
   ]
  },
  {
   "cell_type": "markdown",
   "id": "f3cc3947-2739-40e8-9f71-feedc73a020c",
   "metadata": {},
   "source": [
    "# Change Epoch Back to 20!"
   ]
  },
  {
   "cell_type": "markdown",
   "id": "f51ba7c1-0393-47ec-89d9-f6f97072773b",
   "metadata": {
    "id": "f51ba7c1-0393-47ec-89d9-f6f97072773b"
   },
   "source": [
    "## 라이브러리 호출 및 I/O"
   ]
  },
  {
   "cell_type": "code",
   "execution_count": 1,
   "id": "98a45c7e-10ca-4fd1-9fd4-6326313a631a",
   "metadata": {
    "executionInfo": {
     "elapsed": 5126,
     "status": "ok",
     "timestamp": 1630047280444,
     "user": {
      "displayName": "박기돈",
      "photoUrl": "https://lh3.googleusercontent.com/a-/AOh14GhVEYQCp6v5ebpmCrZSsSB10iVBTuKIfM20WSM_=s64",
      "userId": "12822433786877269578"
     },
     "user_tz": -540
    },
    "id": "98a45c7e-10ca-4fd1-9fd4-6326313a631a"
   },
   "outputs": [],
   "source": [
    "import os, torch, copy, cv2, sys, random, logging\n",
    "from datetime import datetime, timezone, timedelta\n",
    "from PIL import Image\n",
    "import numpy as np\n",
    "import pandas as pd\n",
    "from tqdm import tqdm\n",
    "import torch.nn as nn\n",
    "import torch.optim as optim\n",
    "from torch.utils.data import DataLoader, Dataset\n",
    "import torchvision.transforms as transforms\n",
    "import torchvision.transforms.functional as TF\n",
    "import gc\n",
    "\n",
    "import matplotlib.pyplot as plt\n",
    "import json\n",
    "import pandas as pd\n",
    "import time\n",
    "from adamp import AdamP"
   ]
  },
  {
   "cell_type": "code",
   "execution_count": 2,
   "id": "dfe733f8-2e09-4197-8fa8-3d166c7b5101",
   "metadata": {},
   "outputs": [
    {
     "data": {
      "text/plain": [
       "1852303"
      ]
     },
     "execution_count": 2,
     "metadata": {},
     "output_type": "execute_result"
    }
   ],
   "source": [
    "os.getpid()"
   ]
  },
  {
   "cell_type": "code",
   "execution_count": 3,
   "id": "fcd8a1e9-a121-4fd3-9af4-23f1bbc2d6c3",
   "metadata": {},
   "outputs": [],
   "source": [
    "import warnings\n",
    "warnings.filterwarnings('ignore')"
   ]
  },
  {
   "cell_type": "code",
   "execution_count": 4,
   "id": "8f9c4250-2257-404f-941d-58eff1e9eb38",
   "metadata": {
    "executionInfo": {
     "elapsed": 309,
     "status": "ok",
     "timestamp": 1630047303454,
     "user": {
      "displayName": "박기돈",
      "photoUrl": "https://lh3.googleusercontent.com/a-/AOh14GhVEYQCp6v5ebpmCrZSsSB10iVBTuKIfM20WSM_=s64",
      "userId": "12822433786877269578"
     },
     "user_tz": -540
    },
    "id": "8f9c4250-2257-404f-941d-58eff1e9eb38"
   },
   "outputs": [],
   "source": [
    "# # 시드(seed) 설정\n",
    "\n",
    "# RANDOM_SEED = 2021\n",
    "# torch.manual_seed(RANDOM_SEED)\n",
    "# torch.backends.cudnn.deterministic = True\n",
    "# torch.backends.cudnn.benchmark = False\n",
    "# np.random.seed(RANDOM_SEED)\n",
    "# random.seed(RANDOM_SEED)"
   ]
  },
  {
   "cell_type": "code",
   "execution_count": 5,
   "id": "4e573764-7fdc-4e57-9a0a-39833df1d376",
   "metadata": {},
   "outputs": [],
   "source": [
    "def seed_everything(seed):\n",
    "    random.seed(seed)\n",
    "    os.environ['PYTHONHASHSEED'] = str(seed)\n",
    "    np.random.seed(seed)\n",
    "    torch.manual_seed(seed)\n",
    "    torch.cuda.manual_seed(seed)\n",
    "    torch.backends.cudnn.deterministic = True\n",
    "    torch.backends.cudnn.benchmark = False\n",
    "    \n",
    "seed = 100\n",
    "seed_everything(seed)"
   ]
  },
  {
   "cell_type": "code",
   "execution_count": 6,
   "id": "6AYoEZyP1V_V",
   "metadata": {
    "executionInfo": {
     "elapsed": 216,
     "status": "ok",
     "timestamp": 1630047300749,
     "user": {
      "displayName": "박기돈",
      "photoUrl": "https://lh3.googleusercontent.com/a-/AOh14GhVEYQCp6v5ebpmCrZSsSB10iVBTuKIfM20WSM_=s64",
      "userId": "12822433786877269578"
     },
     "user_tz": -540
    },
    "id": "6AYoEZyP1V_V"
   },
   "outputs": [],
   "source": [
    "def get_logger(name: str, file_path: str, stream=False) -> logging.RootLogger:\n",
    "    logger = logging.getLogger(name)\n",
    "    logger.setLevel(logging.INFO)\n",
    "\n",
    "    formatter = logging.Formatter('%(asctime)s | %(name)s | %(levelname)s | %(message)s')\n",
    "    stream_handler = logging.StreamHandler()\n",
    "    file_handler = logging.FileHandler(file_path)\n",
    "\n",
    "    stream_handler.setFormatter(formatter)\n",
    "    file_handler.setFormatter(formatter)\n",
    "\n",
    "    if stream:\n",
    "        logger.addHandler(stream_handler)\n",
    "    logger.addHandler(file_handler)\n",
    "\n",
    "    return logger"
   ]
  },
  {
   "cell_type": "markdown",
   "id": "3a6c255b-b30d-4ffd-a663-bc01a2c37954",
   "metadata": {
    "id": "3a6c255b-b30d-4ffd-a663-bc01a2c37954"
   },
   "source": [
    "## Argument Setting"
   ]
  },
  {
   "cell_type": "code",
   "execution_count": 7,
   "id": "9d69a8bc-2e64-4de6-928f-4e16957f6af9",
   "metadata": {
    "executionInfo": {
     "elapsed": 219,
     "status": "ok",
     "timestamp": 1630047307151,
     "user": {
      "displayName": "박기돈",
      "photoUrl": "https://lh3.googleusercontent.com/a-/AOh14GhVEYQCp6v5ebpmCrZSsSB10iVBTuKIfM20WSM_=s64",
      "userId": "12822433786877269578"
     },
     "user_tz": -540
    },
    "id": "9d69a8bc-2e64-4de6-928f-4e16957f6af9"
   },
   "outputs": [],
   "source": [
    "# working directory 지정\n",
    "ROOT_PATH = './'\n",
    "TRAIN_DIR = os.path.join(ROOT_PATH, 'train')\n",
    "RESULT_DIR = os.path.join(ROOT_PATH, 'results')\n",
    "WEIGHT_DIR = os.path.join(ROOT_PATH, 'weights')\n",
    "NUMPY_DIR = os.path.join(ROOT_PATH, 'numpy')\n",
    "CSV_DIR = os.path.join(ROOT_PATH, 'csv')\n",
    "TEST_DIR = os.path.join(ROOT_PATH, 'test')\n",
    "TEST_ANNOT_DIR = os.path.join(ROOT_PATH, 'test_annot')\n",
    "\n",
    "if not os.path.isdir(RESULT_DIR):\n",
    "    os.makedirs(RESULT_DIR)\n",
    "\n",
    "# hyper-parameters\n",
    "EPOCHS = 20\n",
    "BATCH_SIZE = 16\n",
    "LEARNING_RATE = 1e-5\n",
    "WEIGHT_DECAY = 1e-7\n",
    "INPUT_SHAPE = (180, 90)\n",
    "device = torch.device('cuda' if torch.cuda.is_available() else 'cpu')"
   ]
  },
  {
   "cell_type": "markdown",
   "id": "d44807b0-7788-49ec-aff2-c756e4513c5e",
   "metadata": {
    "id": "d44807b0-7788-49ec-aff2-c756e4513c5e"
   },
   "source": [
    "## Dataloader"
   ]
  },
  {
   "cell_type": "markdown",
   "id": "a5b81fa5-3756-46aa-b3cb-6f19879aba05",
   "metadata": {
    "id": "a5b81fa5-3756-46aa-b3cb-6f19879aba05"
   },
   "source": [
    "#### Train & Validation Set loader"
   ]
  },
  {
   "cell_type": "code",
   "execution_count": 8,
   "id": "04642777-c2e0-439b-9692-f6c571a86521",
   "metadata": {
    "executionInfo": {
     "elapsed": 479,
     "status": "ok",
     "timestamp": 1630047309743,
     "user": {
      "displayName": "박기돈",
      "photoUrl": "https://lh3.googleusercontent.com/a-/AOh14GhVEYQCp6v5ebpmCrZSsSB10iVBTuKIfM20WSM_=s64",
      "userId": "12822433786877269578"
     },
     "user_tz": -540
    },
    "id": "04642777-c2e0-439b-9692-f6c571a86521"
   },
   "outputs": [],
   "source": [
    "class CustomDataset(Dataset):\n",
    "    def __init__(self, db, mode, transform):\n",
    "\n",
    "        self.db = db\n",
    "        self.mode = mode\n",
    "        self.transform = transform\n",
    "\n",
    "    def __len__(self):\n",
    "        return len(self.db)\n",
    "\n",
    "    def __getitem__(self, index):\n",
    "        data = copy.deepcopy(self.db.loc[index])\n",
    "\n",
    "        # Loading image\n",
    "        cvimg = cv2.imread(data['img_path'], cv2.IMREAD_COLOR | cv2.IMREAD_IGNORE_ORIENTATION)\n",
    "        if not isinstance(cvimg, np.ndarray):\n",
    "            raise IOError(\"Fail to read %s\" % data['img_path'])\n",
    "\n",
    "        # Preprocessing images\n",
    "        trans_image = self.transform(Image.fromarray(cvimg))\n",
    "\n",
    "        return trans_image, data['label']\n",
    "\n",
    "    \n",
    "def data_loader(data_dir=TRAIN_DIR):\n",
    "    print('Loading ' + ' dataset..')\n",
    "    if not os.path.isdir(data_dir):\n",
    "        print(f'!!! Cannot find {data_dir}... !!!')\n",
    "        sys.exit()\n",
    "        \n",
    "    mask_image_list = os.listdir(os.path.join(data_dir, 'Mask'))\n",
    "    nomask_image_list = os.listdir(os.path.join(data_dir, 'NoMask'))\n",
    "    mask_image_list = [item for item in mask_image_list if item[-4:] == '.png']\n",
    "    nomask_image_list = [item for item in nomask_image_list  if item[-4:] == '.png']\n",
    "    mask_image_path = list(map(lambda x : os.path.join(data_dir, 'Mask', x), mask_image_list))\n",
    "    nomask_image_path = list(map(lambda x : os.path.join(data_dir, 'NoMask', x), nomask_image_list))\n",
    "\n",
    "    # encoding label (Mask : 1, No Mask : 0)\n",
    "    mask_df = pd.DataFrame({'img_path':mask_image_path, 'label':np.ones(len(mask_image_list))})\n",
    "    nomask_df = pd.DataFrame({'img_path':nomask_image_path, 'label':np.zeros(len(nomask_image_list))})\n",
    "    db = mask_df.append(nomask_df, ignore_index=True)\n",
    "    return db\n",
    "\n",
    "\n",
    "if os.path.isfile(os.path.join(TRAIN_DIR, 'total.pkl')):\n",
    "    db = pd.read_pickle(os.path.join(TRAIN_DIR, 'total.pkl'))\n",
    "else:\n",
    "    db = data_loader()\n",
    "    db.to_pickle(os.path.join(TRAIN_DIR, 'total.pkl'))\n",
    "    \n",
    "    \n",
    "# Do stratified split\n",
    "from sklearn.model_selection import train_test_split\n",
    "\n",
    "train_idx, valid_idx= train_test_split(\n",
    "    np.arange(len(db)),\n",
    "    test_size=0.1,\n",
    "    shuffle=True,\n",
    "    stratify=db.label.values,\n",
    "    random_state=seed)\n",
    "\n",
    "train_db = db.iloc[train_idx]\n",
    "valid_db = db.iloc[valid_idx]\n",
    "\n",
    "train_db = train_db.reset_index()\n",
    "valid_db = valid_db.reset_index()\n",
    "\n",
    "\n",
    "transform = transforms.Compose([\n",
    "                                transforms.Resize(INPUT_SHAPE),\n",
    "                                transforms.ToTensor(), \n",
    "                                transforms.Normalize([0.485, 0.456, 0.406], [0.229, 0.224, 0.225])])"
   ]
  },
  {
   "cell_type": "code",
   "execution_count": 9,
   "id": "07040416-e5dc-41f6-a567-7a779dd4ca9c",
   "metadata": {},
   "outputs": [
    {
     "name": "stdout",
     "output_type": "stream",
     "text": [
      "Train set samples: 24388 Val set samples: 2710\n"
     ]
    }
   ],
   "source": [
    "train_dataset = CustomDataset(db=train_db, mode='train', transform=transform)\n",
    "validation_dataset = CustomDataset(db=valid_db, mode='val', transform=transform)\n",
    "\n",
    "train_dataloader = DataLoader(train_dataset, batch_size=BATCH_SIZE, shuffle=True)\n",
    "validation_dataloader = DataLoader(validation_dataset, batch_size=BATCH_SIZE, shuffle=True)\n",
    "\n",
    "print('Train set samples:',len(train_dataset),  'Val set samples:', len(validation_dataset))"
   ]
  },
  {
   "cell_type": "markdown",
   "id": "61b27520-c82c-4ec8-ae0b-119a79167f09",
   "metadata": {
    "id": "61b27520-c82c-4ec8-ae0b-119a79167f09"
   },
   "source": [
    "## Model"
   ]
  },
  {
   "cell_type": "code",
   "execution_count": 10,
   "id": "2d34769e-afab-46ef-9168-94189235e48d",
   "metadata": {
    "colab": {
     "base_uri": "https://localhost:8080/"
    },
    "executionInfo": {
     "elapsed": 5400,
     "status": "ok",
     "timestamp": 1630047317233,
     "user": {
      "displayName": "박기돈",
      "photoUrl": "https://lh3.googleusercontent.com/a-/AOh14GhVEYQCp6v5ebpmCrZSsSB10iVBTuKIfM20WSM_=s64",
      "userId": "12822433786877269578"
     },
     "user_tz": -540
    },
    "id": "2d34769e-afab-46ef-9168-94189235e48d",
    "outputId": "c6b7da67-22cf-4835-b4ba-0dce62980eca"
   },
   "outputs": [],
   "source": [
    "# !pip install git+https://github.com/rwightman/pytorch-image-models.git"
   ]
  },
  {
   "cell_type": "code",
   "execution_count": 11,
   "id": "a6c37334-3edd-4687-a88e-f5948bc15ffe",
   "metadata": {},
   "outputs": [],
   "source": [
    "import timm"
   ]
  },
  {
   "cell_type": "code",
   "execution_count": 12,
   "id": "f7f96e9d-dfed-412d-9dd8-02b99970b162",
   "metadata": {},
   "outputs": [],
   "source": [
    "# timm.list_models(pretrained=True)"
   ]
  },
  {
   "cell_type": "code",
   "execution_count": 13,
   "id": "9a722d66-0cc7-4e49-9cdc-b90628407b97",
   "metadata": {},
   "outputs": [],
   "source": [
    "EFF_BACKBONES = [\n",
    "    'tf_efficientnetv2_l_in21ft1k',\n",
    "    'tf_efficientnetv2_m_in21ft1k',\n",
    "    'tf_efficientnetv2_s_in21ft1k'\n",
    "]\n",
    "NFN_BACKBONES = [\n",
    "    'dm_nfnet_f0',\n",
    "    'dm_nfnet_f1',\n",
    "    'eca_nfnet_l2',\n",
    "    'eca_nfnet_l1',\n",
    "]\n",
    "    \n",
    "DEIT_BACKBONES = [\n",
    "    'deit_base_distilled_patch16_224',\n",
    "    'deit_base_distilled_patch16_384'   \n",
    "]  "
   ]
  },
  {
   "cell_type": "code",
   "execution_count": 14,
   "id": "b3b3c973-a582-4487-a1d2-83b159eb90e8",
   "metadata": {},
   "outputs": [],
   "source": [
    "# # lighter models to experiment on\n",
    "\n",
    "# EFF_BACKBONES = [\n",
    "#     'tf_efficientnet_b5_ns',\n",
    "#     'tf_efficientnet_b6_ns',\n",
    "#     'tf_efficientnet_b7_ns',\n",
    "#     'efficientnetv2_rw_s',\n",
    "#     'efficientnetv2_rw_m',\n",
    "#     'tf_efficientnetv2_s_in21k',\n",
    "#     'tf_efficientnetv2_s_in21ft1k',\n",
    "#     'tf_efficientnetv2_m_in21k',\n",
    "#     'tf_efficientnetv2_m_in21ft1k'\n",
    "# ]\n",
    "# NFN_BACKBONES = [\n",
    "#     'eca_nfnet_l0',\n",
    "#     'eca_nfnet_l1',\n",
    "#     'eca_nfnet_l2'\n",
    "# ]"
   ]
  },
  {
   "cell_type": "code",
   "execution_count": 15,
   "id": "84ff9566-36e8-4a7d-8e23-af605a8ec3af",
   "metadata": {},
   "outputs": [],
   "source": [
    "class DebuggerNet(nn.Module):\n",
    "    def __init__(self):\n",
    "        super(DebuggerNet, self).__init__()\n",
    "        self.conv = nn.Conv2d(3, 3, 3, 3)\n",
    "        self.avgpool = nn.AdaptiveAvgPool2d(2)\n",
    "        self.linear = nn.Linear(12, 2)\n",
    "\n",
    "    def forward(self, input_img):\n",
    "        x = self.avgpool(input_img)\n",
    "\n",
    "        x = x.view(-1, 12)\n",
    "        x = self.linear(x)\n",
    "        return x\n"
   ]
  },
  {
   "cell_type": "code",
   "execution_count": 16,
   "id": "3bef3b15-f18b-4aa9-b6a0-65822041b4e9",
   "metadata": {
    "executionInfo": {
     "elapsed": 204,
     "status": "ok",
     "timestamp": 1630047325374,
     "user": {
      "displayName": "박기돈",
      "photoUrl": "https://lh3.googleusercontent.com/a-/AOh14GhVEYQCp6v5ebpmCrZSsSB10iVBTuKIfM20WSM_=s64",
      "userId": "12822433786877269578"
     },
     "user_tz": -540
    },
    "id": "3bef3b15-f18b-4aa9-b6a0-65822041b4e9",
    "tags": []
   },
   "outputs": [],
   "source": [
    "from torch.nn import functional as F\n",
    "# for efficientnet\n",
    "class EFFMaskClassifier(nn.Module):\n",
    "    def __init__(self, backbone):\n",
    "        super(EFFMaskClassifier, self).__init__()\n",
    "        self.model = timm.create_model(backbone, pretrained=True)\n",
    "        n_features = self.model.classifier.in_features\n",
    "        self.model.classifier = nn.Linear(n_features, 2)\n",
    "\n",
    "    def forward(self, input_img):\n",
    "        x = self.model(input_img)\n",
    "        return x\n"
   ]
  },
  {
   "cell_type": "code",
   "execution_count": 17,
   "id": "ee11cfc8-9b26-4250-950a-3e02053009f5",
   "metadata": {},
   "outputs": [],
   "source": [
    "# for nfnet\n",
    "class NFNMaskClassifier(nn.Module):\n",
    "    def __init__(self, backbone):\n",
    "        super(NFNMaskClassifier, self).__init__()\n",
    "        self.model = timm.create_model(backbone, pretrained=True)\n",
    "        n_features = self.model.head.fc.in_features\n",
    "        self.model.head.fc = nn.Linear(n_features, 2)\n",
    "\n",
    "    def forward(self, input_img):\n",
    "        x = self.model(input_img)\n",
    "        return x"
   ]
  },
  {
   "cell_type": "code",
   "execution_count": 18,
   "id": "6f9fb549-609a-43e0-be73-95d9c9729713",
   "metadata": {},
   "outputs": [],
   "source": [
    "# for deit\n",
    "class DEITMaskClassifier(nn.Module):\n",
    "    def __init__(self, backbone):\n",
    "        super(DEITMaskClassifier, self).__init__()\n",
    "        self.model = timm.create_model(backbone, pretrained=True)\n",
    "        in_features_head = self.model.head.in_features\n",
    "        in_features_head_dist = self.model.head_dist.in_features\n",
    "        \n",
    "        self.model.head = nn.Linear(in_features_head, 2)\n",
    "        self.model.head_dist = nn.Linear(in_features_head_dist, 2)\n",
    "\n",
    "    def forward(self, input_img):\n",
    "        x = self.model(input_img)\n",
    "        return x"
   ]
  },
  {
   "cell_type": "markdown",
   "id": "1ba438c6-44d1-4960-be0c-570d97bbb7e3",
   "metadata": {},
   "source": [
    "## Just Trainer"
   ]
  },
  {
   "cell_type": "code",
   "execution_count": 19,
   "id": "e3345b82-115e-4130-b53b-706d30c20dd6",
   "metadata": {},
   "outputs": [],
   "source": [
    "class Trainer():\n",
    "    \"\"\" Trainer\n",
    "        epoch에 대한 학습 및 검증 절차 정의\n",
    "    \"\"\"\n",
    "    def __init__(self, criterion, model, device, metric_fn, optimizer=None, scheduler=None, logger=None):\n",
    "        \"\"\" 초기화\n",
    "        \"\"\"\n",
    "        \n",
    "        self.criterion = criterion\n",
    "        self.model = model\n",
    "        self.device = device\n",
    "        self.optimizer = optimizer\n",
    "        self.logger = logger\n",
    "        self.scheduler = scheduler\n",
    "        self.metric_fn = metric_fn\n",
    "\n",
    "    def train_epoch(self, dataloader, epoch_index):\n",
    "        \"\"\" 한 epoch에서 수행되는 학습 절차\n",
    "        \"\"\"\n",
    "        self.model.train()\n",
    "        train_total_loss = 0\n",
    "        target_lst = []\n",
    "        pred_lst = []\n",
    "        prob_lst = []\n",
    "\n",
    "        for batch_index, (img, label) in enumerate(dataloader):\n",
    "            img = img.to(self.device)\n",
    "            label = label.to(self.device).long()\n",
    "            pred = self.model(img)\n",
    "            loss = self.criterion(pred, label)\n",
    "            self.optimizer.zero_grad()\n",
    "            loss.backward()\n",
    "            pred = F.softmax(pred)\n",
    "\n",
    "            self.optimizer.step()\n",
    "            self.scheduler.step()\n",
    "            train_total_loss += loss.item()\n",
    "            \n",
    "            prob_lst.extend(pred[:, 1].cpu().tolist())\n",
    "            target_lst.extend(label.cpu().tolist())\n",
    "            pred_lst.extend(pred.argmax(dim=1).cpu().tolist())\n",
    "        self.train_mean_loss = train_total_loss / batch_index\n",
    "        self.train_score, auroc = self.metric_fn(y_pred=pred_lst, y_answer=target_lst, y_prob=prob_lst)\n",
    "        msg = f'Epoch {epoch_index}, Train loss: {self.train_mean_loss}, Acc: {self.train_score}, ROC: {auroc}'\n",
    "        print(msg)\n",
    "        \n",
    "\n",
    "    def validate_epoch(self, dataloader, epoch_index):\n",
    "        \"\"\" 한 epoch에서 수행되는 검증 절차\n",
    "        \"\"\"\n",
    "        self.model.eval()\n",
    "        val_total_loss = 0\n",
    "        target_lst = []\n",
    "        pred_lst = []\n",
    "        prob_lst = []\n",
    "\n",
    "        for batch_index, (img, label) in enumerate(dataloader):\n",
    "            img = img.to(self.device)\n",
    "            label = label.to(self.device).long()\n",
    "            pred = self.model(img)\n",
    "            pred = F.softmax(pred)\n",
    "            ## coordinate loss\n",
    "            loss = self.criterion(pred, label)\n",
    "            val_total_loss += loss.item()\n",
    "            prob_lst.extend(pred[:, 1].cpu().tolist())\n",
    "            target_lst.extend(label.cpu().tolist())\n",
    "            pred_lst.extend(pred.argmax(dim=1).cpu().tolist())\n",
    "        self.val_mean_loss = val_total_loss / batch_index\n",
    "        self.validation_score, auroc = self.metric_fn(y_pred=pred_lst, y_answer=target_lst, y_prob=prob_lst)\n",
    "        msg = f'Epoch {epoch_index}, Val loss: {self.val_mean_loss}, Acc: {self.validation_score}, ROC: {auroc}'\n",
    "        print(msg)\n"
   ]
  },
  {
   "cell_type": "markdown",
   "id": "591a5722-df20-4d90-9be8-f1c98fa31009",
   "metadata": {},
   "source": [
    "## SAM Optimizer w. AdamP"
   ]
  },
  {
   "cell_type": "code",
   "execution_count": 20,
   "id": "5fbbd9cf-af12-46ab-9365-39e775e22781",
   "metadata": {},
   "outputs": [],
   "source": [
    "class SAM(torch.optim.Optimizer):\n",
    "    def __init__(self, params, base_optimizer, rho=0.05, **kwargs):\n",
    "        assert rho >= 0.0, f\"Invalid rho, should be non-negative: {rho}\"\n",
    "\n",
    "        defaults = dict(rho=rho, **kwargs)\n",
    "        super(SAM, self).__init__(params, defaults)\n",
    "\n",
    "        self.base_optimizer = base_optimizer(self.param_groups, **kwargs)\n",
    "        self.param_groups = self.base_optimizer.param_groups\n",
    "\n",
    "    @torch.no_grad()\n",
    "    def first_step(self, zero_grad=False):\n",
    "        grad_norm = self._grad_norm()\n",
    "        for group in self.param_groups:\n",
    "            scale = group[\"rho\"] / (grad_norm + 1e-12)\n",
    "\n",
    "            for p in group[\"params\"]:\n",
    "                if p.grad is None: continue\n",
    "                e_w = p.grad * scale.to(p)\n",
    "                p.add_(e_w)  # climb to the local maximum \"w + e(w)\"\n",
    "                self.state[p][\"e_w\"] = e_w\n",
    "\n",
    "        if zero_grad: self.zero_grad()\n",
    "\n",
    "    @torch.no_grad()\n",
    "    def second_step(self, zero_grad=False):\n",
    "        for group in self.param_groups:\n",
    "            for p in group[\"params\"]:\n",
    "                if p.grad is None: continue\n",
    "                p.sub_(self.state[p][\"e_w\"])  # get back to \"w\" from \"w + e(w)\"\n",
    "\n",
    "        self.base_optimizer.step()  # do the actual \"sharpness-aware\" update\n",
    "\n",
    "        if zero_grad: self.zero_grad()\n",
    "\n",
    "    @torch.no_grad()\n",
    "    def step(self, closure=None):\n",
    "        assert closure is not None, \"Sharpness Aware Minimization requires closure, but it was not provided\"\n",
    "        closure = torch.enable_grad()(closure)  # the closure should do a full forward-backward pass\n",
    "\n",
    "        self.first_step(zero_grad=True)\n",
    "        closure()\n",
    "        self.second_step()\n",
    "\n",
    "    def _grad_norm(self):\n",
    "        shared_device = self.param_groups[0][\"params\"][0].device  # put everything on the same device, in case of model parallelism\n",
    "        norm = torch.norm(\n",
    "                    torch.stack([\n",
    "                        p.grad.norm(p=2).to(shared_device)\n",
    "                        for group in self.param_groups for p in group[\"params\"]\n",
    "                        if p.grad is not None\n",
    "                    ]),\n",
    "                    p=2\n",
    "               )\n",
    "        return norm"
   ]
  },
  {
   "cell_type": "markdown",
   "id": "1aaffd8d-b025-42c1-8dd8-69529487389e",
   "metadata": {
    "id": "1aaffd8d-b025-42c1-8dd8-69529487389e"
   },
   "source": [
    "## MultiScale Trainer"
   ]
  },
  {
   "cell_type": "code",
   "execution_count": 21,
   "id": "5faaac1b-64c3-4659-82de-d4309502f29a",
   "metadata": {
    "executionInfo": {
     "elapsed": 277,
     "status": "ok",
     "timestamp": 1630047330626,
     "user": {
      "displayName": "박기돈",
      "photoUrl": "https://lh3.googleusercontent.com/a-/AOh14GhVEYQCp6v5ebpmCrZSsSB10iVBTuKIfM20WSM_=s64",
      "userId": "12822433786877269578"
     },
     "user_tz": -540
    },
    "id": "5faaac1b-64c3-4659-82de-d4309502f29a"
   },
   "outputs": [],
   "source": [
    "class MultiScale_Trainer():\n",
    "    \"\"\" Trainer\n",
    "        epoch에 대한 학습 및 검증 절차 정의\n",
    "    \"\"\"\n",
    "    def __init__(self, criterion, model, device, metric_fn, scales, optimizer=None, scheduler=None, logger=None):\n",
    "        \"\"\" 초기화\n",
    "        \"\"\"\n",
    "        \n",
    "        self.scales = scales\n",
    "        self.scales_max_index = len(self.scales) - 1\n",
    "        self.criterion = criterion\n",
    "        self.model = model\n",
    "        self.device = device\n",
    "        self.optimizer = optimizer\n",
    "        self.logger = logger\n",
    "        self.scheduler = scheduler\n",
    "        self.metric_fn = metric_fn\n",
    "\n",
    "    def train_epoch(self, dataloader, epoch_index):\n",
    "        \"\"\" 한 epoch에서 수행되는 학습 절차\n",
    "        \"\"\"\n",
    "        self.model.train()\n",
    "        train_total_loss = 0\n",
    "        target_lst = []\n",
    "        pred_lst = []\n",
    "        prob_lst = []\n",
    "\n",
    "        for batch_index, (img, label) in enumerate(dataloader):\n",
    "            \n",
    "            img = TF.resize(img, self.scales[np.random.randint(0, self.scales_max_index)])\n",
    "            img = img.to(self.device)\n",
    "            label = label.to(self.device).long()\n",
    "            pred = self.model(img)\n",
    "            loss = self.criterion(pred, label)\n",
    "            self.optimizer.zero_grad()\n",
    "            loss.backward()\n",
    "            self.optimizer.step()\n",
    "            self.scheduler.step()\n",
    "            train_total_loss += loss.item()\n",
    "            prob_lst.extend(pred[:, 1].cpu().tolist())\n",
    "            target_lst.extend(label.cpu().tolist())\n",
    "            pred_lst.extend(pred.argmax(dim=1).cpu().tolist())\n",
    "        self.train_mean_loss = train_total_loss / batch_index\n",
    "        self.train_score, auroc = self.metric_fn(y_pred=pred_lst, y_answer=target_lst, y_prob=prob_lst)\n",
    "        msg = f'Epoch {epoch_index}, Train loss: {self.train_mean_loss}, Acc: {self.train_score}, ROC: {auroc}'\n",
    "        print(msg)\n",
    "\n",
    "    def validate_epoch(self, dataloader, epoch_index):\n",
    "        \"\"\" 한 epoch에서 수행되는 검증 절차\n",
    "        \"\"\"\n",
    "        self.model.eval()\n",
    "        val_total_loss = 0\n",
    "        target_lst = []\n",
    "        pred_lst = []\n",
    "        prob_lst = []\n",
    "\n",
    "        for batch_index, (img, label) in enumerate(dataloader):\n",
    "            img = img.to(self.device)\n",
    "            label = label.to(self.device).long()\n",
    "            pred = self.model(img)\n",
    "            ## coordinate loss\n",
    "            loss = self.criterion(pred, label)\n",
    "            val_total_loss += loss.item()\n",
    "            prob_lst.extend(pred[:, 1].cpu().tolist())\n",
    "            target_lst.extend(label.cpu().tolist())\n",
    "            pred_lst.extend(pred.argmax(dim=1).cpu().tolist())\n",
    "        self.val_mean_loss = val_total_loss / batch_index\n",
    "        self.validation_score, auroc = self.metric_fn(y_pred=pred_lst, y_answer=target_lst, y_prob=prob_lst)\n",
    "        msg = f'Epoch {epoch_index}, Val loss: {self.val_mean_loss}, Acc: {self.validation_score}, ROC: {auroc}'\n",
    "        print(msg)\n",
    "    \n"
   ]
  },
  {
   "cell_type": "markdown",
   "id": "e8397f3c-bb85-4bf5-928c-ed4ce82ae232",
   "metadata": {},
   "source": [
    "# SAM Trainer"
   ]
  },
  {
   "cell_type": "code",
   "execution_count": 22,
   "id": "6ebf28b9-1118-417e-8122-02f6bfd33624",
   "metadata": {},
   "outputs": [],
   "source": [
    "class SAM_Trainer():\n",
    "    \"\"\" Trainer\n",
    "        epoch에 대한 학습 및 검증 절차 정의\n",
    "    \"\"\"\n",
    "    def __init__(self, criterion, model, device, metric_fn, optimizer=None, scheduler=None, logger=None):\n",
    "        \"\"\" 초기화\n",
    "        \"\"\"\n",
    "        \n",
    "        self.criterion = criterion\n",
    "        self.model = model\n",
    "        self.device = device\n",
    "        self.optimizer = optimizer\n",
    "        self.logger = logger\n",
    "        self.scheduler = scheduler\n",
    "        self.metric_fn = metric_fn\n",
    "\n",
    "    def train_epoch(self, dataloader, epoch_index):\n",
    "        \"\"\" 한 epoch에서 수행되는 학습 절차\n",
    "        \"\"\"\n",
    "        self.model.train()\n",
    "        train_total_loss = 0\n",
    "        target_lst = []\n",
    "        pred_lst = []\n",
    "        prob_lst = []\n",
    "\n",
    "        for batch_index, (img, label) in enumerate(dataloader):\n",
    "        \n",
    "            img = img.to(self.device)\n",
    "            label = label.to(self.device).long()\n",
    "            pred = self.model(img)\n",
    "            loss = self.criterion(pred, label)\n",
    "            loss.backward()\n",
    "            self.optimizer.first_step(zero_grad=True)\n",
    "            self.criterion(self.model(img), label).backward()\n",
    "            self.optimizer.second_step(zero_grad=True)\n",
    "            \n",
    "            self.scheduler.step()\n",
    "            train_total_loss += loss.item()\n",
    "            prob_lst.extend(pred[:, 1].cpu().tolist())\n",
    "            target_lst.extend(label.cpu().tolist())\n",
    "            pred_lst.extend(pred.argmax(dim=1).cpu().tolist())\n",
    "        self.train_mean_loss = train_total_loss / batch_index\n",
    "        self.train_score, auroc = self.metric_fn(y_pred=pred_lst, y_answer=target_lst, y_prob=prob_lst)\n",
    "        msg = f'Epoch {epoch_index}, Train loss: {self.train_mean_loss}, Acc: {self.train_score}, ROC: {auroc}'\n",
    "        print(msg)\n",
    "\n",
    "    def validate_epoch(self, dataloader, epoch_index):\n",
    "        \"\"\" 한 epoch에서 수행되는 검증 절차\n",
    "        \"\"\"\n",
    "        self.model.eval()\n",
    "        val_total_loss = 0\n",
    "        target_lst = []\n",
    "        pred_lst = []\n",
    "        prob_lst = []\n",
    "\n",
    "        for batch_index, (img, label) in enumerate(dataloader):\n",
    "            img = img.to(self.device)\n",
    "            label = label.to(self.device).long()\n",
    "            pred = self.model(img)\n",
    "            ## coordinate loss\n",
    "            loss = self.criterion(pred, label)\n",
    "            val_total_loss += loss.item()\n",
    "            prob_lst.extend(pred[:, 1].cpu().tolist())\n",
    "            target_lst.extend(label.cpu().tolist())\n",
    "            pred_lst.extend(pred.argmax(dim=1).cpu().tolist())\n",
    "        self.val_mean_loss = val_total_loss / batch_index\n",
    "        self.validation_score, auroc = self.metric_fn(y_pred=pred_lst, y_answer=target_lst, y_prob=prob_lst)\n",
    "        msg = f'Epoch {epoch_index}, Val loss: {self.val_mean_loss}, Acc: {self.validation_score}, ROC: {auroc}'\n",
    "        print(msg)\n",
    "    \n"
   ]
  },
  {
   "cell_type": "markdown",
   "id": "e2aca506-d168-4c9f-8eca-5cdecb122961",
   "metadata": {
    "id": "e2aca506-d168-4c9f-8eca-5cdecb122961"
   },
   "source": [
    "## Metrics"
   ]
  },
  {
   "cell_type": "code",
   "execution_count": 23,
   "id": "33678d90-a254-48d5-bf09-2a817eeafea3",
   "metadata": {
    "executionInfo": {
     "elapsed": 799,
     "status": "ok",
     "timestamp": 1630047333382,
     "user": {
      "displayName": "박기돈",
      "photoUrl": "https://lh3.googleusercontent.com/a-/AOh14GhVEYQCp6v5ebpmCrZSsSB10iVBTuKIfM20WSM_=s64",
      "userId": "12822433786877269578"
     },
     "user_tz": -540
    },
    "id": "33678d90-a254-48d5-bf09-2a817eeafea3"
   },
   "outputs": [],
   "source": [
    "from sklearn.metrics import accuracy_score, roc_auc_score\n",
    "\n",
    "def get_metric_fn(y_pred, y_answer, y_prob):\n",
    "    \"\"\" 성능을 반환하는 함수\n",
    "    \"\"\"\n",
    "    assert len(y_pred) == len(y_answer), 'The size of prediction and answer are not same.'\n",
    "    accuracy = accuracy_score(y_answer, y_pred)\n",
    "    auroc = roc_auc_score(y_answer, y_prob)\n",
    "    return accuracy, auroc"
   ]
  },
  {
   "cell_type": "code",
   "execution_count": 24,
   "id": "c20b881c-efdd-4512-bf48-bb36a6c34672",
   "metadata": {},
   "outputs": [],
   "source": [
    "class TaylorSoftmax(nn.Module):\n",
    "\n",
    "    def __init__(self, dim=1, n=2):\n",
    "        super(TaylorSoftmax, self).__init__()\n",
    "        assert n % 2 == 0\n",
    "        self.dim = dim\n",
    "        self.n = n\n",
    "\n",
    "    def forward(self, x):\n",
    "        \n",
    "        fn = torch.ones_like(x)\n",
    "        denor = 1.\n",
    "        for i in range(1, self.n+1):\n",
    "            denor *= i\n",
    "            fn = fn + x.pow(i) / denor\n",
    "        out = fn / fn.sum(dim=self.dim, keepdims=True)\n",
    "        return out\n",
    "    \n",
    "class LabelSmoothingLoss(nn.Module):\n",
    "\n",
    "    def __init__(self, classes, smoothing=0.0, dim=-1): \n",
    "        super(LabelSmoothingLoss, self).__init__() \n",
    "        self.confidence = 1.0 - smoothing \n",
    "        self.smoothing = smoothing \n",
    "        self.cls = classes \n",
    "        self.dim = dim \n",
    "    def forward(self, pred, target): \n",
    "        \"\"\"Taylor Softmax and log are already applied on the logits\"\"\"\n",
    "        #pred = pred.log_softmax(dim=self.dim) \n",
    "        with torch.no_grad(): \n",
    "            true_dist = torch.zeros_like(pred) \n",
    "            true_dist.fill_(self.smoothing / (self.cls - 1)) \n",
    "            true_dist.scatter_(1, target.data.unsqueeze(1), self.confidence) \n",
    "        return torch.mean(torch.sum(-true_dist * pred, dim=self.dim))\n",
    "    \n",
    "class TaylorCrossEntropyLoss(nn.Module):\n",
    "\n",
    "    def __init__(self, n=2, ignore_index=-1, reduction='mean', smoothing=0.1):\n",
    "        super(TaylorCrossEntropyLoss, self).__init__()\n",
    "        assert n % 2 == 0\n",
    "        self.taylor_softmax = TaylorSoftmax(dim=1, n=n)\n",
    "        self.reduction = reduction\n",
    "        self.ignore_index = ignore_index\n",
    "        self.lab_smooth = LabelSmoothingLoss(2, smoothing=smoothing)\n",
    "\n",
    "    def forward(self, logits, labels):\n",
    "\n",
    "        log_probs = self.taylor_softmax(logits).log()\n",
    "        #loss = F.nll_loss(log_probs, labels, reduction=self.reduction,\n",
    "        #        ignore_index=self.ignore_index)\n",
    "        loss = self.lab_smooth(log_probs, labels)\n",
    "        return loss"
   ]
  },
  {
   "cell_type": "markdown",
   "id": "75bbba92-b53c-499f-b5f9-b6ac3edde331",
   "metadata": {
    "id": "75bbba92-b53c-499f-b5f9-b6ac3edde331"
   },
   "source": [
    "#### Test set Loader"
   ]
  },
  {
   "cell_type": "code",
   "execution_count": 25,
   "id": "4a60a4c6-306e-499d-b071-2ab39b795b96",
   "metadata": {},
   "outputs": [],
   "source": [
    "TEST_ANNOT_DIR = os.path.join(ROOT_PATH, 'test_annot')"
   ]
  },
  {
   "cell_type": "code",
   "execution_count": 26,
   "id": "a52193e8-3033-4d4b-9d00-754be781170c",
   "metadata": {},
   "outputs": [],
   "source": [
    "class CheckDataset(Dataset):\n",
    "    def __init__(self, db, mode, transform):\n",
    "\n",
    "        self.db = db\n",
    "        self.mode = mode\n",
    "        self.transform = transform\n",
    "\n",
    "    def __len__(self):\n",
    "        return len(self.db)\n",
    "\n",
    "    def __getitem__(self, index):\n",
    "        data = copy.deepcopy(self.db.loc[index])\n",
    "\n",
    "        # Loading image\n",
    "        cvimg = cv2.imread(data['img_path'], cv2.IMREAD_COLOR | cv2.IMREAD_IGNORE_ORIENTATION)\n",
    "        if not isinstance(cvimg, np.ndarray):\n",
    "            raise IOError(\"Fail to read %s\" % data['img_path'])\n",
    "\n",
    "        # Preprocessing images\n",
    "        trans_image = self.transform(Image.fromarray(cvimg))\n",
    "\n",
    "        return trans_image, data['label']\n"
   ]
  },
  {
   "cell_type": "code",
   "execution_count": 27,
   "id": "ff2e6cb0-159f-4a25-bb72-779a09b4ba51",
   "metadata": {},
   "outputs": [],
   "source": [
    "def check_loader(data_dir=TEST_ANNOT_DIR):\n",
    "    print('Loading ' + ' dataset..')\n",
    "    if not os.path.isdir(data_dir):\n",
    "        print(f'!!! Cannot find {data_dir}... !!!')\n",
    "        sys.exit()\n",
    "        \n",
    "    mask_image_list = os.listdir(os.path.join(data_dir, 'Mask'))\n",
    "    nomask_image_list = os.listdir(os.path.join(data_dir, 'NoMask'))\n",
    "    mask_image_list = [item for item in mask_image_list if item[-4:] == '.png']\n",
    "    nomask_image_list = [item for item in nomask_image_list  if item[-4:] == '.png']\n",
    "    mask_image_path = list(map(lambda x : os.path.join(data_dir, 'Mask', x), mask_image_list))\n",
    "    nomask_image_path = list(map(lambda x : os.path.join(data_dir, 'NoMask', x), nomask_image_list))\n",
    "\n",
    "    # encoding label (Mask : 1, No Mask : 0)\n",
    "    mask_df = pd.DataFrame({'img_path':mask_image_path, 'label':np.ones(len(mask_image_list))})\n",
    "    nomask_df = pd.DataFrame({'img_path':nomask_image_path, 'label':np.zeros(len(nomask_image_list))})\n",
    "    db = mask_df.append(nomask_df, ignore_index=True)\n",
    "    return db"
   ]
  },
  {
   "cell_type": "code",
   "execution_count": 28,
   "id": "30a3f76d-abfe-4a26-a15a-8626de7221ce",
   "metadata": {},
   "outputs": [],
   "source": [
    "if os.path.isfile(os.path.join(TEST_ANNOT_DIR, 'test.pkl')):\n",
    "    test_db = pd.read_pickle(os.path.join(TEST_ANNOT_DIR, 'test.pkl'))\n",
    "else:\n",
    "    test_db = check_loader()\n",
    "    test_db.to_pickle(os.path.join(TEST_ANNOT_DIR, 'test.pkl'))"
   ]
  },
  {
   "cell_type": "code",
   "execution_count": 29,
   "id": "79d51d04-ea62-466d-b988-4e782c9aa5f6",
   "metadata": {},
   "outputs": [],
   "source": [
    "class TestDataset(Dataset):\n",
    "    def __init__(self, data_dir, input_shape):\n",
    "        self.data_dir = data_dir\n",
    "        self.input_shape = input_shape\n",
    "        \n",
    "        # Loading dataset\n",
    "        self.db = self.data_loader()\n",
    "        \n",
    "        # Transform function\n",
    "        self.transform = transforms.Compose([transforms.Resize(self.input_shape), transforms.ToTensor(), transforms.Normalize([0.485, 0.456, 0.406], [0.229, 0.224, 0.225])])\n",
    "\n",
    "    def data_loader(self):\n",
    "        print('Loading test dataset..')\n",
    "        if not os.path.isdir(self.data_dir):\n",
    "            print(f'!!! Cannot find {self.data_dir}... !!!')\n",
    "            sys.exit()\n",
    "        image_list = os.listdir(self.data_dir)\n",
    "        image_list = [item for item in image_list if item[-4:] == '.png']\n",
    "        image_path = list(map(lambda x : os.path.join(self.data_dir, x), image_list))\n",
    "        db = pd.DataFrame({'img_path':image_path, 'file_num':list(map(lambda x : x.split('.')[0], image_list))})\n",
    "        return db\n",
    "    \n",
    "    def __len__(self):\n",
    "        return len(self.db)\n",
    "    \n",
    "    def __getitem__(self, index):\n",
    "        data = copy.deepcopy(self.db.loc[index])\n",
    "        \n",
    "        # Loading image\n",
    "        cvimg = cv2.imread(data['img_path'], cv2.IMREAD_COLOR | cv2.IMREAD_IGNORE_ORIENTATION)\n",
    "        if not isinstance(cvimg, np.ndarray):\n",
    "            raise IOError(\"Fail to read %s\" % data['img_path'])\n",
    "\n",
    "        # Preprocessing images\n",
    "        trans_image = self.transform(Image.fromarray(cvimg))\n",
    "\n",
    "        return trans_image, data['file_num']"
   ]
  },
  {
   "cell_type": "code",
   "execution_count": 30,
   "id": "078c24da-fa47-4b4f-a36c-db1c961143b1",
   "metadata": {},
   "outputs": [],
   "source": [
    "transform = transforms.Compose([\n",
    "                                transforms.Resize(INPUT_SHAPE),\n",
    "                                transforms.ToTensor(), \n",
    "                                transforms.Normalize([0.485, 0.456, 0.406], [0.229, 0.224, 0.225])])"
   ]
  },
  {
   "cell_type": "code",
   "execution_count": 31,
   "id": "cdd31a3d-08cd-48fc-87b0-137976d4d4bb",
   "metadata": {
    "colab": {
     "base_uri": "https://localhost:8080/"
    },
    "executionInfo": {
     "elapsed": 6127,
     "status": "ok",
     "timestamp": 1630047496452,
     "user": {
      "displayName": "박기돈",
      "photoUrl": "https://lh3.googleusercontent.com/a-/AOh14GhVEYQCp6v5ebpmCrZSsSB10iVBTuKIfM20WSM_=s64",
      "userId": "12822433786877269578"
     },
     "user_tz": -540
    },
    "id": "cdd31a3d-08cd-48fc-87b0-137976d4d4bb",
    "outputId": "191d15b8-07ab-4d56-a2af-071ec0ec4b8c"
   },
   "outputs": [],
   "source": [
    "check_dataset = CheckDataset(db=test_db, mode='check', transform=transform)\n",
    "check_dataloader = DataLoader(check_dataset, batch_size=BATCH_SIZE, shuffle=False)"
   ]
  },
  {
   "cell_type": "code",
   "execution_count": 32,
   "id": "8ac79993-ec06-425d-8934-dad2f1d2ae80",
   "metadata": {},
   "outputs": [
    {
     "name": "stdout",
     "output_type": "stream",
     "text": [
      "Loading test dataset..\n"
     ]
    }
   ],
   "source": [
    "test_dataset = TestDataset(data_dir=TEST_DIR, input_shape=INPUT_SHAPE)\n",
    "test_dataloader = DataLoader(dataset=test_dataset, batch_size=BATCH_SIZE, shuffle=False)"
   ]
  },
  {
   "cell_type": "markdown",
   "id": "97d796ac-7b07-44ac-b453-40699fbc1336",
   "metadata": {},
   "source": [
    "# Misc."
   ]
  },
  {
   "cell_type": "code",
   "execution_count": 33,
   "id": "e60e2016-ef06-4ae9-8ac1-948347c4b9fb",
   "metadata": {},
   "outputs": [],
   "source": [
    "def plot_loss(train_loss_history, valid_loss_history, backbone):\n",
    "    plt.plot(train_loss_history, label=\"train loss\")\n",
    "    plt.plot(valid_loss_history, label=\"valid loss\")\n",
    "    plt.legend()\n",
    "    plt.title(backbone)\n",
    "    plt.show()\n",
    "\n",
    "def plot_acc(train_acc_history, valid_acc_history, backbone):\n",
    "    plt.plot(train_acc_history, label=\"train acc\")\n",
    "    plt.plot(valid_acc_history, label=\"valid acc\")\n",
    "    plt.legend()\n",
    "    plt.title(backbone)\n",
    "    plt.show()"
   ]
  },
  {
   "cell_type": "code",
   "execution_count": 34,
   "id": "c41f1889-f394-4226-b535-5c9e554db26a",
   "metadata": {},
   "outputs": [],
   "source": [
    "def wait_and_flush():\n",
    "    \n",
    "    print(\"waiting...\")\n",
    "    \n",
    "    time.sleep(120)\n",
    "    \n",
    "    gc.collect()\n",
    "    torch.cuda.empty_cache()\n",
    "    print(\"flushing...\")\n",
    "    time.sleep(60)\n",
    "    \n",
    "    gc.collect()\n",
    "    torch.cuda.empty_cache()\n",
    "    print(\"done!\")"
   ]
  },
  {
   "cell_type": "code",
   "execution_count": 35,
   "id": "a5fcfeb6-c198-4906-90c5-5254bbb36bb2",
   "metadata": {},
   "outputs": [],
   "source": [
    "def pretty_size(size):\n",
    "\n",
    "    \"\"\"Pretty prints a torch.Size object\"\"\"\n",
    "    assert(isinstance(size, torch.Size))\n",
    "    return \" × \".join(map(str, size))\n",
    "\n",
    "def dump_tensors(gpu_only=True):\n",
    "    \"\"\"Prints a list of the Tensors being tracked by the garbage collector.\"\"\"\n",
    "    import gc\n",
    "    total_size = 0\n",
    "    for obj in gc.get_objects():\n",
    "        try:\n",
    "            if torch.is_tensor(obj):\n",
    "                if not gpu_only or obj.is_cuda:\n",
    "                    print(\"%s:%s%s %s\" % (type(obj).__name__, \n",
    "                                          \" GPU\" if obj.is_cuda else \"\",\n",
    "                                          \" pinned\" if obj.is_pinned else \"\",\n",
    "                                          pretty_size(obj.size())))\n",
    "                    total_size += obj.numel()\n",
    "            elif hasattr(obj, \"data\") and torch.is_tensor(obj.data):\n",
    "                if not gpu_only or obj.is_cuda:\n",
    "                    print(\"%s → %s:%s%s%s%s %s\" % (type(obj).__name__, \n",
    "                                                   type(obj.data).__name__, \n",
    "                                                   \" GPU\" if obj.is_cuda else \"\",\n",
    "                                                   \" pinned\" if obj.data.is_pinned else \"\",\n",
    "                                                   \" grad\" if obj.requires_grad else \"\", \n",
    "                                                   \" volatile\" if obj.volatile else \"\",\n",
    "                                                   pretty_size(obj.data.size())))\n",
    "                    total_size += obj.data.numel()\n",
    "        except Exception as e:\n",
    "            pass        \n",
    "    print(\"Total size:\", total_size)\n",
    "\n",
    "# dump_tensors()"
   ]
  },
  {
   "cell_type": "markdown",
   "id": "00409945-7c70-4633-8923-1e48d17053de",
   "metadata": {},
   "source": [
    "# 학습 Function"
   ]
  },
  {
   "cell_type": "code",
   "execution_count": 36,
   "id": "a9f17d1e-e9ee-4b9f-ab39-6d6b15073c3e",
   "metadata": {},
   "outputs": [],
   "source": [
    "def EFF_train_val_infer(BACKBONE):\n",
    "    model = EFFMaskClassifier(BACKBONE).to(device)\n",
    "    # For Multi-GPU\n",
    "#     os.environ[\"CUDA_VISIBLE_DEVICES\"] = '0, 1'\n",
    "#     model = nn.DataParallel(model)\n",
    "\n",
    "    # Set optimizer, scheduler, loss function, metric function\n",
    "    base_optimizer = AdamP\n",
    "    optimizer = SAM(model.parameters(), base_optimizer, lr=LEARNING_RATE, weight_decay=WEIGHT_DECAY)\n",
    "    scheduler =  optim.lr_scheduler.CosineAnnealingWarmRestarts(\n",
    "        optimizer, T_0=6, T_mult=1, eta_min=1e-7)\n",
    "    # criterion = TaylorCrossEntropyLoss(n=2, smoothing=0.1)\n",
    "    criterion = nn.CrossEntropyLoss()\n",
    "#     criterion = nn.BCEWithLogitsLoss()\n",
    "    metric_fn = get_metric_fn\n",
    "\n",
    "    # Set system logger\n",
    "    system_logger = get_logger(name='train',file_path='train_log.log')\n",
    "\n",
    "    # Set trainer\n",
    "    scales = [\n",
    "        [140, 70], [180, 90], [220, 110], \n",
    "        [260, 130], [300, 150], [340, 170],\n",
    "        [380, 190], [420, 210], [460, 230]\n",
    "             ]\n",
    "\n",
    "    trainer = SAM_Trainer(criterion, model, device, metric_fn, optimizer, scheduler, logger=system_logger)\n",
    "    # trainer = MultiScale_Trainer(criterion, model, device, metric_fn, scales, optimizer, scheduler, logger=system_logger)\n",
    "\n",
    "    train_loss_history = []\n",
    "    train_acc_history = []\n",
    "\n",
    "    valid_loss_history = []\n",
    "    valid_acc_history = []\n",
    "\n",
    "    best_val_loss = None\n",
    "    best_val_acc = None\n",
    "    \n",
    "    for epoch_index in tqdm(range(EPOCHS)):\n",
    "\n",
    "        trainer.train_epoch(train_dataloader, epoch_index)\n",
    "        trainer.validate_epoch(validation_dataloader, epoch_index)\n",
    "\n",
    "        train_loss_history.append(trainer.train_mean_loss)\n",
    "        train_acc_history.append(trainer.train_score)\n",
    "\n",
    "        valid_loss_history.append(trainer.val_mean_loss)\n",
    "        valid_acc_history.append(trainer.validation_score)\n",
    "\n",
    "        # don't use early stopper\n",
    "\n",
    "        if best_val_loss == None or trainer.val_mean_loss < best_val_loss:\n",
    "            best_val_loss = trainer.val_mean_loss\n",
    "            criterion = trainer.val_mean_loss\n",
    "            check_point = {\n",
    "                'model': model.state_dict(),\n",
    "                'optimizer': optimizer.state_dict(),\n",
    "                'scheduler': scheduler.state_dict()\n",
    "            }\n",
    "            torch.save(check_point, os.path.join(WEIGHT_DIR, f'{BACKBONE}_SAM_AdamP_v2_best.pt'))\n",
    "\n",
    "    best_val_acc = max(valid_acc_history)\n",
    "\n",
    "    plot_loss(train_loss_history, valid_loss_history, BACKBONE)\n",
    "    plot_acc(train_acc_history, valid_acc_history, BACKBONE)\n",
    "    \n",
    "    TRAINED_MODEL_PATH = os.path.join(WEIGHT_DIR, f'{BACKBONE}_SAM_AdamP_v2_best.pt')\n",
    "    \n",
    "    model.load_state_dict(torch.load(TRAINED_MODEL_PATH)['model'])\n",
    "\n",
    "    # Prediction\n",
    "    file_num_lst = []\n",
    "    pred_lst = []\n",
    "    prob_lst = []\n",
    "    model.eval()\n",
    "    with torch.no_grad():\n",
    "        for batch_index, (img, file_num) in enumerate(test_dataloader):\n",
    "            img = img.to(device)\n",
    "            pred = model(img)\n",
    "            pred = F.softmax(pred)\n",
    "            file_num_lst.extend(list(file_num))\n",
    "            \n",
    "            prob_lst.extend(pred[:, 1].cpu().tolist())\n",
    "            pred_lst.extend(pred.argmax(dim=1).cpu().tolist())\n",
    "\n",
    "    df = pd.DataFrame({'file_name':list(map(int,file_num_lst)), 'answer':pred_lst, 'prob':prob_lst})\n",
    "    df.sort_values(by=['file_name'], inplace=True)\n",
    "    df.to_csv(os.path.join(RESULT_DIR, f'mask_pred_with_{BACKBONE}_SAM_AdamP_v2.csv'), index=False)\n",
    "\n",
    "    trainer.validate_epoch(check_dataloader, 0)\n",
    "    \n",
    "    # save data\n",
    "    \n",
    "    TIME = datetime.now().strftime('%m%d%H%M%S')\n",
    "\n",
    "    save_dict = {'backbone':BACKBONE,\n",
    "                 'time':TIME,\n",
    "                 'best_val_loss':best_val_loss,\n",
    "                 'best_val_acc':best_val_acc,\n",
    "                 'test_acc':None,\n",
    "                 'epochs':EPOCHS,\n",
    "                 'input_shape':INPUT_SHAPE,\n",
    "                 'augmentation':None,\n",
    "                 'optimizer':'SAM, AdamP',\n",
    "                 'scheduler':'CosineAnnealingWarmRestarts',\n",
    "                 'attention_module':None,\n",
    "                 'learning_rate':LEARNING_RATE,\n",
    "                 'batch_size':BATCH_SIZE,\n",
    "                 'loss':'CrossEntropyLoss',\n",
    "                 'freeze':None,\n",
    "                 'others':None,\n",
    "                 'randomeseed':seed,\n",
    "                 'train_loss':train_loss_history,\n",
    "                 'train_acc':train_acc_history,\n",
    "                 'valid_loss':valid_loss_history,\n",
    "                 'valid_acc':valid_acc_history}\n",
    "\n",
    "    \n",
    "    with open(f\"{os.path.join(NUMPY_DIR, BACKBONE)}_SAM_AdamP_v2_{TIME}.json\", 'w') as f:\n",
    "        json.dump(save_dict, f)\n",
    "    \n",
    "    wait_and_flush()"
   ]
  },
  {
   "cell_type": "code",
   "execution_count": 37,
   "id": "bf39f4e9-6b00-4bc6-ab84-85863b98ec96",
   "metadata": {},
   "outputs": [],
   "source": [
    "def NFN_train_val_infer(BACKBONE):\n",
    "    model = NFNMaskClassifier(BACKBONE).to(device)\n",
    "\n",
    "    # For Multi-GPU\n",
    "#     os.environ[\"CUDA_VISIBLE_DEVICES\"] = '0, 1'\n",
    "#     model = nn.DataParallel(model)\n",
    "\n",
    "    # Set optimizer, scheduler, loss function, metric function\n",
    "    base_optimizer = AdamP\n",
    "    optimizer = SAM(model.parameters(), base_optimizer, lr=LEARNING_RATE, weight_decay=WEIGHT_DECAY)\n",
    "    scheduler =  optim.lr_scheduler.CosineAnnealingWarmRestarts(\n",
    "        optimizer, T_0=6, T_mult=1, eta_min=1e-6)\n",
    "    # criterion = TaylorCrossEntropyLoss(n=2, smoothing=0.1)\n",
    "    criterion = nn.CrossEntropyLoss()\n",
    "#     criterion = nn.BCEWithLogitsLoss()\n",
    "    metric_fn = get_metric_fn\n",
    "\n",
    "    # Set system logger\n",
    "    system_logger = get_logger(name='train',file_path='train_log.log')\n",
    "\n",
    "    # Set trainer\n",
    "    scales = [\n",
    "        [140, 70], [180, 90], [220, 110], \n",
    "        [260, 130], [300, 150], [340, 170],\n",
    "        [380, 190], [420, 210], [460, 230]\n",
    "             ]\n",
    "\n",
    "    trainer = SAM_Trainer(criterion, model, device, metric_fn, optimizer, scheduler, logger=system_logger)\n",
    "    # trainer = MultiScale_Trainer(criterion, model, device, metric_fn, scales, optimizer, scheduler, logger=system_logger)\n",
    "\n",
    "    train_loss_history = []\n",
    "    train_acc_history = []\n",
    "\n",
    "    valid_loss_history = []\n",
    "    valid_acc_history = []\n",
    "\n",
    "    best_val_loss = None\n",
    "    best_val_acc = None\n",
    "\n",
    "    for epoch_index in tqdm(range(EPOCHS)):\n",
    "\n",
    "        trainer.train_epoch(train_dataloader, epoch_index)\n",
    "        trainer.validate_epoch(validation_dataloader, epoch_index)\n",
    "\n",
    "        train_loss_history.append(trainer.train_mean_loss)\n",
    "        train_acc_history.append(trainer.train_score)\n",
    "\n",
    "        valid_loss_history.append(trainer.val_mean_loss)\n",
    "        valid_acc_history.append(trainer.validation_score)\n",
    "\n",
    "        # don't use early stopper\n",
    "\n",
    "        if best_val_loss == None or trainer.val_mean_loss < best_val_loss:\n",
    "            best_val_loss = trainer.val_mean_loss\n",
    "            criterion = trainer.val_mean_loss\n",
    "            check_point = {\n",
    "                'model': model.state_dict(),\n",
    "                'optimizer': optimizer.state_dict(),\n",
    "                'scheduler': scheduler.state_dict()\n",
    "            }\n",
    "            torch.save(check_point, os.path.join(WEIGHT_DIR, f'{BACKBONE}_SAM_AdamP_v2_best.pt'))\n",
    "\n",
    "    best_val_acc = max(valid_acc_history)\n",
    "\n",
    "    plot_loss(train_loss_history, valid_loss_history, BACKBONE)\n",
    "    plot_acc(train_loss_history, valid_loss_history, BACKBONE)\n",
    "    \n",
    "    TRAINED_MODEL_PATH = os.path.join(WEIGHT_DIR, f'{BACKBONE}_SAM_AdamP_v2_best.pt')\n",
    "    \n",
    "    model.load_state_dict(torch.load(TRAINED_MODEL_PATH)['model'])\n",
    "\n",
    "    # Prediction\n",
    "    file_num_lst = []\n",
    "    pred_lst = []\n",
    "    prob_lst = []\n",
    "    model.eval()\n",
    "    with torch.no_grad():\n",
    "        for batch_index, (img, file_num) in enumerate(test_dataloader):\n",
    "            img = img.to(device)\n",
    "            pred = model(img)\n",
    "            pred = F.softmax(pred)\n",
    "            file_num_lst.extend(list(file_num))\n",
    "            prob_lst.extend(pred[:, 1].cpu().tolist())\n",
    "            pred_lst.extend(pred.argmax(dim=1).cpu().tolist())\n",
    "\n",
    "\n",
    "    df = pd.DataFrame({'file_name':list(map(int,file_num_lst)), 'answer':pred_lst, 'prob':prob_lst})\n",
    "    df.sort_values(by=['file_name'], inplace=True)\n",
    "    df.to_csv(os.path.join(RESULT_DIR, f'mask_pred_with_{BACKBONE}_SAM_AdamP_v2.csv'), index=False)\n",
    "\n",
    "    trainer.validate_epoch(check_dataloader, 0)\n",
    "    \n",
    "    # save data\n",
    "    \n",
    "    TIME = datetime.now().strftime('%m%d%H%M%S')\n",
    "\n",
    "    save_dict = {'backbone':BACKBONE,\n",
    "                 'time':TIME,\n",
    "                 'best_val_loss':best_val_loss,\n",
    "                 'best_val_acc':best_val_acc,\n",
    "                 'test_acc':None,\n",
    "                 'epochs':EPOCHS,\n",
    "                 'input_shape':INPUT_SHAPE,\n",
    "                 'augmentation':None,\n",
    "                 'optimizer':'SAM, AdamP',\n",
    "                 'scheduler':'CosineAnnealingWarmRestarts',\n",
    "                 'attention_module':None,\n",
    "                 'learning_rate':LEARNING_RATE,\n",
    "                 'batch_size':BATCH_SIZE,\n",
    "                 'loss':'CrossEntropyLoss',\n",
    "                 'freeze':None,\n",
    "                 'others':None,\n",
    "                 'randomeseed':seed,\n",
    "                 'train_loss':train_loss_history,\n",
    "                 'train_acc':train_acc_history,\n",
    "                 'valid_loss':valid_loss_history,\n",
    "                 'valid_acc':valid_acc_history}\n",
    "\n",
    "\n",
    "    with open(f\"{os.path.join(NUMPY_DIR, BACKBONE)}_SAM_AdamP_v2_{TIME}.json\", 'w') as f:\n",
    "        json.dump(save_dict, f)\n",
    "\n",
    "    wait_and_flush()"
   ]
  },
  {
   "cell_type": "code",
   "execution_count": 38,
   "id": "4ad3aa24-d241-469d-b623-f79450ae0d81",
   "metadata": {},
   "outputs": [],
   "source": [
    "def DEIT_train_val_infer(BACKBONE):\n",
    "    model = DEITMaskClassifier(BACKBONE).to(device)\n",
    "\n",
    "    # For Multi-GPU\n",
    "#     os.environ[\"CUDA_VISIBLE_DEVICES\"] = '0, 1'\n",
    "#     model = nn.DataParallel(model)\n",
    "\n",
    "    # Set optimizer, scheduler, loss function, metric function\n",
    "    base_optimizer = AdamP\n",
    "    optimizer = SAM(model.parameters(), base_optimizer, lr=LEARNING_RATE, weight_decay=WEIGHT_DECAY)\n",
    "    scheduler =  optim.lr_scheduler.CosineAnnealingWarmRestarts(\n",
    "        optimizer, T_0=6, T_mult=1, eta_min=1e-6)\n",
    "    # criterion = TaylorCrossEntropyLoss(n=2, smoothing=0.1)\n",
    "#     criterion = nn.BCEWithLogitsLoss()\n",
    "    criterion = nn.CrossEntropyLoss()\n",
    "    metric_fn = get_metric_fn\n",
    "\n",
    "    # Set system logger\n",
    "    system_logger = get_logger(name='train',file_path='train_log.log')\n",
    "\n",
    "    # Set trainer\n",
    "    scales = [\n",
    "        [140, 70], [180, 90], [220, 110], \n",
    "        [260, 130], [300, 150], [340, 170],\n",
    "        [380, 190], [420, 210], [460, 230]\n",
    "             ]\n",
    "\n",
    "    trainer = SAM_Trainer(criterion, model, device, metric_fn, optimizer, scheduler, logger=system_logger)\n",
    "    # trainer = MultiScale_Trainer(criterion, model, device, metric_fn, scales, optimizer, scheduler, logger=system_logger)\n",
    "\n",
    "    train_loss_history = []\n",
    "    train_acc_history = []\n",
    "\n",
    "    valid_loss_history = []\n",
    "    valid_acc_history = []\n",
    "\n",
    "    best_val_loss = None\n",
    "    best_val_acc = None\n",
    "\n",
    "    \n",
    "    for epoch_index in tqdm(range(EPOCHS)):\n",
    "\n",
    "        trainer.train_epoch(train_dataloader, epoch_index)\n",
    "        trainer.validate_epoch(validation_dataloader, epoch_index)\n",
    "\n",
    "        train_loss_history.append(trainer.train_mean_loss)\n",
    "        train_acc_history.append(trainer.train_score)\n",
    "\n",
    "        valid_loss_history.append(trainer.val_mean_loss)\n",
    "        valid_acc_history.append(trainer.validation_score)\n",
    "\n",
    "        # don't use early stopper\n",
    "\n",
    "        if best_val_loss == None or trainer.val_mean_loss < best_val_loss:\n",
    "            best_val_loss = trainer.val_mean_loss\n",
    "            criterion = trainer.val_mean_loss\n",
    "            check_point = {\n",
    "                'model': model.state_dict(),\n",
    "                'optimizer': optimizer.state_dict(),\n",
    "                'scheduler': scheduler.state_dict()\n",
    "            }\n",
    "            torch.save(check_point, os.path.join(WEIGHT_DIR, f'{BACKBONE}_SAM_AdamP_v2_best.pt'))\n",
    "\n",
    "    best_val_acc = max(valid_acc_history)\n",
    "\n",
    "    plot_loss(train_loss_history, valid_loss_history, BACKBONE)\n",
    "    plot_acc(train_loss_history, valid_loss_history, BACKBONE)\n",
    "    \n",
    "    TRAINED_MODEL_PATH = os.path.join(WEIGHT_DIR, f'{BACKBONE}_SAM_AdamP_v2_best.pt')\n",
    "    \n",
    "    model.load_state_dict(torch.load(TRAINED_MODEL_PATH)['model'])\n",
    "\n",
    "    # Prediction\n",
    "    file_num_lst = []\n",
    "    pred_lst = []\n",
    "    prob_lst = []\n",
    "    model.eval()\n",
    "    with torch.no_grad():\n",
    "        for batch_index, (img, file_num) in enumerate(test_dataloader):\n",
    "            img = img.to(device)\n",
    "            pred = F.softmax(model(img))\n",
    "            file_num_lst.extend(list(file_num))\n",
    "            prob_lst.extend(pred[:, 1].cpu().tolist())\n",
    "            pred_lst.extend(pred.argmax(dim=1).cpu().tolist())\n",
    "\n",
    "    df = pd.DataFrame({'file_name':list(map(int,file_num_lst)), 'answer':pred_lst, 'prob':prob_lst})\n",
    "    df.sort_values(by=['file_name'], inplace=True)\n",
    "    df.to_csv(os.path.join(RESULT_DIR, f'mask_pred_with_{BACKBONE}_SAM_AdamP_v2.csv'), index=False)\n",
    "\n",
    "    trainer.validate_epoch(check_dataloader, 0)\n",
    "    \n",
    "    # save data\n",
    "    \n",
    "    TIME = datetime.now().strftime('%m%d%H%M%S')\n",
    "\n",
    "    save_dict = {'backbone':BACKBONE,\n",
    "                 'time':TIME,\n",
    "                 'best_val_loss':best_val_loss,\n",
    "                 'best_val_acc':best_val_acc,\n",
    "                 'test_acc':None,\n",
    "                 'epochs':EPOCHS,\n",
    "                 'input_shape':INPUT_SHAPE,\n",
    "                 'augmentation':None,\n",
    "                 'optimizer':'SAM, AdamP',\n",
    "                 'scheduler':'CosineAnnealingWarmRestarts',\n",
    "                 'attention_module':None,\n",
    "                 'learning_rate':LEARNING_RATE,\n",
    "                 'batch_size':BATCH_SIZE,\n",
    "                 'loss':'CrossEntropyLoss',\n",
    "                 'freeze':None,\n",
    "                 'others':None,\n",
    "                 'randomeseed':seed,\n",
    "                 'train_loss':train_loss_history,\n",
    "                 'train_acc':train_acc_history,\n",
    "                 'valid_loss':valid_loss_history,\n",
    "                 'valid_acc':valid_acc_history}\n",
    "\n",
    "\n",
    "    with open(f\"{os.path.join(NUMPY_DIR, BACKBONE)}_SAM_AdamP_v2_{TIME}.json\", 'w') as f:\n",
    "        json.dump(save_dict, f)\n",
    "    \n",
    "    wait_and_flush()"
   ]
  },
  {
   "cell_type": "markdown",
   "id": "fde4d333-8cfa-4039-a9ef-865f07ec6956",
   "metadata": {},
   "source": [
    "# Debugging Purposes"
   ]
  },
  {
   "cell_type": "code",
   "execution_count": 39,
   "id": "b5354a12-0eec-4f97-84bc-fc3b0479aa88",
   "metadata": {},
   "outputs": [],
   "source": [
    "def DEBUG_train_val_infer(BACKBONE=\"debug\"):\n",
    "    model = DebuggerNet().to(device)\n",
    "\n",
    "    # For Multi-GPU\n",
    "#     os.environ[\"CUDA_VISIBLE_DEVICES\"] = '0, 1'\n",
    "#     model = nn.DataParallel(model)\n",
    "\n",
    "    # Set optimizer, scheduler, loss function, metric function\n",
    "    base_optimizer = AdamP\n",
    "    optimizer = SAM(model.parameters(), base_optimizer, lr=LEARNING_RATE, weight_decay=WEIGHT_DECAY)\n",
    "    scheduler =  optim.lr_scheduler.CosineAnnealingWarmRestarts(\n",
    "        optimizer, T_0=6, T_mult=1, eta_min=1e-6)\n",
    "    # criterion = TaylorCrossEntropyLoss(n=2, smoothing=0.1)\n",
    "#     criterion = nn.BCEWithLogitsLoss()\n",
    "    criterion = nn.CrossEntropyLoss()\n",
    "    metric_fn = get_metric_fn\n",
    "\n",
    "    # Set system logger\n",
    "    system_logger = get_logger(name='train',file_path='train_log.log')\n",
    "\n",
    "    # Set trainer\n",
    "    scales = [\n",
    "        [140, 70], [180, 90], [220, 110], \n",
    "        [260, 130], [300, 150], [340, 170],\n",
    "        [380, 190], [420, 210], [460, 230]\n",
    "             ]\n",
    "\n",
    "    trainer = SAM_Trainer(criterion, model, device, metric_fn, optimizer, scheduler, logger=system_logger)\n",
    "    # trainer = MultiScale_Trainer(criterion, model, device, metric_fn, scales, optimizer, scheduler, logger=system_logger)\n",
    "\n",
    "    train_loss_history = []\n",
    "    train_acc_history = []\n",
    "\n",
    "    valid_loss_history = []\n",
    "    valid_acc_history = []\n",
    "\n",
    "    best_val_loss = None\n",
    "    best_val_acc = None\n",
    "\n",
    "    \n",
    "    for epoch_index in tqdm(range(EPOCHS)):\n",
    "\n",
    "        trainer.train_epoch(train_dataloader, epoch_index)\n",
    "        trainer.validate_epoch(validation_dataloader, epoch_index)\n",
    "\n",
    "        train_loss_history.append(trainer.train_mean_loss)\n",
    "        train_acc_history.append(trainer.train_score)\n",
    "\n",
    "        valid_loss_history.append(trainer.val_mean_loss)\n",
    "        valid_acc_history.append(trainer.validation_score)\n",
    "\n",
    "        # don't use early stopper\n",
    "\n",
    "        if best_val_loss == None or trainer.val_mean_loss < best_val_loss:\n",
    "            best_val_loss = trainer.val_mean_loss\n",
    "            criterion = trainer.val_mean_loss\n",
    "            check_point = {\n",
    "                'model': model.state_dict(),\n",
    "                'optimizer': optimizer.state_dict(),\n",
    "                'scheduler': scheduler.state_dict()\n",
    "            }\n",
    "            torch.save(check_point, os.path.join(WEIGHT_DIR, f'{BACKBONE}_best.pt'))\n",
    "\n",
    "    best_val_acc = max(valid_acc_history)\n",
    "\n",
    "    plot_loss(train_loss_history, valid_loss_history, BACKBONE)\n",
    "    plot_acc(train_loss_history, valid_loss_history, BACKBONE)\n",
    "    \n",
    "    TRAINED_MODEL_PATH = os.path.join(WEIGHT_DIR, f'{BACKBONE}_best.pt')\n",
    "    \n",
    "    model.load_state_dict(torch.load(TRAINED_MODEL_PATH)['model'])\n",
    "\n",
    "    # Prediction\n",
    "    file_num_lst = []\n",
    "    pred_lst = []\n",
    "    prob_lst = []\n",
    "    model.eval()\n",
    "    with torch.no_grad():\n",
    "        for batch_index, (img, file_num) in enumerate(test_dataloader):\n",
    "            img = img.to(device)\n",
    "            pred = F.softmax(model(img))\n",
    "            file_num_lst.extend(list(file_num))\n",
    "            prob_lst.extend(pred[:, 1].cpu().tolist())\n",
    "            pred_lst.extend(pred.argmax(dim=1).cpu().tolist())\n",
    "\n",
    "    df = pd.DataFrame({'file_name':list(map(int,file_num_lst)), 'answer':pred_lst, 'prob':prob_lst})\n",
    "    df.sort_values(by=['file_name'], inplace=True)\n",
    "    df.to_csv(os.path.join(RESULT_DIR, f'mask_pred_with_{BACKBONE}.csv'), index=False)\n",
    "\n",
    "    trainer.validate_epoch(check_dataloader, 0)\n",
    "    \n",
    "    # save data\n",
    "    \n",
    "    TIME = datetime.now().strftime('%m%d%H%M%S')\n",
    "\n",
    "    save_dict = {'backbone':BACKBONE,\n",
    "                 'time':TIME,\n",
    "                 'best_val_loss':best_val_loss,\n",
    "                 'best_val_acc':best_val_acc,\n",
    "                 'test_acc':None,\n",
    "                 'epochs':EPOCHS,\n",
    "                 'input_shape':INPUT_SHAPE,\n",
    "                 'augmentation':None,\n",
    "                 'optimizer':'Adam',\n",
    "                 'scheduler':'CosineAnnealingWarmRestarts',\n",
    "                 'attention_module':None,\n",
    "                 'learning_rate':LEARNING_RATE,\n",
    "                 'batch_size':BATCH_SIZE,\n",
    "                 'loss':'CrossEntropyLoss',\n",
    "                 'freeze':None,\n",
    "                 'others':None,\n",
    "                 'randomeseed':seed,\n",
    "                 'train_loss':train_loss_history,\n",
    "                 'train_acc':train_acc_history,\n",
    "                 'valid_loss':valid_loss_history,\n",
    "                 'valid_acc':valid_acc_history}\n",
    "\n",
    "\n",
    "    with open(f\"{os.path.join(NUMPY_DIR, BACKBONE)}_{TIME}.json\", 'w') as f:\n",
    "        json.dump(save_dict, f)\n",
    "    \n",
    "    wait_and_flush()"
   ]
  },
  {
   "cell_type": "code",
   "execution_count": 40,
   "id": "7beec4f4-4449-4ecd-a066-53468a356ba7",
   "metadata": {},
   "outputs": [],
   "source": [
    "# DEBUG_train_val_infer()"
   ]
  },
  {
   "cell_type": "markdown",
   "id": "fb2efef2-1f51-46f9-8998-244846297a52",
   "metadata": {},
   "source": [
    "# 기차 = Train"
   ]
  },
  {
   "cell_type": "code",
   "execution_count": 41,
   "id": "493e3052-9938-4e15-a885-3e2f91109ca0",
   "metadata": {},
   "outputs": [],
   "source": [
    "save_csv = pd.DataFrame()"
   ]
  },
  {
   "cell_type": "markdown",
   "id": "7b13710a-5b6a-4b68-825d-1fc07e768490",
   "metadata": {},
   "source": [
    "# Efficient Family"
   ]
  },
  {
   "cell_type": "code",
   "execution_count": 42,
   "id": "07ccf8c6-28e9-4e41-ae01-24e14330eb23",
   "metadata": {},
   "outputs": [
    {
     "name": "stdout",
     "output_type": "stream",
     "text": [
      "3\n",
      "['tf_efficientnetv2_l_in21ft1k', 'tf_efficientnetv2_m_in21ft1k', 'tf_efficientnetv2_s_in21ft1k']\n"
     ]
    }
   ],
   "source": [
    "print(len(EFF_BACKBONES))\n",
    "print(EFF_BACKBONES)"
   ]
  },
  {
   "cell_type": "code",
   "execution_count": 44,
   "id": "7ee9d6ed-5704-48e0-aef9-d0fb0046e96b",
   "metadata": {},
   "outputs": [
    {
     "name": "stdout",
     "output_type": "stream",
     "text": [
      "\u001b[48;5;37m\u001b[38;5;255m    ⸂⸂⸜(രᴗര๑)⸝⸃⸃    tf_efficientnetv2_l_in21ft1k    ⸂⸂⸜(രᴗര๑)⸝⸃⸃    \u001b[0;0m\n"
     ]
    },
    {
     "name": "stderr",
     "output_type": "stream",
     "text": [
      "  0%|          | 0/20 [00:00<?, ?it/s]"
     ]
    },
    {
     "name": "stdout",
     "output_type": "stream",
     "text": [
      "Epoch 0, Train loss: 0.40685331036295164, Acc: 0.8175332130556011, ROC: 0.8876347784423188\n",
      "Epoch 0, Val loss: 0.29870876594937057, Acc: 0.8892988929889298, ROC: 0.9598491759682435\n"
     ]
    },
    {
     "name": "stderr",
     "output_type": "stream",
     "text": [
      "  5%|▌         | 1/20 [14:16<4:31:20, 856.85s/it]"
     ]
    },
    {
     "name": "stdout",
     "output_type": "stream",
     "text": [
      "Epoch 1, Train loss: 0.24269291861202774, Acc: 0.9072494669509595, ROC: 0.9696490673715863\n",
      "Epoch 1, Val loss: 0.2081449283342037, Acc: 0.9261992619926199, ROC: 0.9842421655263655\n"
     ]
    },
    {
     "name": "stderr",
     "output_type": "stream",
     "text": [
      " 10%|█         | 2/20 [28:28<4:16:06, 853.71s/it]"
     ]
    },
    {
     "name": "stdout",
     "output_type": "stream",
     "text": [
      "Epoch 2, Train loss: 0.1544074883068523, Acc: 0.9479252091192389, ROC: 0.9888818441324659\n",
      "Epoch 2, Val loss: 0.13704383061901176, Acc: 0.9490774907749078, ROC: 0.9922726647046465\n"
     ]
    },
    {
     "name": "stderr",
     "output_type": "stream",
     "text": [
      " 15%|█▌        | 3/20 [43:23<4:07:16, 872.72s/it]"
     ]
    },
    {
     "name": "stdout",
     "output_type": "stream",
     "text": [
      "Epoch 3, Train loss: 0.0950191183525365, Acc: 0.9708463178612432, ROC: 0.9963964887444122\n",
      "Epoch 3, Val loss: 0.10715517147923627, Acc: 0.9642066420664207, ROC: 0.9948857813352474\n"
     ]
    },
    {
     "name": "stderr",
     "output_type": "stream",
     "text": [
      " 20%|██        | 4/20 [1:04:27<4:33:56, 1027.31s/it]"
     ]
    },
    {
     "name": "stdout",
     "output_type": "stream",
     "text": [
      "Epoch 4, Train loss: 0.05613031511847663, Acc: 0.9863867475807774, ROC: 0.9989543986100428\n",
      "Epoch 4, Val loss: 0.09567833741294694, Acc: 0.9715867158671587, ROC: 0.9961435770774667\n"
     ]
    },
    {
     "name": "stderr",
     "output_type": "stream",
     "text": [
      " 25%|██▌       | 5/20 [1:25:35<4:38:26, 1113.79s/it]"
     ]
    },
    {
     "name": "stdout",
     "output_type": "stream",
     "text": [
      "Epoch 5, Train loss: 0.030857030810801107, Acc: 0.9939724454649828, ROC: 0.9997526445565166\n",
      "Epoch 5, Val loss: 0.0707247957157401, Acc: 0.977859778597786, ROC: 0.9970034702233437\n"
     ]
    },
    {
     "name": "stderr",
     "output_type": "stream",
     "text": [
      " 30%|███       | 6/20 [1:46:44<4:32:11, 1166.52s/it]"
     ]
    },
    {
     "name": "stdout",
     "output_type": "stream",
     "text": [
      "Epoch 6, Train loss: 0.016097837710222797, Acc: 0.997867803837953, ROC: 0.9999458707851493\n",
      "Epoch 6, Val loss: 0.06898441855635869, Acc: 0.977490774907749, ROC: 0.9968006179193261\n"
     ]
    },
    {
     "name": "stderr",
     "output_type": "stream",
     "text": [
      " 35%|███▌      | 7/20 [2:07:52<4:19:59, 1199.96s/it]"
     ]
    },
    {
     "name": "stdout",
     "output_type": "stream",
     "text": [
      "Epoch 7, Train loss: 0.008532985853971003, Acc: 0.9989749056913236, ROC: 0.9999888053600404\n",
      "Epoch 7, Val loss: 0.06622572186349246, Acc: 0.9793357933579335, ROC: 0.9971316461297284\n"
     ]
    },
    {
     "name": "stderr",
     "output_type": "stream",
     "text": [
      " 40%|████      | 8/20 [2:29:02<4:04:27, 1222.27s/it]"
     ]
    },
    {
     "name": "stdout",
     "output_type": "stream",
     "text": [
      "Epoch 8, Train loss: 0.005252807103770799, Acc: 0.9994669509594882, ROC: 0.9999967730263424\n",
      "Epoch 8, Val loss: 0.05981994261015406, Acc: 0.9804428044280443, ROC: 0.9974587733342845\n"
     ]
    },
    {
     "name": "stderr",
     "output_type": "stream",
     "text": [
      " 45%|████▌     | 9/20 [2:50:16<3:47:00, 1238.25s/it]"
     ]
    },
    {
     "name": "stdout",
     "output_type": "stream",
     "text": [
      "Epoch 9, Train loss: 0.0027556965435254336, Acc: 0.9997949811382647, ROC: 0.999999181215639\n"
     ]
    },
    {
     "name": "stderr",
     "output_type": "stream",
     "text": [
      " 50%|█████     | 10/20 [3:11:22<3:27:47, 1246.78s/it]"
     ]
    },
    {
     "name": "stdout",
     "output_type": "stream",
     "text": [
      "Epoch 9, Val loss: 0.06467767311318656, Acc: 0.9830258302583026, ROC: 0.9973969145272901\n",
      "Epoch 10, Train loss: 0.0015961150691801058, Acc: 0.9998359849106118, ROC: 0.9999996559729577\n"
     ]
    },
    {
     "name": "stderr",
     "output_type": "stream",
     "text": [
      " 55%|█████▌    | 11/20 [3:32:31<3:08:02, 1253.63s/it]"
     ]
    },
    {
     "name": "stdout",
     "output_type": "stream",
     "text": [
      "Epoch 10, Val loss: 0.06396199042987892, Acc: 0.9837638376383764, ROC: 0.9976995211236679\n",
      "Epoch 11, Train loss: 0.0007252649596667172, Acc: 0.9999179924553059, ROC: 1.0\n"
     ]
    },
    {
     "name": "stderr",
     "output_type": "stream",
     "text": [
      " 60%|██████    | 12/20 [3:53:35<2:47:35, 1256.98s/it]"
     ]
    },
    {
     "name": "stdout",
     "output_type": "stream",
     "text": [
      "Epoch 11, Val loss: 0.06673868174896774, Acc: 0.9845018450184502, ROC: 0.9975317778722688\n",
      "Epoch 12, Train loss: 0.0004240131756587539, Acc: 1.0, ROC: 1.0\n"
     ]
    },
    {
     "name": "stderr",
     "output_type": "stream",
     "text": [
      " 65%|██████▌   | 13/20 [4:14:39<2:26:52, 1258.92s/it]"
     ]
    },
    {
     "name": "stdout",
     "output_type": "stream",
     "text": [
      "Epoch 12, Val loss: 0.06373713135530899, Acc: 0.9822878228782288, ROC: 0.9975027989716949\n",
      "Epoch 13, Train loss: 0.00018617839616659059, Acc: 1.0, ROC: 1.0\n"
     ]
    },
    {
     "name": "stderr",
     "output_type": "stream",
     "text": [
      " 70%|███████   | 14/20 [4:33:10<2:01:26, 1214.41s/it]"
     ]
    },
    {
     "name": "stdout",
     "output_type": "stream",
     "text": [
      "Epoch 13, Val loss: 0.07830619037201074, Acc: 0.9833948339483395, ROC: 0.9970764747613281\n",
      "Epoch 14, Train loss: 0.00013833877421725173, Acc: 1.0, ROC: 1.0\n"
     ]
    },
    {
     "name": "stderr",
     "output_type": "stream",
     "text": [
      " 75%|███████▌  | 15/20 [4:59:11<1:49:54, 1318.82s/it]"
     ]
    },
    {
     "name": "stdout",
     "output_type": "stream",
     "text": [
      "Epoch 14, Val loss: 0.07223187796903699, Acc: 0.9830258302583026, ROC: 0.9973545607495282\n",
      "Epoch 15, Train loss: 5.501272592315764e-05, Acc: 1.0, ROC: 1.0\n"
     ]
    },
    {
     "name": "stderr",
     "output_type": "stream",
     "text": [
      " 80%|████████  | 16/20 [5:27:32<1:35:34, 1433.71s/it]"
     ]
    },
    {
     "name": "stdout",
     "output_type": "stream",
     "text": [
      "Epoch 15, Val loss: 0.08104937232633751, Acc: 0.9841328413284133, ROC: 0.9975629859190407\n",
      "Epoch 16, Train loss: 3.800414853068431e-05, Acc: 1.0, ROC: 0.9999999999999999\n"
     ]
    },
    {
     "name": "stderr",
     "output_type": "stream",
     "text": [
      " 85%|████████▌ | 17/20 [5:55:53<1:15:42, 1514.04s/it]"
     ]
    },
    {
     "name": "stdout",
     "output_type": "stream",
     "text": [
      "Epoch 16, Val loss: 0.07441077711053518, Acc: 0.9811808118081181, ROC: 0.9976371050301243\n",
      "Epoch 17, Train loss: 7.18691759959517e-05, Acc: 1.0, ROC: 1.0\n"
     ]
    },
    {
     "name": "stderr",
     "output_type": "stream",
     "text": [
      " 90%|█████████ | 18/20 [6:18:12<48:43, 1461.69s/it]  "
     ]
    },
    {
     "name": "stdout",
     "output_type": "stream",
     "text": [
      "Epoch 17, Val loss: 0.07846965248407249, Acc: 0.9830258302583026, ROC: 0.997776426667499\n",
      "Epoch 18, Train loss: 2.530732516309935e-05, Acc: 1.0, ROC: 1.0\n"
     ]
    },
    {
     "name": "stderr",
     "output_type": "stream",
     "text": [
      " 95%|█████████▌| 19/20 [6:32:31<21:20, 1280.54s/it]"
     ]
    },
    {
     "name": "stdout",
     "output_type": "stream",
     "text": [
      "Epoch 18, Val loss: 0.07708585987754611, Acc: 0.9859778597785978, ROC: 0.9978839829715522\n",
      "Epoch 19, Train loss: 3.3999712808530555e-05, Acc: 1.0, ROC: 1.0\n"
     ]
    },
    {
     "name": "stderr",
     "output_type": "stream",
     "text": [
      "100%|██████████| 20/20 [6:46:49<00:00, 1220.45s/it]"
     ]
    },
    {
     "name": "stdout",
     "output_type": "stream",
     "text": [
      "Epoch 19, Val loss: 0.08396830452838294, Acc: 0.9833948339483395, ROC: 0.9975156165623335\n"
     ]
    },
    {
     "name": "stderr",
     "output_type": "stream",
     "text": [
      "\n"
     ]
    },
    {
     "data": {
      "image/png": "[encoded data removed]",
      "text/plain": [
       "<Figure size 432x288 with 1 Axes>"
      ]
     },
     "metadata": {
      "needs_background": "light"
     },
     "output_type": "display_data"
    },
    {
     "data": {
      "image/png": "[encoded data removed]",
      "text/plain": [
       "<Figure size 432x288 with 1 Axes>"
      ]
     },
     "metadata": {
      "needs_background": "light"
     },
     "output_type": "display_data"
    },
    {
     "name": "stdout",
     "output_type": "stream",
     "text": [
      "Epoch 0, Val loss: 0.5652804813871626, Acc: 0.8567251461988304, ROC: 0.9290575079872204\n",
      "waiting...\n",
      "flushing...\n",
      "done!\n"
     ]
    }
   ],
   "source": [
    "#0\n",
    "try:\n",
    "    print(f'\\033[48;5;37m\\033[38;5;255m    ⸂⸂⸜(രᴗര๑)⸝⸃⸃    {EFF_BACKBONES[INDEX]}    ⸂⸂⸜(രᴗര๑)⸝⸃⸃    \\033[0;0m')    \n",
    "    EFF_train_val_infer(EFF_BACKBONES[INDEX])\n",
    "except:\n",
    "    pass\n",
    "INDEX += 1"
   ]
  },
  {
   "cell_type": "code",
   "execution_count": null,
   "id": "fd1c1430-df9c-4158-8b79-a5f9a5146826",
   "metadata": {},
   "outputs": [
    {
     "name": "stdout",
     "output_type": "stream",
     "text": [
      "\u001b[48;5;37m\u001b[38;5;255m    ⸂⸂⸜(രᴗര๑)⸝⸃⸃    tf_efficientnetv2_m_in21ft1k    ⸂⸂⸜(രᴗര๑)⸝⸃⸃    \u001b[0;0m\n"
     ]
    },
    {
     "name": "stderr",
     "output_type": "stream",
     "text": [
      "  0%|          | 0/20 [00:00<?, ?it/s]"
     ]
    },
    {
     "name": "stdout",
     "output_type": "stream",
     "text": [
      "Epoch 0, Train loss: 0.46935383453378526, Acc: 0.7814908971625389, ROC: 0.839627744988331\n",
      "Epoch 0, Val loss: 0.3642649688487928, Acc: 0.8656826568265683, ROC: 0.9381874477892166\n"
     ]
    },
    {
     "name": "stderr",
     "output_type": "stream",
     "text": [
      "  5%|▌         | 1/20 [10:07<3:12:26, 607.69s/it]"
     ]
    },
    {
     "name": "stdout",
     "output_type": "stream",
     "text": [
      "Epoch 1, Train loss: 0.30049736957185536, Acc: 0.8791618828932262, ROC: 0.9506270759795833\n",
      "Epoch 1, Val loss: 0.24384482032977617, Acc: 0.9103321033210332, ROC: 0.9732335270275618\n"
     ]
    },
    {
     "name": "stderr",
     "output_type": "stream",
     "text": [
      " 10%|█         | 2/20 [20:36<3:06:05, 620.30s/it]"
     ]
    },
    {
     "name": "stdout",
     "output_type": "stream",
     "text": [
      "Epoch 2, Train loss: 0.21521662771359595, Acc: 0.919345579793341, ROC: 0.9765012535106928\n",
      "Epoch 2, Val loss: 0.1902973128802325, Acc: 0.9357933579335793, ROC: 0.9844171535029081\n"
     ]
    },
    {
     "name": "stderr",
     "output_type": "stream",
     "text": [
      " 15%|█▌        | 3/20 [31:03<2:56:31, 623.04s/it]"
     ]
    },
    {
     "name": "stdout",
     "output_type": "stream",
     "text": [
      "Epoch 3, Train loss: 0.15610359698103796, Acc: 0.9469411185829096, ROC: 0.9885250708881483\n",
      "Epoch 3, Val loss: 0.15918638947359204, Acc: 0.9509225092250922, ROC: 0.990887250342592\n"
     ]
    },
    {
     "name": "stderr",
     "output_type": "stream",
     "text": [
      " 20%|██        | 4/20 [41:24<2:45:56, 622.25s/it]"
     ]
    },
    {
     "name": "stdout",
     "output_type": "stream",
     "text": [
      "Epoch 4, Train loss: 0.11103559377556789, Acc: 0.9656388387731671, ROC: 0.9947377210762499\n",
      "Epoch 4, Val loss: 0.11553398353879797, Acc: 0.9590405904059041, ROC: 0.9935176428562273\n"
     ]
    },
    {
     "name": "stderr",
     "output_type": "stream",
     "text": [
      " 25%|██▌       | 5/20 [51:40<2:35:00, 620.02s/it]"
     ]
    },
    {
     "name": "stdout",
     "output_type": "stream",
     "text": [
      "Epoch 5, Train loss: 0.07369176915044996, Acc: 0.9799081515499426, ROC: 0.9981470153053227\n",
      "Epoch 5, Val loss: 0.09626994494034649, Acc: 0.9690036900369003, ROC: 0.9949788481890137\n"
     ]
    },
    {
     "name": "stderr",
     "output_type": "stream",
     "text": [
      " 30%|███       | 6/20 [1:01:51<2:23:59, 617.13s/it]"
     ]
    },
    {
     "name": "stdout",
     "output_type": "stream",
     "text": [
      "Epoch 6, Train loss: 0.04860305502351368, Acc: 0.9891340003280302, ROC: 0.9993181590435917\n",
      "Epoch 6, Val loss: 0.0901996785135576, Acc: 0.9719557195571956, ROC: 0.9959418393465481\n"
     ]
    },
    {
     "name": "stderr",
     "output_type": "stream",
     "text": [
      " 35%|███▌      | 7/20 [1:12:12<2:13:59, 618.42s/it]"
     ]
    },
    {
     "name": "stdout",
     "output_type": "stream",
     "text": [
      "Epoch 7, Train loss: 0.030812027492148564, Acc: 0.9935624077415122, ROC: 0.9997879554921482\n",
      "Epoch 7, Val loss: 0.07585570583266024, Acc: 0.9760147601476015, ROC: 0.9961758996973378\n"
     ]
    },
    {
     "name": "stderr",
     "output_type": "stream",
     "text": [
      " 40%|████      | 8/20 [1:22:26<2:03:23, 616.98s/it]"
     ]
    },
    {
     "name": "stdout",
     "output_type": "stream",
     "text": [
      "Epoch 8, Train loss: 0.019746123414862933, Acc: 0.9963916680334591, ROC: 0.999919139883955\n",
      "Epoch 8, Val loss: 0.07303937470826966, Acc: 0.977859778597786, ROC: 0.9965074851942896\n"
     ]
    },
    {
     "name": "stderr",
     "output_type": "stream",
     "text": [
      " 45%|████▌     | 9/20 [1:32:47<1:53:18, 618.09s/it]"
     ]
    },
    {
     "name": "stdout",
     "output_type": "stream",
     "text": [
      "Epoch 9, Train loss: 0.01201119088890189, Acc: 0.9979088076103001, ROC: 0.9999861769934365\n",
      "Epoch 9, Val loss: 0.0667143103941454, Acc: 0.9782287822878228, ROC: 0.9970346782701156\n"
     ]
    },
    {
     "name": "stderr",
     "output_type": "stream",
     "text": [
      " 50%|█████     | 10/20 [1:46:03<1:52:10, 673.02s/it]"
     ]
    },
    {
     "name": "stdout",
     "output_type": "stream",
     "text": [
      "Epoch 10, Train loss: 0.0075313641499253825, Acc: 0.9990159094636707, ROC: 0.999995252426815\n",
      "Epoch 10, Val loss: 0.06128563336337801, Acc: 0.9785977859778597, ROC: 0.997432580866458\n"
     ]
    },
    {
     "name": "stderr",
     "output_type": "stream",
     "text": [
      " 55%|█████▌    | 11/20 [2:00:02<1:48:34, 723.85s/it]"
     ]
    }
   ],
   "source": [
    "#1\n",
    "try:\n",
    "    print(f'\\033[48;5;37m\\033[38;5;255m    ⸂⸂⸜(രᴗര๑)⸝⸃⸃    {EFF_BACKBONES[INDEX]}    ⸂⸂⸜(രᴗര๑)⸝⸃⸃    \\033[0;0m')    \n",
    "    EFF_train_val_infer(EFF_BACKBONES[INDEX])\n",
    "except: \n",
    "    pass\n",
    "INDEX += 1"
   ]
  },
  {
   "cell_type": "code",
   "execution_count": null,
   "id": "d0d19bce-cb56-48cc-81a0-988ea98dfef4",
   "metadata": {},
   "outputs": [],
   "source": [
    "#2\n",
    "try:\n",
    "    print(f'\\033[48;5;37m\\033[38;5;255m    ⸂⸂⸜(രᴗര๑)⸝⸃⸃    {EFF_BACKBONES[INDEX]}    ⸂⸂⸜(രᴗര๑)⸝⸃⸃    \\033[0;0m')    \n",
    "    EFF_train_val_infer(EFF_BACKBONES[INDEX])\n",
    "except:\n",
    "    pass\n",
    "INDEX += 1"
   ]
  },
  {
   "cell_type": "code",
   "execution_count": null,
   "id": "dca78143-6014-42b1-8806-7ba4cedf37a6",
   "metadata": {},
   "outputs": [],
   "source": [
    "gc.collect()\n",
    "torch.cuda.empty_cache()"
   ]
  },
  {
   "cell_type": "markdown",
   "id": "568c01e1-55bf-49ff-939d-a842343dac4b",
   "metadata": {},
   "source": [
    "# NFNet Family"
   ]
  },
  {
   "cell_type": "code",
   "execution_count": 46,
   "id": "3e93011b-9d80-422a-9028-df54f4968af2",
   "metadata": {},
   "outputs": [
    {
     "name": "stdout",
     "output_type": "stream",
     "text": [
      "5\n",
      "['dm_nfnet_f6', 'dm_nfnet_f4', 'dm_nfnet_f2', 'eca_nfnet_l2', 'eca_nfnet_l1']\n"
     ]
    }
   ],
   "source": [
    "print(len(NFN_BACKBONES))\n",
    "print(NFN_BACKBONES)"
   ]
  },
  {
   "cell_type": "code",
   "execution_count": 41,
   "id": "f6c79894-982e-4395-9872-49de88c416be",
   "metadata": {},
   "outputs": [],
   "source": [
    "INDEX = 1"
   ]
  },
  {
   "cell_type": "code",
   "execution_count": 43,
   "id": "4828d1f3-4ad5-49b0-a162-65b4bacee512",
   "metadata": {},
   "outputs": [
    {
     "name": "stderr",
     "output_type": "stream",
     "text": [
      "  0%|          | 0/1 [00:00<?, ?it/s]\n"
     ]
    },
    {
     "ename": "AssertionError",
     "evalue": "Sharpness Aware Minimization requires closure, but it was not provided",
     "output_type": "error",
     "traceback": [
      "\u001b[0;31m---------------------------------------------------------------------------\u001b[0m",
      "\u001b[0;31mAssertionError\u001b[0m                            Traceback (most recent call last)",
      "\u001b[0;32m<ipython-input-43-a08759b6eb26>\u001b[0m in \u001b[0;36m<module>\u001b[0;34m\u001b[0m\n\u001b[0;32m----> 1\u001b[0;31m \u001b[0mNFN_train_val_infer\u001b[0m\u001b[0;34m(\u001b[0m\u001b[0mNFN_BACKBONES\u001b[0m\u001b[0;34m[\u001b[0m\u001b[0mINDEX\u001b[0m\u001b[0;34m]\u001b[0m\u001b[0;34m)\u001b[0m\u001b[0;34m\u001b[0m\u001b[0;34m\u001b[0m\u001b[0m\n\u001b[0m",
      "\u001b[0;32m<ipython-input-37-40753bede029>\u001b[0m in \u001b[0;36mNFN_train_val_infer\u001b[0;34m(BACKBONE)\u001b[0m\n\u001b[1;32m     40\u001b[0m     \u001b[0;32mfor\u001b[0m \u001b[0mepoch_index\u001b[0m \u001b[0;32min\u001b[0m \u001b[0mtqdm\u001b[0m\u001b[0;34m(\u001b[0m\u001b[0mrange\u001b[0m\u001b[0;34m(\u001b[0m\u001b[0mEPOCHS\u001b[0m\u001b[0;34m)\u001b[0m\u001b[0;34m)\u001b[0m\u001b[0;34m:\u001b[0m\u001b[0;34m\u001b[0m\u001b[0;34m\u001b[0m\u001b[0m\n\u001b[1;32m     41\u001b[0m \u001b[0;34m\u001b[0m\u001b[0m\n\u001b[0;32m---> 42\u001b[0;31m         \u001b[0mtrainer\u001b[0m\u001b[0;34m.\u001b[0m\u001b[0mtrain_epoch\u001b[0m\u001b[0;34m(\u001b[0m\u001b[0mtrain_dataloader\u001b[0m\u001b[0;34m,\u001b[0m \u001b[0mepoch_index\u001b[0m\u001b[0;34m)\u001b[0m\u001b[0;34m\u001b[0m\u001b[0;34m\u001b[0m\u001b[0m\n\u001b[0m\u001b[1;32m     43\u001b[0m         \u001b[0mtrainer\u001b[0m\u001b[0;34m.\u001b[0m\u001b[0mvalidate_epoch\u001b[0m\u001b[0;34m(\u001b[0m\u001b[0mvalidation_dataloader\u001b[0m\u001b[0;34m,\u001b[0m \u001b[0mepoch_index\u001b[0m\u001b[0;34m)\u001b[0m\u001b[0;34m\u001b[0m\u001b[0;34m\u001b[0m\u001b[0m\n\u001b[1;32m     44\u001b[0m \u001b[0;34m\u001b[0m\u001b[0m\n",
      "\u001b[0;32m<ipython-input-19-d7ceadfe11a0>\u001b[0m in \u001b[0;36mtrain_epoch\u001b[0;34m(self, dataloader, epoch_index)\u001b[0m\n\u001b[1;32m     33\u001b[0m             \u001b[0mpred\u001b[0m \u001b[0;34m=\u001b[0m \u001b[0mF\u001b[0m\u001b[0;34m.\u001b[0m\u001b[0msoftmax\u001b[0m\u001b[0;34m(\u001b[0m\u001b[0mpred\u001b[0m\u001b[0;34m)\u001b[0m\u001b[0;34m\u001b[0m\u001b[0;34m\u001b[0m\u001b[0m\n\u001b[1;32m     34\u001b[0m \u001b[0;34m\u001b[0m\u001b[0m\n\u001b[0;32m---> 35\u001b[0;31m             \u001b[0mself\u001b[0m\u001b[0;34m.\u001b[0m\u001b[0moptimizer\u001b[0m\u001b[0;34m.\u001b[0m\u001b[0mstep\u001b[0m\u001b[0;34m(\u001b[0m\u001b[0;34m)\u001b[0m\u001b[0;34m\u001b[0m\u001b[0;34m\u001b[0m\u001b[0m\n\u001b[0m\u001b[1;32m     36\u001b[0m             \u001b[0mself\u001b[0m\u001b[0;34m.\u001b[0m\u001b[0mscheduler\u001b[0m\u001b[0;34m.\u001b[0m\u001b[0mstep\u001b[0m\u001b[0;34m(\u001b[0m\u001b[0;34m)\u001b[0m\u001b[0;34m\u001b[0m\u001b[0;34m\u001b[0m\u001b[0m\n\u001b[1;32m     37\u001b[0m             \u001b[0mtrain_total_loss\u001b[0m \u001b[0;34m+=\u001b[0m \u001b[0mloss\u001b[0m\u001b[0;34m.\u001b[0m\u001b[0mitem\u001b[0m\u001b[0;34m(\u001b[0m\u001b[0;34m)\u001b[0m\u001b[0;34m\u001b[0m\u001b[0;34m\u001b[0m\u001b[0m\n",
      "\u001b[0;32m/home/stephencha/anaconda3/envs/py38/lib/python3.8/site-packages/torch/optim/lr_scheduler.py\u001b[0m in \u001b[0;36mwrapper\u001b[0;34m(*args, **kwargs)\u001b[0m\n\u001b[1;32m     63\u001b[0m                 \u001b[0minstance\u001b[0m\u001b[0;34m.\u001b[0m\u001b[0m_step_count\u001b[0m \u001b[0;34m+=\u001b[0m \u001b[0;36m1\u001b[0m\u001b[0;34m\u001b[0m\u001b[0;34m\u001b[0m\u001b[0m\n\u001b[1;32m     64\u001b[0m                 \u001b[0mwrapped\u001b[0m \u001b[0;34m=\u001b[0m \u001b[0mfunc\u001b[0m\u001b[0;34m.\u001b[0m\u001b[0m__get__\u001b[0m\u001b[0;34m(\u001b[0m\u001b[0minstance\u001b[0m\u001b[0;34m,\u001b[0m \u001b[0mcls\u001b[0m\u001b[0;34m)\u001b[0m\u001b[0;34m\u001b[0m\u001b[0;34m\u001b[0m\u001b[0m\n\u001b[0;32m---> 65\u001b[0;31m                 \u001b[0;32mreturn\u001b[0m \u001b[0mwrapped\u001b[0m\u001b[0;34m(\u001b[0m\u001b[0;34m*\u001b[0m\u001b[0margs\u001b[0m\u001b[0;34m,\u001b[0m \u001b[0;34m**\u001b[0m\u001b[0mkwargs\u001b[0m\u001b[0;34m)\u001b[0m\u001b[0;34m\u001b[0m\u001b[0;34m\u001b[0m\u001b[0m\n\u001b[0m\u001b[1;32m     66\u001b[0m \u001b[0;34m\u001b[0m\u001b[0m\n\u001b[1;32m     67\u001b[0m             \u001b[0;31m# Note that the returned function here is no longer a bound method,\u001b[0m\u001b[0;34m\u001b[0m\u001b[0;34m\u001b[0m\u001b[0;34m\u001b[0m\u001b[0m\n",
      "\u001b[0;32m/home/stephencha/anaconda3/envs/py38/lib/python3.8/site-packages/torch/optim/optimizer.py\u001b[0m in \u001b[0;36mwrapper\u001b[0;34m(*args, **kwargs)\u001b[0m\n\u001b[1;32m     86\u001b[0m                 \u001b[0mprofile_name\u001b[0m \u001b[0;34m=\u001b[0m \u001b[0;34m\"Optimizer.step#{}.step\"\u001b[0m\u001b[0;34m.\u001b[0m\u001b[0mformat\u001b[0m\u001b[0;34m(\u001b[0m\u001b[0mobj\u001b[0m\u001b[0;34m.\u001b[0m\u001b[0m__class__\u001b[0m\u001b[0;34m.\u001b[0m\u001b[0m__name__\u001b[0m\u001b[0;34m)\u001b[0m\u001b[0;34m\u001b[0m\u001b[0;34m\u001b[0m\u001b[0m\n\u001b[1;32m     87\u001b[0m                 \u001b[0;32mwith\u001b[0m \u001b[0mtorch\u001b[0m\u001b[0;34m.\u001b[0m\u001b[0mautograd\u001b[0m\u001b[0;34m.\u001b[0m\u001b[0mprofiler\u001b[0m\u001b[0;34m.\u001b[0m\u001b[0mrecord_function\u001b[0m\u001b[0;34m(\u001b[0m\u001b[0mprofile_name\u001b[0m\u001b[0;34m)\u001b[0m\u001b[0;34m:\u001b[0m\u001b[0;34m\u001b[0m\u001b[0;34m\u001b[0m\u001b[0m\n\u001b[0;32m---> 88\u001b[0;31m                     \u001b[0;32mreturn\u001b[0m \u001b[0mfunc\u001b[0m\u001b[0;34m(\u001b[0m\u001b[0;34m*\u001b[0m\u001b[0margs\u001b[0m\u001b[0;34m,\u001b[0m \u001b[0;34m**\u001b[0m\u001b[0mkwargs\u001b[0m\u001b[0;34m)\u001b[0m\u001b[0;34m\u001b[0m\u001b[0;34m\u001b[0m\u001b[0m\n\u001b[0m\u001b[1;32m     89\u001b[0m             \u001b[0;32mreturn\u001b[0m \u001b[0mwrapper\u001b[0m\u001b[0;34m\u001b[0m\u001b[0;34m\u001b[0m\u001b[0m\n\u001b[1;32m     90\u001b[0m \u001b[0;34m\u001b[0m\u001b[0m\n",
      "\u001b[0;32m/home/stephencha/anaconda3/envs/py38/lib/python3.8/site-packages/torch/autograd/grad_mode.py\u001b[0m in \u001b[0;36mdecorate_context\u001b[0;34m(*args, **kwargs)\u001b[0m\n\u001b[1;32m     26\u001b[0m         \u001b[0;32mdef\u001b[0m \u001b[0mdecorate_context\u001b[0m\u001b[0;34m(\u001b[0m\u001b[0;34m*\u001b[0m\u001b[0margs\u001b[0m\u001b[0;34m,\u001b[0m \u001b[0;34m**\u001b[0m\u001b[0mkwargs\u001b[0m\u001b[0;34m)\u001b[0m\u001b[0;34m:\u001b[0m\u001b[0;34m\u001b[0m\u001b[0;34m\u001b[0m\u001b[0m\n\u001b[1;32m     27\u001b[0m             \u001b[0;32mwith\u001b[0m \u001b[0mself\u001b[0m\u001b[0;34m.\u001b[0m\u001b[0m__class__\u001b[0m\u001b[0;34m(\u001b[0m\u001b[0;34m)\u001b[0m\u001b[0;34m:\u001b[0m\u001b[0;34m\u001b[0m\u001b[0;34m\u001b[0m\u001b[0m\n\u001b[0;32m---> 28\u001b[0;31m                 \u001b[0;32mreturn\u001b[0m \u001b[0mfunc\u001b[0m\u001b[0;34m(\u001b[0m\u001b[0;34m*\u001b[0m\u001b[0margs\u001b[0m\u001b[0;34m,\u001b[0m \u001b[0;34m**\u001b[0m\u001b[0mkwargs\u001b[0m\u001b[0;34m)\u001b[0m\u001b[0;34m\u001b[0m\u001b[0;34m\u001b[0m\u001b[0m\n\u001b[0m\u001b[1;32m     29\u001b[0m         \u001b[0;32mreturn\u001b[0m \u001b[0mcast\u001b[0m\u001b[0;34m(\u001b[0m\u001b[0mF\u001b[0m\u001b[0;34m,\u001b[0m \u001b[0mdecorate_context\u001b[0m\u001b[0;34m)\u001b[0m\u001b[0;34m\u001b[0m\u001b[0;34m\u001b[0m\u001b[0m\n\u001b[1;32m     30\u001b[0m \u001b[0;34m\u001b[0m\u001b[0m\n",
      "\u001b[0;32m<ipython-input-20-4b82510f155f>\u001b[0m in \u001b[0;36mstep\u001b[0;34m(self, closure)\u001b[0m\n\u001b[1;32m     36\u001b[0m     \u001b[0;34m@\u001b[0m\u001b[0mtorch\u001b[0m\u001b[0;34m.\u001b[0m\u001b[0mno_grad\u001b[0m\u001b[0;34m(\u001b[0m\u001b[0;34m)\u001b[0m\u001b[0;34m\u001b[0m\u001b[0;34m\u001b[0m\u001b[0m\n\u001b[1;32m     37\u001b[0m     \u001b[0;32mdef\u001b[0m \u001b[0mstep\u001b[0m\u001b[0;34m(\u001b[0m\u001b[0mself\u001b[0m\u001b[0;34m,\u001b[0m \u001b[0mclosure\u001b[0m\u001b[0;34m=\u001b[0m\u001b[0;32mNone\u001b[0m\u001b[0;34m)\u001b[0m\u001b[0;34m:\u001b[0m\u001b[0;34m\u001b[0m\u001b[0;34m\u001b[0m\u001b[0m\n\u001b[0;32m---> 38\u001b[0;31m         \u001b[0;32massert\u001b[0m \u001b[0mclosure\u001b[0m \u001b[0;32mis\u001b[0m \u001b[0;32mnot\u001b[0m \u001b[0;32mNone\u001b[0m\u001b[0;34m,\u001b[0m \u001b[0;34m\"Sharpness Aware Minimization requires closure, but it was not provided\"\u001b[0m\u001b[0;34m\u001b[0m\u001b[0;34m\u001b[0m\u001b[0m\n\u001b[0m\u001b[1;32m     39\u001b[0m         \u001b[0mclosure\u001b[0m \u001b[0;34m=\u001b[0m \u001b[0mtorch\u001b[0m\u001b[0;34m.\u001b[0m\u001b[0menable_grad\u001b[0m\u001b[0;34m(\u001b[0m\u001b[0;34m)\u001b[0m\u001b[0;34m(\u001b[0m\u001b[0mclosure\u001b[0m\u001b[0;34m)\u001b[0m  \u001b[0;31m# the closure should do a full forward-backward pass\u001b[0m\u001b[0;34m\u001b[0m\u001b[0;34m\u001b[0m\u001b[0m\n\u001b[1;32m     40\u001b[0m \u001b[0;34m\u001b[0m\u001b[0m\n",
      "\u001b[0;31mAssertionError\u001b[0m: Sharpness Aware Minimization requires closure, but it was not provided"
     ]
    }
   ],
   "source": [
    "NFN_train_val_infer(NFN_BACKBONES[INDEX])"
   ]
  },
  {
   "cell_type": "code",
   "execution_count": null,
   "id": "2f3a93b1-12d1-4fe8-9080-724d30126cc3",
   "metadata": {},
   "outputs": [],
   "source": []
  },
  {
   "cell_type": "code",
   "execution_count": null,
   "id": "e0e7608b-e65c-46a3-8680-79e133bb70d0",
   "metadata": {},
   "outputs": [],
   "source": [
    "#0\n",
    "try:\n",
    "    print(f'\\033[48;5;230m\\033[38;5;203m    ⸂⸂⸜(രᴗര๑)⸝⸃⸃    {NFN_BACKBONES[INDEX]}    ⸂⸂⸜(രᴗര๑)⸝⸃⸃    \\033[0;0m')\n",
    "    NFN_train_val_infer(NFN_BACKBONES[INDEX])\n",
    "except:\n",
    "    pass\n",
    "INDEX += 1"
   ]
  },
  {
   "cell_type": "code",
   "execution_count": 40,
   "id": "6e84f036-0d42-4b9d-b4a9-c356ad5747ed",
   "metadata": {},
   "outputs": [
    {
     "name": "stdout",
     "output_type": "stream",
     "text": [
      "\u001b[48;5;230m\u001b[38;5;203m    ⸂⸂⸜(രᴗര๑)⸝⸃⸃    eca_nfnet_l1    ⸂⸂⸜(രᴗര๑)⸝⸃⸃    \u001b[0;0m\n"
     ]
    },
    {
     "name": "stderr",
     "output_type": "stream",
     "text": [
      "Downloading: \"https://github.com/rwightman/pytorch-image-models/releases/download/v0.1-weights/ecanfnet_l1_ra2-7dce93cd.pth\" to /home/ys/.cache/torch/hub/checkpoints/ecanfnet_l1_ra2-7dce93cd.pth\n",
      "  0%|          | 0/20 [00:00<?, ?it/s]"
     ]
    },
    {
     "name": "stdout",
     "output_type": "stream",
     "text": [
      "Epoch 0, Train loss: 0.17334841026228198, Acc: 0.9302525832376579, ROC: 0.9811702612400997\n",
      "Epoch 0, Val loss: 0.3535317164906383, Acc: 0.9708487084870848, ROC: 0.9954441824578455\n"
     ]
    },
    {
     "name": "stderr",
     "output_type": "stream",
     "text": [
      "  5%|▌         | 1/20 [04:17<1:21:23, 257.02s/it]"
     ]
    },
    {
     "name": "stdout",
     "output_type": "stream",
     "text": [
      "Epoch 1, Train loss: 0.0477086268223206, Acc: 0.9844185665081188, ROC: 0.9981271030201089\n",
      "Epoch 1, Val loss: 0.3471882087591837, Acc: 0.9712177121771217, ROC: 0.9952496894520703\n"
     ]
    },
    {
     "name": "stderr",
     "output_type": "stream",
     "text": [
      " 10%|█         | 2/20 [08:31<1:16:43, 255.74s/it]"
     ]
    },
    {
     "name": "stdout",
     "output_type": "stream",
     "text": [
      "Epoch 2, Train loss: 0.02454612790630644, Acc: 0.9919632606199771, ROC: 0.9994432954399932\n",
      "Epoch 2, Val loss: 0.3428765775183954, Acc: 0.9715867158671587, ROC: 0.9953544593233761\n"
     ]
    },
    {
     "name": "stderr",
     "output_type": "stream",
     "text": [
      " 15%|█▌        | 3/20 [12:48<1:12:31, 255.99s/it]"
     ]
    },
    {
     "name": "stdout",
     "output_type": "stream",
     "text": [
      "Epoch 3, Train loss: 0.014872491752815907, Acc: 0.9954895850418238, ROC: 0.9996916141591953\n",
      "Epoch 3, Val loss: 0.34047698286863476, Acc: 0.9756457564575646, ROC: 0.9966415126094442\n"
     ]
    },
    {
     "name": "stderr",
     "output_type": "stream",
     "text": [
      " 20%|██        | 4/20 [17:01<1:07:57, 254.86s/it]"
     ]
    },
    {
     "name": "stdout",
     "output_type": "stream",
     "text": [
      "Epoch 4, Train loss: 0.01433366664459021, Acc: 0.9952845661800885, ROC: 0.9998074790268041\n"
     ]
    },
    {
     "name": "stderr",
     "output_type": "stream",
     "text": [
      " 25%|██▌       | 5/20 [21:18<1:03:54, 255.62s/it]"
     ]
    },
    {
     "name": "stdout",
     "output_type": "stream",
     "text": [
      "Epoch 4, Val loss: 0.3464800935877851, Acc: 0.9682656826568266, ROC: 0.9945580968441419\n",
      "Epoch 5, Train loss: 0.012278291609473297, Acc: 0.9959406265376415, ROC: 0.9998689188163059\n",
      "Epoch 5, Val loss: 0.3393644068015398, Acc: 0.9745387453874539, ROC: 0.9960987155102321\n"
     ]
    },
    {
     "name": "stderr",
     "output_type": "stream",
     "text": [
      " 30%|███       | 6/20 [25:33<59:39, 255.64s/it]  "
     ]
    },
    {
     "name": "stdout",
     "output_type": "stream",
     "text": [
      "Epoch 6, Train loss: 0.009730461997471084, Acc: 0.9964736755781531, ROC: 0.9999384260399519\n",
      "Epoch 6, Val loss: 0.33670399827364633, Acc: 0.9793357933579335, ROC: 0.9962943230891061\n"
     ]
    },
    {
     "name": "stderr",
     "output_type": "stream",
     "text": [
      " 35%|███▌      | 7/20 [29:49<55:24, 255.75s/it]"
     ]
    },
    {
     "name": "stdout",
     "output_type": "stream",
     "text": [
      "Epoch 7, Train loss: 0.008053151134099986, Acc: 0.997867803837953, ROC: 0.9998549409975732\n"
     ]
    },
    {
     "name": "stderr",
     "output_type": "stream",
     "text": [
      " 40%|████      | 8/20 [34:04<51:05, 255.43s/it]"
     ]
    },
    {
     "name": "stdout",
     "output_type": "stream",
     "text": [
      "Epoch 7, Val loss: 0.35963310627542305, Acc: 0.9546125461254612, ROC: 0.9939381155578243\n",
      "Epoch 8, Train loss: 0.010726011187940181, Acc: 0.9965556831228473, ROC: 0.9998643260552899\n"
     ]
    },
    {
     "name": "stderr",
     "output_type": "stream",
     "text": [
      " 45%|████▌     | 9/20 [38:19<46:46, 255.15s/it]"
     ]
    },
    {
     "name": "stdout",
     "output_type": "stream",
     "text": [
      "Epoch 8, Val loss: 0.3469478678421156, Acc: 0.970110701107011, ROC: 0.9958652124459919\n",
      "Epoch 9, Train loss: 0.006236474176412683, Acc: 0.9982778415614236, ROC: 0.9998818955163451\n"
     ]
    },
    {
     "name": "stderr",
     "output_type": "stream",
     "text": [
      " 50%|█████     | 10/20 [42:34<42:32, 255.28s/it]"
     ]
    },
    {
     "name": "stdout",
     "output_type": "stream",
     "text": [
      "Epoch 9, Val loss: 0.342125547884484, Acc: 0.9730627306273063, ROC: 0.9965894063170659\n",
      "Epoch 10, Train loss: 0.007384686245780384, Acc: 0.997744792520912, ROC: 0.9999509692659175\n",
      "Epoch 10, Val loss: 0.3346711504741533, Acc: 0.9804428044280443, ROC: 0.9963848821533998\n"
     ]
    },
    {
     "name": "stderr",
     "output_type": "stream",
     "text": [
      " 55%|█████▌    | 11/20 [46:45<38:04, 253.81s/it]"
     ]
    },
    {
     "name": "stdout",
     "output_type": "stream",
     "text": [
      "Epoch 11, Train loss: 0.006492943573064346, Acc: 0.9979088076103001, ROC: 0.9999661202168648\n"
     ]
    },
    {
     "name": "stderr",
     "output_type": "stream",
     "text": [
      " 60%|██████    | 12/20 [50:59<33:52, 254.07s/it]"
     ]
    },
    {
     "name": "stdout",
     "output_type": "stream",
     "text": [
      "Epoch 11, Val loss: 0.33528198822010197, Acc: 0.9782287822878228, ROC: 0.9964071736153798\n",
      "Epoch 12, Train loss: 0.006307672705850819, Acc: 0.9982778415614236, ROC: 0.9999039889330078\n"
     ]
    },
    {
     "name": "stderr",
     "output_type": "stream",
     "text": [
      " 65%|██████▌   | 13/20 [55:14<29:40, 254.37s/it]"
     ]
    },
    {
     "name": "stdout",
     "output_type": "stream",
     "text": [
      "Epoch 12, Val loss: 0.3422679282151736, Acc: 0.9749077490774908, ROC: 0.9948679481656635\n",
      "Epoch 13, Train loss: 0.01187085086673525, Acc: 0.9973757585697884, ROC: 0.9998669200191895\n"
     ]
    },
    {
     "name": "stderr",
     "output_type": "stream",
     "text": [
      " 70%|███████   | 14/20 [59:29<25:27, 254.50s/it]"
     ]
    },
    {
     "name": "stdout",
     "output_type": "stream",
     "text": [
      "Epoch 13, Val loss: 0.335421750355049, Acc: 0.9800738007380074, ROC: 0.996928515182436\n",
      "Epoch 14, Train loss: 0.0032038111779500466, Acc: 0.9990569132360178, ROC: 0.9999869338529297\n"
     ]
    },
    {
     "name": "stderr",
     "output_type": "stream",
     "text": [
      " 75%|███████▌  | 15/20 [1:03:44<21:13, 254.64s/it]"
     ]
    },
    {
     "name": "stdout",
     "output_type": "stream",
     "text": [
      "Epoch 14, Val loss: 0.3447066358560641, Acc: 0.9704797047970479, ROC: 0.9951014512299035\n",
      "Epoch 15, Train loss: 0.005842919817010662, Acc: 0.9982368377890766, ROC: 0.99994190071308\n",
      "Epoch 15, Val loss: 0.3343655615163273, Acc: 0.9811808118081181, ROC: 0.9976970133341952\n"
     ]
    },
    {
     "name": "stderr",
     "output_type": "stream",
     "text": [
      " 80%|████████  | 16/20 [1:08:00<16:59, 254.98s/it]"
     ]
    },
    {
     "name": "stdout",
     "output_type": "stream",
     "text": [
      "Epoch 16, Train loss: 0.004199232135289574, Acc: 0.9986058717402001, ROC: 0.9999764410281367\n"
     ]
    },
    {
     "name": "stderr",
     "output_type": "stream",
     "text": [
      " 85%|████████▌ | 17/20 [1:12:16<12:46, 255.37s/it]"
     ]
    },
    {
     "name": "stdout",
     "output_type": "stream",
     "text": [
      "Epoch 16, Val loss: 0.341079388849834, Acc: 0.9734317343173432, ROC: 0.9961728346213155\n",
      "Epoch 17, Train loss: 0.008811337722714247, Acc: 0.9975807774315237, ROC: 0.99984688044397\n"
     ]
    },
    {
     "name": "stderr",
     "output_type": "stream",
     "text": [
      " 90%|█████████ | 18/20 [1:16:30<08:29, 254.91s/it]"
     ]
    },
    {
     "name": "stdout",
     "output_type": "stream",
     "text": [
      "Epoch 17, Val loss: 0.34090346803326577, Acc: 0.9726937269372694, ROC: 0.9962059931710107\n",
      "Epoch 18, Train loss: 0.003513228730821751, Acc: 0.9990159094636707, ROC: 0.9999711017284387\n"
     ]
    },
    {
     "name": "stderr",
     "output_type": "stream",
     "text": [
      " 95%|█████████▌| 19/20 [1:20:46<04:15, 255.32s/it]"
     ]
    },
    {
     "name": "stdout",
     "output_type": "stream",
     "text": [
      "Epoch 18, Val loss: 0.33530614749919735, Acc: 0.9793357933579335, ROC: 0.997025483042049\n",
      "Epoch 19, Train loss: 0.004131437145625668, Acc: 0.9986878792848942, ROC: 0.9999866655118367\n"
     ]
    },
    {
     "name": "stderr",
     "output_type": "stream",
     "text": [
      "100%|██████████| 20/20 [1:25:00<00:00, 255.02s/it]"
     ]
    },
    {
     "name": "stdout",
     "output_type": "stream",
     "text": [
      "Epoch 19, Val loss: 0.34003217139187647, Acc: 0.9738007380073801, ROC: 0.9961572305979295\n"
     ]
    },
    {
     "name": "stderr",
     "output_type": "stream",
     "text": [
      "\n"
     ]
    },
    {
     "data": {
      "image/png": "[encoded data removed]",
      "text/plain": [
       "<Figure size 432x288 with 1 Axes>"
      ]
     },
     "metadata": {
      "needs_background": "light"
     },
     "output_type": "display_data"
    },
    {
     "data": {
      "image/png": "[encoded data removed]",
      "text/plain": [
       "<Figure size 432x288 with 1 Axes>"
      ]
     },
     "metadata": {
      "needs_background": "light"
     },
     "output_type": "display_data"
    },
    {
     "name": "stdout",
     "output_type": "stream",
     "text": [
      "Epoch 0, Val loss: 0.44408326828852296, Acc: 0.8703703703703703, ROC: 0.9329412939297124\n",
      "waiting...\n",
      "flushing...\n",
      "done!\n"
     ]
    }
   ],
   "source": [
    "#1\n",
    "try:\n",
    "    print(f'\\033[48;5;230m\\033[38;5;203m    ⸂⸂⸜(രᴗര๑)⸝⸃⸃    {NFN_BACKBONES[INDEX]}    ⸂⸂⸜(രᴗര๑)⸝⸃⸃    \\033[0;0m')\n",
    "    NFN_train_val_infer(NFN_BACKBONES[INDEX])\n",
    "except:\n",
    "    pass\n",
    "INDEX += 1"
   ]
  },
  {
   "cell_type": "code",
   "execution_count": 41,
   "id": "269a0eae-6e8f-4149-a7df-71738f417dd4",
   "metadata": {},
   "outputs": [
    {
     "name": "stdout",
     "output_type": "stream",
     "text": [
      "\u001b[48;5;230m\u001b[38;5;203m    ⸂⸂⸜(രᴗര๑)⸝⸃⸃    eca_nfnet_l2    ⸂⸂⸜(രᴗര๑)⸝⸃⸃    \u001b[0;0m\n"
     ]
    },
    {
     "name": "stderr",
     "output_type": "stream",
     "text": [
      "  0%|          | 0/20 [01:30<?, ?it/s]\n"
     ]
    }
   ],
   "source": [
    "#2\n",
    "try:\n",
    "    print(f'\\033[48;5;230m\\033[38;5;203m    ⸂⸂⸜(രᴗര๑)⸝⸃⸃    {NFN_BACKBONES[INDEX]}    ⸂⸂⸜(രᴗര๑)⸝⸃⸃    \\033[0;0m')\n",
    "    NFN_train_val_infer(NFN_BACKBONES[INDEX])\n",
    "except:\n",
    "    pass\n",
    "INDEX += 1"
   ]
  },
  {
   "cell_type": "code",
   "execution_count": null,
   "id": "603eeb2f-4b20-40f5-8f6f-6a4309346aae",
   "metadata": {},
   "outputs": [],
   "source": [
    "# #3\n",
    "# try:\n",
    "#     print(f'\\033[48;5;230m\\033[38;5;203m    ⸂⸂⸜(രᴗര๑)⸝⸃⸃    {NFN_BACKBONES[INDEX]}    ⸂⸂⸜(രᴗര๑)⸝⸃⸃    \\033[0;0m')\n",
    "#     NFN_train_val_infer(NFN_BACKBONES[INDEX])\n",
    "# except:\n",
    "#     pass\n",
    "# INDEX += 1"
   ]
  },
  {
   "cell_type": "code",
   "execution_count": 35,
   "id": "45993897-7860-4081-9c75-5e375711404d",
   "metadata": {},
   "outputs": [],
   "source": [
    "INDEX = 4"
   ]
  },
  {
   "cell_type": "code",
   "execution_count": 36,
   "id": "5ce57f0c-0750-49f6-9132-85426b89b85b",
   "metadata": {},
   "outputs": [
    {
     "name": "stdout",
     "output_type": "stream",
     "text": [
      "\u001b[48;5;230m\u001b[38;5;203m    ⸂⸂⸜(രᴗര๑)⸝⸃⸃    dm_nfnet_f4    ⸂⸂⸜(രᴗര๑)⸝⸃⸃    \u001b[0;0m\n"
     ]
    },
    {
     "name": "stderr",
     "output_type": "stream",
     "text": [
      "  0%|          | 0/20 [00:00<?, ?it/s]"
     ]
    },
    {
     "name": "stdout",
     "output_type": "stream",
     "text": [
      "Epoch 0, Train loss: 0.18918851932423345, Acc: 0.9232409381663113, ROC: 0.9776664318200464\n",
      "Epoch 0, Val loss: 0.3579118928965732, Acc: 0.9697416974169741, ROC: 0.9940587680957909\n"
     ]
    },
    {
     "name": "stderr",
     "output_type": "stream",
     "text": [
      "  5%|▌         | 1/20 [11:14<3:33:38, 674.64s/it]"
     ]
    },
    {
     "name": "stdout",
     "output_type": "stream",
     "text": [
      "Epoch 1, Train loss: 0.06145246241525637, Acc: 0.9801131704116779, ROC: 0.9969240163709535\n"
     ]
    },
    {
     "name": "stderr",
     "output_type": "stream",
     "text": [
      " 10%|█         | 2/20 [22:26<3:21:49, 672.73s/it]"
     ]
    },
    {
     "name": "stdout",
     "output_type": "stream",
     "text": [
      "Epoch 1, Val loss: 0.36831799414030897, Acc: 0.9586715867158672, ROC: 0.9929698301780697\n",
      "Epoch 2, Train loss: 0.043442088621674126, Acc: 0.986796785304248, ROC: 0.9982231140871011\n",
      "Epoch 2, Val loss: 0.34846041064995986, Acc: 0.9690036900369003, ROC: 0.9939358864116262\n"
     ]
    },
    {
     "name": "stderr",
     "output_type": "stream",
     "text": [
      " 15%|█▌        | 3/20 [33:40<3:10:50, 673.57s/it]"
     ]
    },
    {
     "name": "stdout",
     "output_type": "stream",
     "text": [
      "Epoch 3, Train loss: 0.022807492757412184, Acc: 0.9928653436116123, ROC: 0.9994356167564068\n",
      "Epoch 3, Val loss: 0.3411018328201136, Acc: 0.9738007380073801, ROC: 0.996514729919433\n"
     ]
    },
    {
     "name": "stderr",
     "output_type": "stream",
     "text": [
      " 20%|██        | 4/20 [44:55<2:59:47, 674.20s/it]"
     ]
    },
    {
     "name": "stdout",
     "output_type": "stream",
     "text": [
      "Epoch 4, Train loss: 0.02190355829372142, Acc: 0.9931933737903887, ROC: 0.9995056365803459\n"
     ]
    },
    {
     "name": "stderr",
     "output_type": "stream",
     "text": [
      " 25%|██▌       | 5/20 [56:08<2:48:26, 673.75s/it]"
     ]
    },
    {
     "name": "stdout",
     "output_type": "stream",
     "text": [
      "Epoch 4, Val loss: 0.34463748036051645, Acc: 0.9693726937269372, ROC: 0.9948941406334898\n",
      "Epoch 5, Train loss: 0.01789481887120064, Acc: 0.9946695095948828, ROC: 0.999626080447889\n"
     ]
    },
    {
     "name": "stderr",
     "output_type": "stream",
     "text": [
      " 30%|███       | 6/20 [1:07:19<2:36:57, 672.70s/it]"
     ]
    },
    {
     "name": "stdout",
     "output_type": "stream",
     "text": [
      "Epoch 5, Val loss: 0.34691047298132316, Acc: 0.9678966789667897, ROC: 0.9954539349724617\n",
      "Epoch 6, Train loss: 0.015429527306437875, Acc: 0.9951205510907003, ROC: 0.9996886176836561\n",
      "Epoch 6, Val loss: 0.3377213229441784, Acc: 0.9771217712177122, ROC: 0.99686303401287\n"
     ]
    },
    {
     "name": "stderr",
     "output_type": "stream",
     "text": [
      " 35%|███▌      | 7/20 [1:18:33<2:25:52, 673.28s/it]"
     ]
    },
    {
     "name": "stdout",
     "output_type": "stream",
     "text": [
      "Epoch 7, Train loss: 0.018539361395602125, Acc: 0.9946285058225357, ROC: 0.9995942338645744\n"
     ]
    },
    {
     "name": "stderr",
     "output_type": "stream",
     "text": [
      " 40%|████      | 8/20 [1:29:47<2:14:40, 673.41s/it]"
     ]
    },
    {
     "name": "stdout",
     "output_type": "stream",
     "text": [
      "Epoch 7, Val loss: 0.34460541658852933, Acc: 0.9726937269372694, ROC: 0.9935817308094196\n",
      "Epoch 8, Train loss: 0.01772280917513857, Acc: 0.994833524684271, ROC: 0.9995949012770368\n"
     ]
    },
    {
     "name": "stderr",
     "output_type": "stream",
     "text": [
      " 45%|████▌     | 9/20 [1:40:58<2:03:17, 672.53s/it]"
     ]
    },
    {
     "name": "stdout",
     "output_type": "stream",
     "text": [
      "Epoch 8, Val loss: 0.3455637432414399, Acc: 0.9697416974169741, ROC: 0.9947548189961151\n",
      "Epoch 9, Train loss: 0.014282451226177889, Acc: 0.9959816303099885, ROC: 0.9997195353939562\n"
     ]
    },
    {
     "name": "stderr",
     "output_type": "stream",
     "text": [
      " 50%|█████     | 10/20 [1:52:06<1:51:53, 671.38s/it]"
     ]
    },
    {
     "name": "stdout",
     "output_type": "stream",
     "text": [
      "Epoch 9, Val loss: 0.3402522916977222, Acc: 0.9749077490774908, ROC: 0.996514729919433\n",
      "Epoch 10, Train loss: 0.006467795184707083, Acc: 0.9982368377890766, ROC: 0.9998906200421402\n"
     ]
    },
    {
     "name": "stderr",
     "output_type": "stream",
     "text": [
      " 55%|█████▌    | 11/20 [2:03:17<1:40:39, 671.03s/it]"
     ]
    },
    {
     "name": "stdout",
     "output_type": "stream",
     "text": [
      "Epoch 10, Val loss: 0.341083435617255, Acc: 0.9738007380073801, ROC: 0.9962572635335646\n",
      "Epoch 11, Train loss: 0.011130574641811108, Acc: 0.9968017057569296, ROC: 0.9998395389068853\n"
     ]
    },
    {
     "name": "stderr",
     "output_type": "stream",
     "text": [
      " 60%|██████    | 12/20 [2:14:29<1:29:30, 671.36s/it]"
     ]
    },
    {
     "name": "stdout",
     "output_type": "stream",
     "text": [
      "Epoch 11, Val loss: 0.33816807245361735, Acc: 0.977859778597786, ROC: 0.9961619675336002\n",
      "Epoch 12, Train loss: 0.011017871714860163, Acc: 0.9967196982122355, ROC: 0.9998137403189759\n"
     ]
    },
    {
     "name": "stderr",
     "output_type": "stream",
     "text": [
      " 65%|██████▌   | 13/20 [2:25:41<1:18:20, 671.55s/it]"
     ]
    },
    {
     "name": "stdout",
     "output_type": "stream",
     "text": [
      "Epoch 12, Val loss: 0.3378445671860283, Acc: 0.9782287822878228, ROC: 0.9958367908319675\n",
      "Epoch 13, Train loss: 0.01085916177511111, Acc: 0.9968017057569296, ROC: 0.9998259291970878\n"
     ]
    },
    {
     "name": "stderr",
     "output_type": "stream",
     "text": [
      " 70%|███████   | 14/20 [2:36:50<1:07:05, 670.93s/it]"
     ]
    },
    {
     "name": "stdout",
     "output_type": "stream",
     "text": [
      "Epoch 13, Val loss: 0.3382930073159686, Acc: 0.9760147601476015, ROC: 0.996256706247015\n",
      "Epoch 14, Train loss: 0.008205863985362495, Acc: 0.9976217812038708, ROC: 0.9999062182282425\n"
     ]
    },
    {
     "name": "stderr",
     "output_type": "stream",
     "text": [
      " 75%|███████▌  | 15/20 [2:48:00<55:53, 670.62s/it]  "
     ]
    },
    {
     "name": "stdout",
     "output_type": "stream",
     "text": [
      "Epoch 14, Val loss: 0.3475543708490902, Acc: 0.9638376383763838, ROC: 0.9938247077450012\n",
      "Epoch 15, Train loss: 0.008337509735550948, Acc: 0.997785796293259, ROC: 0.9998495053703033\n"
     ]
    },
    {
     "name": "stderr",
     "output_type": "stream",
     "text": [
      " 80%|████████  | 16/20 [2:59:10<44:41, 670.35s/it]"
     ]
    },
    {
     "name": "stdout",
     "output_type": "stream",
     "text": [
      "Epoch 15, Val loss: 0.34181471407060793, Acc: 0.9715867158671587, ROC: 0.9947459024113232\n",
      "Epoch 16, Train loss: 0.009676896720091322, Acc: 0.9972117434804002, ROC: 0.999878940324051\n"
     ]
    },
    {
     "name": "stderr",
     "output_type": "stream",
     "text": [
      " 85%|████████▌ | 17/20 [3:10:24<33:34, 671.54s/it]"
     ]
    },
    {
     "name": "stdout",
     "output_type": "stream",
     "text": [
      "Epoch 16, Val loss: 0.34357632846521907, Acc: 0.9708487084870848, ROC: 0.9956762923057119\n",
      "Epoch 17, Train loss: 0.008011860123111931, Acc: 0.997744792520912, ROC: 0.9999019729345394\n"
     ]
    },
    {
     "name": "stderr",
     "output_type": "stream",
     "text": [
      " 90%|█████████ | 18/20 [3:21:40<22:25, 672.85s/it]"
     ]
    },
    {
     "name": "stdout",
     "output_type": "stream",
     "text": [
      "Epoch 17, Val loss: 0.3419062916696424, Acc: 0.9719557195571956, ROC: 0.9947982873469761\n",
      "Epoch 18, Train loss: 0.008093299638549198, Acc: 0.9978268000656061, ROC: 0.9999187270515042\n"
     ]
    },
    {
     "name": "stderr",
     "output_type": "stream",
     "text": [
      " 95%|█████████▌| 19/20 [3:32:51<11:12, 672.29s/it]"
     ]
    },
    {
     "name": "stdout",
     "output_type": "stream",
     "text": [
      "Epoch 18, Val loss: 0.34180718184222836, Acc: 0.9723247232472325, ROC: 0.9953104336859657\n",
      "Epoch 19, Train loss: 0.009474841283242212, Acc: 0.997047728391012, ROC: 0.9998004299127053\n",
      "Epoch 19, Val loss: 0.3374683412574452, Acc: 0.9763837638376384, ROC: 0.9959387742705259\n"
     ]
    },
    {
     "name": "stderr",
     "output_type": "stream",
     "text": [
      "100%|██████████| 20/20 [3:44:06<00:00, 672.32s/it]\n"
     ]
    },
    {
     "data": {
      "image/png": "[encoded data removed]",
      "text/plain": [
       "<Figure size 432x288 with 1 Axes>"
      ]
     },
     "metadata": {
      "needs_background": "light"
     },
     "output_type": "display_data"
    },
    {
     "data": {
      "image/png": "[encoded data removed]",
      "text/plain": [
       "<Figure size 432x288 with 1 Axes>"
      ]
     },
     "metadata": {
      "needs_background": "light"
     },
     "output_type": "display_data"
    },
    {
     "name": "stdout",
     "output_type": "stream",
     "text": [
      "Epoch 0, Val loss: 0.44461027067154646, Acc: 0.8703703703703703, ROC: 0.9300459265175721\n",
      "waiting...\n",
      "flushing...\n",
      "done!\n"
     ]
    }
   ],
   "source": [
    "#4\n",
    "try:\n",
    "    print(f'\\033[48;5;230m\\033[38;5;203m    ⸂⸂⸜(രᴗര๑)⸝⸃⸃    {NFN_BACKBONES[INDEX]}    ⸂⸂⸜(രᴗര๑)⸝⸃⸃    \\033[0;0m')\n",
    "    NFN_train_val_infer(NFN_BACKBONES[INDEX])\n",
    "except:\n",
    "    pass\n",
    "INDEX += 1"
   ]
  },
  {
   "cell_type": "code",
   "execution_count": 36,
   "id": "06df587e-9b69-4c9f-8bbc-9e4108885cc4",
   "metadata": {},
   "outputs": [],
   "source": [
    "INDEX = 5"
   ]
  },
  {
   "cell_type": "code",
   "execution_count": 37,
   "id": "d8dfca06-a91e-4ff6-b54d-641e4c7cf710",
   "metadata": {
    "tags": []
   },
   "outputs": [
    {
     "name": "stdout",
     "output_type": "stream",
     "text": [
      "\u001b[48;5;230m\u001b[38;5;203m    ⸂⸂⸜(രᴗര๑)⸝⸃⸃    dm_nfnet_f6    ⸂⸂⸜(രᴗര๑)⸝⸃⸃    \u001b[0;0m\n"
     ]
    }
   ],
   "source": [
    "#5\n",
    "try:\n",
    "    print(f'\\033[48;5;230m\\033[38;5;203m    ⸂⸂⸜(രᴗര๑)⸝⸃⸃    {NFN_BACKBONES[INDEX]}    ⸂⸂⸜(രᴗര๑)⸝⸃⸃    \\033[0;0m')\n",
    "    NFN_train_val_infer(NFN_BACKBONES[INDEX])\n",
    "except:\n",
    "    pass\n",
    "INDEX += 1"
   ]
  },
  {
   "cell_type": "markdown",
   "id": "d67fca03-8c80-454f-a94d-1daea41634c4",
   "metadata": {},
   "source": [
    "# DEIT Couple"
   ]
  },
  {
   "cell_type": "code",
   "execution_count": null,
   "id": "c1f0b894-79c9-4119-b04d-517ee36fb983",
   "metadata": {},
   "outputs": [],
   "source": [
    "# need to resize image for using this"
   ]
  },
  {
   "cell_type": "code",
   "execution_count": null,
   "id": "a64ccac8-7417-4be0-9912-eb7d1049f05c",
   "metadata": {},
   "outputs": [],
   "source": [
    "DEIT_BACKBONES"
   ]
  },
  {
   "cell_type": "code",
   "execution_count": null,
   "id": "75518274-58ec-47ec-951d-6e48f2dc1201",
   "metadata": {},
   "outputs": [],
   "source": [
    "# DEIT_train_val_infer(DEIT_BACKBONES[1])"
   ]
  },
  {
   "cell_type": "code",
   "execution_count": null,
   "id": "3404ebca-ce51-4d7f-87a7-8c262899dca3",
   "metadata": {},
   "outputs": [],
   "source": []
  }
 ],
 "metadata": {
  "accelerator": "GPU",
  "colab": {
   "collapsed_sections": [],
   "name": "01_mask_code.ipynb",
   "provenance": [],
   "toc_visible": true
  },
  "kernelspec": {
   "display_name": "Python 3.8",
   "language": "python",
   "name": "py38"
  },
  "language_info": {
   "codemirror_mode": {
    "name": "ipython",
    "version": 3
   },
   "file_extension": ".py",
   "mimetype": "text/x-python",
   "name": "python",
   "nbconvert_exporter": "python",
   "pygments_lexer": "ipython3",
   "version": "3.8.8"
  },
  "widgets": {
   "application/vnd.jupyter.widget-state+json": {
    "023f93d14c934299be94113aa089ff2f": {
     "model_module": "@jupyter-widgets/controls",
     "model_module_version": "1.5.0",
     "model_name": "ProgressStyleModel",
     "state": {
      "_model_module": "@jupyter-widgets/controls",
      "_model_module_version": "1.5.0",
      "_model_name": "ProgressStyleModel",
      "_view_count": null,
      "_view_module": "@jupyter-widgets/base",
      "_view_module_version": "1.2.0",
      "_view_name": "StyleView",
      "bar_color": null,
      "description_width": ""
     }
    },
    "2c01333330ae4863af15c0057fc3ae56": {
     "model_module": "@jupyter-widgets/controls",
     "model_module_version": "1.5.0",
     "model_name": "HTMLModel",
     "state": {
      "_dom_classes": [],
      "_model_module": "@jupyter-widgets/controls",
      "_model_module_version": "1.5.0",
      "_model_name": "HTMLModel",
      "_view_count": null,
      "_view_module": "@jupyter-widgets/controls",
      "_view_module_version": "1.5.0",
      "_view_name": "HTMLView",
      "description": "",
      "description_tooltip": null,
      "layout": "IPY_MODEL_71dbfe7632524d69b167b4d56d44ed41",
      "placeholder": "​",
      "style": "IPY_MODEL_ef0ccb555eb34b45a4c5af40649f68ce",
      "value": "100%"
     }
    },
    "2e1f1639316a49e4acccba120fb254d4": {
     "model_module": "@jupyter-widgets/controls",
     "model_module_version": "1.5.0",
     "model_name": "HBoxModel",
     "state": {
      "_dom_classes": [],
      "_model_module": "@jupyter-widgets/controls",
      "_model_module_version": "1.5.0",
      "_model_name": "HBoxModel",
      "_view_count": null,
      "_view_module": "@jupyter-widgets/controls",
      "_view_module_version": "1.5.0",
      "_view_name": "HBoxView",
      "box_style": "",
      "children": [
       "IPY_MODEL_2c01333330ae4863af15c0057fc3ae56",
       "IPY_MODEL_48d64e6e8d294ebd974fd9e610e935d0",
       "IPY_MODEL_bb54549aef364adca5e067690cf7258c"
      ],
      "layout": "IPY_MODEL_c972d82225b84aa3aa6cb513952162b9"
     }
    },
    "48d64e6e8d294ebd974fd9e610e935d0": {
     "model_module": "@jupyter-widgets/controls",
     "model_module_version": "1.5.0",
     "model_name": "FloatProgressModel",
     "state": {
      "_dom_classes": [],
      "_model_module": "@jupyter-widgets/controls",
      "_model_module_version": "1.5.0",
      "_model_name": "FloatProgressModel",
      "_view_count": null,
      "_view_module": "@jupyter-widgets/controls",
      "_view_module_version": "1.5.0",
      "_view_name": "ProgressView",
      "bar_style": "success",
      "description": "",
      "description_tooltip": null,
      "layout": "IPY_MODEL_ce8f3ea6a7de46b08961e82f991b1a0e",
      "max": 21388428,
      "min": 0,
      "orientation": "horizontal",
      "style": "IPY_MODEL_023f93d14c934299be94113aa089ff2f",
      "value": 21388428
     }
    },
    "71dbfe7632524d69b167b4d56d44ed41": {
     "model_module": "@jupyter-widgets/base",
     "model_module_version": "1.2.0",
     "model_name": "LayoutModel",
     "state": {
      "_model_module": "@jupyter-widgets/base",
      "_model_module_version": "1.2.0",
      "_model_name": "LayoutModel",
      "_view_count": null,
      "_view_module": "@jupyter-widgets/base",
      "_view_module_version": "1.2.0",
      "_view_name": "LayoutView",
      "align_content": null,
      "align_items": null,
      "align_self": null,
      "border": null,
      "bottom": null,
      "display": null,
      "flex": null,
      "flex_flow": null,
      "grid_area": null,
      "grid_auto_columns": null,
      "grid_auto_flow": null,
      "grid_auto_rows": null,
      "grid_column": null,
      "grid_gap": null,
      "grid_row": null,
      "grid_template_areas": null,
      "grid_template_columns": null,
      "grid_template_rows": null,
      "height": null,
      "justify_content": null,
      "justify_items": null,
      "left": null,
      "margin": null,
      "max_height": null,
      "max_width": null,
      "min_height": null,
      "min_width": null,
      "object_fit": null,
      "object_position": null,
      "order": null,
      "overflow": null,
      "overflow_x": null,
      "overflow_y": null,
      "padding": null,
      "right": null,
      "top": null,
      "visibility": null,
      "width": null
     }
    },
    "bb54549aef364adca5e067690cf7258c": {
     "model_module": "@jupyter-widgets/controls",
     "model_module_version": "1.5.0",
     "model_name": "HTMLModel",
     "state": {
      "_dom_classes": [],
      "_model_module": "@jupyter-widgets/controls",
      "_model_module_version": "1.5.0",
      "_model_name": "HTMLModel",
      "_view_count": null,
      "_view_module": "@jupyter-widgets/controls",
      "_view_module_version": "1.5.0",
      "_view_name": "HTMLView",
      "description": "",
      "description_tooltip": null,
      "layout": "IPY_MODEL_bd2482a049e843f188adae6ee381101f",
      "placeholder": "​",
      "style": "IPY_MODEL_db323916e13f4d7da295d5ad05cf5c84",
      "value": " 20.4M/20.4M [00:00&lt;00:00, 71.6MB/s]"
     }
    },
    "bd2482a049e843f188adae6ee381101f": {
     "model_module": "@jupyter-widgets/base",
     "model_module_version": "1.2.0",
     "model_name": "LayoutModel",
     "state": {
      "_model_module": "@jupyter-widgets/base",
      "_model_module_version": "1.2.0",
      "_model_name": "LayoutModel",
      "_view_count": null,
      "_view_module": "@jupyter-widgets/base",
      "_view_module_version": "1.2.0",
      "_view_name": "LayoutView",
      "align_content": null,
      "align_items": null,
      "align_self": null,
      "border": null,
      "bottom": null,
      "display": null,
      "flex": null,
      "flex_flow": null,
      "grid_area": null,
      "grid_auto_columns": null,
      "grid_auto_flow": null,
      "grid_auto_rows": null,
      "grid_column": null,
      "grid_gap": null,
      "grid_row": null,
      "grid_template_areas": null,
      "grid_template_columns": null,
      "grid_template_rows": null,
      "height": null,
      "justify_content": null,
      "justify_items": null,
      "left": null,
      "margin": null,
      "max_height": null,
      "max_width": null,
      "min_height": null,
      "min_width": null,
      "object_fit": null,
      "object_position": null,
      "order": null,
      "overflow": null,
      "overflow_x": null,
      "overflow_y": null,
      "padding": null,
      "right": null,
      "top": null,
      "visibility": null,
      "width": null
     }
    },
    "c972d82225b84aa3aa6cb513952162b9": {
     "model_module": "@jupyter-widgets/base",
     "model_module_version": "1.2.0",
     "model_name": "LayoutModel",
     "state": {
      "_model_module": "@jupyter-widgets/base",
      "_model_module_version": "1.2.0",
      "_model_name": "LayoutModel",
      "_view_count": null,
      "_view_module": "@jupyter-widgets/base",
      "_view_module_version": "1.2.0",
      "_view_name": "LayoutView",
      "align_content": null,
      "align_items": null,
      "align_self": null,
      "border": null,
      "bottom": null,
      "display": null,
      "flex": null,
      "flex_flow": null,
      "grid_area": null,
      "grid_auto_columns": null,
      "grid_auto_flow": null,
      "grid_auto_rows": null,
      "grid_column": null,
      "grid_gap": null,
      "grid_row": null,
      "grid_template_areas": null,
      "grid_template_columns": null,
      "grid_template_rows": null,
      "height": null,
      "justify_content": null,
      "justify_items": null,
      "left": null,
      "margin": null,
      "max_height": null,
      "max_width": null,
      "min_height": null,
      "min_width": null,
      "object_fit": null,
      "object_position": null,
      "order": null,
      "overflow": null,
      "overflow_x": null,
      "overflow_y": null,
      "padding": null,
      "right": null,
      "top": null,
      "visibility": null,
      "width": null
     }
    },
    "ce8f3ea6a7de46b08961e82f991b1a0e": {
     "model_module": "@jupyter-widgets/base",
     "model_module_version": "1.2.0",
     "model_name": "LayoutModel",
     "state": {
      "_model_module": "@jupyter-widgets/base",
      "_model_module_version": "1.2.0",
      "_model_name": "LayoutModel",
      "_view_count": null,
      "_view_module": "@jupyter-widgets/base",
      "_view_module_version": "1.2.0",
      "_view_name": "LayoutView",
      "align_content": null,
      "align_items": null,
      "align_self": null,
      "border": null,
      "bottom": null,
      "display": null,
      "flex": null,
      "flex_flow": null,
      "grid_area": null,
      "grid_auto_columns": null,
      "grid_auto_flow": null,
      "grid_auto_rows": null,
      "grid_column": null,
      "grid_gap": null,
      "grid_row": null,
      "grid_template_areas": null,
      "grid_template_columns": null,
      "grid_template_rows": null,
      "height": null,
      "justify_content": null,
      "justify_items": null,
      "left": null,
      "margin": null,
      "max_height": null,
      "max_width": null,
      "min_height": null,
      "min_width": null,
      "object_fit": null,
      "object_position": null,
      "order": null,
      "overflow": null,
      "overflow_x": null,
      "overflow_y": null,
      "padding": null,
      "right": null,
      "top": null,
      "visibility": null,
      "width": null
     }
    },
    "db323916e13f4d7da295d5ad05cf5c84": {
     "model_module": "@jupyter-widgets/controls",
     "model_module_version": "1.5.0",
     "model_name": "DescriptionStyleModel",
     "state": {
      "_model_module": "@jupyter-widgets/controls",
      "_model_module_version": "1.5.0",
      "_model_name": "DescriptionStyleModel",
      "_view_count": null,
      "_view_module": "@jupyter-widgets/base",
      "_view_module_version": "1.2.0",
      "_view_name": "StyleView",
      "description_width": ""
     }
    },
    "ef0ccb555eb34b45a4c5af40649f68ce": {
     "model_module": "@jupyter-widgets/controls",
     "model_module_version": "1.5.0",
     "model_name": "DescriptionStyleModel",
     "state": {
      "_model_module": "@jupyter-widgets/controls",
      "_model_module_version": "1.5.0",
      "_model_name": "DescriptionStyleModel",
      "_view_count": null,
      "_view_module": "@jupyter-widgets/base",
      "_view_module_version": "1.2.0",
      "_view_name": "StyleView",
      "description_width": ""
     }
    }
   }
  }
 },
 "nbformat": 4,
 "nbformat_minor": 5
}
