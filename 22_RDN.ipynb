{
 "cells": [
  {
   "cell_type": "markdown",
   "id": "f51ba7c1-0393-47ec-89d9-f6f97072773b",
   "metadata": {
    "id": "f51ba7c1-0393-47ec-89d9-f6f97072773b"
   },
   "source": [
    "## 라이브러리 호출 및 I/O"
   ]
  },
  {
   "cell_type": "code",
   "execution_count": 1,
   "id": "98a45c7e-10ca-4fd1-9fd4-6326313a631a",
   "metadata": {
    "executionInfo": {
     "elapsed": 5126,
     "status": "ok",
     "timestamp": 1630047280444,
     "user": {
      "displayName": "박기돈",
      "photoUrl": "https://lh3.googleusercontent.com/a-/AOh14GhVEYQCp6v5ebpmCrZSsSB10iVBTuKIfM20WSM_=s64",
      "userId": "12822433786877269578"
     },
     "user_tz": -540
    },
    "id": "98a45c7e-10ca-4fd1-9fd4-6326313a631a"
   },
   "outputs": [],
   "source": [
    "import os, torch, copy, cv2, sys, random, logging\n",
    "from datetime import datetime, timezone, timedelta\n",
    "from PIL import Image\n",
    "import numpy as np\n",
    "import pandas as pd\n",
    "from tqdm import tqdm\n",
    "import torch.nn as nn\n",
    "import torch.optim as optim\n",
    "from torch.utils.data import DataLoader, Dataset\n",
    "import torchvision.transforms as transforms\n",
    "import torchvision.transforms.functional as TF\n",
    "import gc\n",
    "\n",
    "import matplotlib.pyplot as plt\n",
    "import json\n",
    "import pandas as pd\n",
    "import time\n",
    "from adamp import AdamP"
   ]
  },
  {
   "cell_type": "code",
   "execution_count": 2,
   "id": "dfe733f8-2e09-4197-8fa8-3d166c7b5101",
   "metadata": {},
   "outputs": [
    {
     "data": {
      "text/plain": [
       "1103849"
      ]
     },
     "execution_count": 2,
     "metadata": {},
     "output_type": "execute_result"
    }
   ],
   "source": [
    "os.getpid()"
   ]
  },
  {
   "cell_type": "code",
   "execution_count": 3,
   "id": "fcd8a1e9-a121-4fd3-9af4-23f1bbc2d6c3",
   "metadata": {},
   "outputs": [],
   "source": [
    "import warnings\n",
    "warnings.filterwarnings('ignore')"
   ]
  },
  {
   "cell_type": "code",
   "execution_count": 4,
   "id": "8f9c4250-2257-404f-941d-58eff1e9eb38",
   "metadata": {
    "executionInfo": {
     "elapsed": 309,
     "status": "ok",
     "timestamp": 1630047303454,
     "user": {
      "displayName": "박기돈",
      "photoUrl": "https://lh3.googleusercontent.com/a-/AOh14GhVEYQCp6v5ebpmCrZSsSB10iVBTuKIfM20WSM_=s64",
      "userId": "12822433786877269578"
     },
     "user_tz": -540
    },
    "id": "8f9c4250-2257-404f-941d-58eff1e9eb38"
   },
   "outputs": [],
   "source": [
    "# # 시드(seed) 설정\n",
    "\n",
    "# RANDOM_SEED = 2021\n",
    "# torch.manual_seed(RANDOM_SEED)\n",
    "# torch.backends.cudnn.deterministic = True\n",
    "# torch.backends.cudnn.benchmark = False\n",
    "# np.random.seed(RANDOM_SEED)\n",
    "# random.seed(RANDOM_SEED)"
   ]
  },
  {
   "cell_type": "code",
   "execution_count": 5,
   "id": "4e573764-7fdc-4e57-9a0a-39833df1d376",
   "metadata": {},
   "outputs": [],
   "source": [
    "def seed_everything(seed):\n",
    "    random.seed(seed)\n",
    "    os.environ['PYTHONHASHSEED'] = str(seed)\n",
    "    np.random.seed(seed)\n",
    "    torch.manual_seed(seed)\n",
    "    torch.cuda.manual_seed(seed)\n",
    "    torch.backends.cudnn.deterministic = True\n",
    "    torch.backends.cudnn.benchmark = False\n",
    "    \n",
    "seed = 100\n",
    "seed_everything(seed)"
   ]
  },
  {
   "cell_type": "code",
   "execution_count": 6,
   "id": "6AYoEZyP1V_V",
   "metadata": {
    "executionInfo": {
     "elapsed": 216,
     "status": "ok",
     "timestamp": 1630047300749,
     "user": {
      "displayName": "박기돈",
      "photoUrl": "https://lh3.googleusercontent.com/a-/AOh14GhVEYQCp6v5ebpmCrZSsSB10iVBTuKIfM20WSM_=s64",
      "userId": "12822433786877269578"
     },
     "user_tz": -540
    },
    "id": "6AYoEZyP1V_V"
   },
   "outputs": [],
   "source": [
    "def get_logger(name: str, file_path: str, stream=False) -> logging.RootLogger:\n",
    "    logger = logging.getLogger(name)\n",
    "    logger.setLevel(logging.INFO)\n",
    "\n",
    "    formatter = logging.Formatter('%(asctime)s | %(name)s | %(levelname)s | %(message)s')\n",
    "    stream_handler = logging.StreamHandler()\n",
    "    file_handler = logging.FileHandler(file_path)\n",
    "\n",
    "    stream_handler.setFormatter(formatter)\n",
    "    file_handler.setFormatter(formatter)\n",
    "\n",
    "    if stream:\n",
    "        logger.addHandler(stream_handler)\n",
    "    logger.addHandler(file_handler)\n",
    "\n",
    "    return logger"
   ]
  },
  {
   "cell_type": "markdown",
   "id": "3a6c255b-b30d-4ffd-a663-bc01a2c37954",
   "metadata": {
    "id": "3a6c255b-b30d-4ffd-a663-bc01a2c37954"
   },
   "source": [
    "## Argument Setting"
   ]
  },
  {
   "cell_type": "code",
   "execution_count": 7,
   "id": "9d69a8bc-2e64-4de6-928f-4e16957f6af9",
   "metadata": {
    "executionInfo": {
     "elapsed": 219,
     "status": "ok",
     "timestamp": 1630047307151,
     "user": {
      "displayName": "박기돈",
      "photoUrl": "https://lh3.googleusercontent.com/a-/AOh14GhVEYQCp6v5ebpmCrZSsSB10iVBTuKIfM20WSM_=s64",
      "userId": "12822433786877269578"
     },
     "user_tz": -540
    },
    "id": "9d69a8bc-2e64-4de6-928f-4e16957f6af9"
   },
   "outputs": [],
   "source": [
    "# working directory 지정\n",
    "ROOT_PATH = './'\n",
    "TRAIN_DIR = os.path.join(ROOT_PATH, 'train')\n",
    "RESULT_DIR = os.path.join(ROOT_PATH, 'results')\n",
    "WEIGHT_DIR = os.path.join(ROOT_PATH, 'weights')\n",
    "NUMPY_DIR = os.path.join(ROOT_PATH, 'numpy')\n",
    "CSV_DIR = os.path.join(ROOT_PATH, 'csv')\n",
    "TEST_DIR = os.path.join(ROOT_PATH, 'test')\n",
    "TEST_ANNOT_DIR = os.path.join(ROOT_PATH, 'test_annot')\n",
    "EXAMPLE_DIR = os.path.join(ROOT_PATH, 'example')\n",
    "SR_EXAMPLE_DIR = os.path.join(ROOT_PATH, 'example_SR')\n",
    "SR_TRAIN_DIR = os.path.join(ROOT_PATH, 'train_SR')\n",
    "SR_TEST_DIR = os.path.join(ROOT_PATH, 'test_SR')\n",
    "\n",
    "if not os.path.isdir(RESULT_DIR):\n",
    "    os.makedirs(RESULT_DIR)\n",
    "\n",
    "# hyper-parameters\n",
    "EPOCHS = 20\n",
    "BATCH_SIZE = 16\n",
    "LEARNING_RATE = 2e-5\n",
    "WEIGHT_DECAY = 1e-8\n",
    "EARLY_STOPPING_PATIENCE = 5\n",
    "INPUT_SHAPE = (480, 240)\n",
    "device = torch.device('cuda' if torch.cuda.is_available() else 'cpu')"
   ]
  },
  {
   "cell_type": "markdown",
   "id": "5f39e01c-6c1d-4546-8a2f-c40c7275f765",
   "metadata": {},
   "source": [
    "## Try Super-Resolution"
   ]
  },
  {
   "cell_type": "code",
   "execution_count": 8,
   "id": "e5b726f9-998c-43b2-b90b-2d83a7144735",
   "metadata": {},
   "outputs": [],
   "source": [
    "from ISR.models import RDN, RRDN\n",
    "\n",
    "rdn = RDN(weights='psnr-large')\n",
    "\n",
    "rrdn = RRDN(weights='gans')"
   ]
  },
  {
   "cell_type": "code",
   "execution_count": 9,
   "id": "4014cf10-8b9d-41dd-a478-ed5c07610655",
   "metadata": {},
   "outputs": [
    {
     "data": {
      "text/plain": [
       "['x4_nomask3.png',\n",
       " 'x2_nomask3.png',\n",
       " 'nomask2.png',\n",
       " 'x2_nomask2.png',\n",
       " 'x2_nomask1.png',\n",
       " 'x4_nomask1.png',\n",
       " 'x4_mask1.png',\n",
       " 'x2_mask2.png',\n",
       " 'x2_mask1.png',\n",
       " 'x4_nomask2.png',\n",
       " 'x4_mask2.png',\n",
       " 'mask1.png',\n",
       " 'x4_mask3.png',\n",
       " 'nomask1.png',\n",
       " 'x2_mask4.png',\n",
       " 'nomask4.png',\n",
       " 'x4_nomask4.png',\n",
       " 'x2_nomask4.png',\n",
       " 'mask2.png',\n",
       " 'mask3.png',\n",
       " 'mask4.png',\n",
       " 'nomask3.png',\n",
       " 'x2_mask3.png',\n",
       " 'x4_mask4.png']"
      ]
     },
     "execution_count": 9,
     "metadata": {},
     "output_type": "execute_result"
    }
   ],
   "source": [
    "filenames = os.listdir(EXAMPLE_DIR)\n",
    "filenames = [f for f in filenames if not f[0] == '.']\n",
    "filenames"
   ]
  },
  {
   "cell_type": "code",
   "execution_count": 27,
   "id": "0f9a9655-0554-40ea-9fca-2ebd7b94bec0",
   "metadata": {},
   "outputs": [
    {
     "name": "stdout",
     "output_type": "stream",
     "text": [
      "WARNING:tensorflow:5 out of the last 7 calls to <function Model.make_predict_function.<locals>.predict_function at 0x7f78fc62c550> triggered tf.function retracing. Tracing is expensive and the excessive number of tracings could be due to (1) creating @tf.function repeatedly in a loop, (2) passing tensors with different shapes, (3) passing Python objects instead of tensors. For (1), please define your @tf.function outside of the loop. For (2), @tf.function has experimental_relax_shapes=True option that relaxes argument shapes that can avoid unnecessary retracing. For (3), please refer to https://www.tensorflow.org/guide/function#controlling_retracing and https://www.tensorflow.org/api_docs/python/tf/function for  more details.\n",
      "WARNING:tensorflow:6 out of the last 8 calls to <function Model.make_predict_function.<locals>.predict_function at 0x7f78fc3b69d0> triggered tf.function retracing. Tracing is expensive and the excessive number of tracings could be due to (1) creating @tf.function repeatedly in a loop, (2) passing tensors with different shapes, (3) passing Python objects instead of tensors. For (1), please define your @tf.function outside of the loop. For (2), @tf.function has experimental_relax_shapes=True option that relaxes argument shapes that can avoid unnecessary retracing. For (3), please refer to https://www.tensorflow.org/guide/function#controlling_retracing and https://www.tensorflow.org/api_docs/python/tf/function for  more details.\n"
     ]
    }
   ],
   "source": [
    "for f in filenames:\n",
    "    IM_PATH = os.path.join(EXAMPLE_DIR, f)\n",
    "    im = cv2.imread(IM_PATH)\n",
    "    \n",
    "    rdn_im = rdn.predict(im)\n",
    "    rrdn_im = rrdn.predict(im)\n",
    "    \n",
    "    cv2.imwrite(os.path.join(SR_EXAMPLE_DIR, f'rdn_{f}'), rdn_im)\n",
    "    cv2.imwrite(os.path.join(SR_EXAMPLE_DIR, f'rrdn_{f}'), rdn_im)"
   ]
  },
  {
   "cell_type": "code",
   "execution_count": 32,
   "id": "c8b107f1-c477-405b-bcc7-0e05d317279f",
   "metadata": {},
   "outputs": [],
   "source": [
    "for f in filenames:\n",
    "    IM_PATH = os.path.join(EXAMPLE_DIR, f)\n",
    "    im = cv2.imread(IM_PATH)\n",
    "    h, w, _ = im.shape\n",
    "    \n",
    "    x2_im = cv2.resize(im, (w*2, h*2), cv2.INTER_LINEAR)\n",
    "    x4_im = cv2.resize(im, (w*4, h*4), cv2.INTER_LINEAR)\n",
    "    \n",
    "    cv2.imwrite(os.path.join(EXAMPLE_DIR, f'x2_{f}'), x2_im)\n",
    "    cv2.imwrite(os.path.join(EXAMPLE_DIR, f'x4_{f}'), x4_im)"
   ]
  },
  {
   "cell_type": "markdown",
   "id": "0055022e-5df6-40ad-9dfc-dfbef1863e4d",
   "metadata": {},
   "source": [
    "## Create SR Dataset"
   ]
  },
  {
   "cell_type": "code",
   "execution_count": null,
   "id": "19b3fdf8-e654-4ff1-a953-03251edad5bc",
   "metadata": {},
   "outputs": [],
   "source": [
    "filenames = os.listdir(os.path.join(TRAIN_DIR,\"Mask\"))\n",
    "filenames = [f for f in filenames if not f[0] == '.']\n",
    "filenames"
   ]
  },
  {
   "cell_type": "code",
   "execution_count": null,
   "id": "1c76294d-f80d-45d1-9935-4afa97a53a65",
   "metadata": {},
   "outputs": [],
   "source": [
    "for f in filenames:\n",
    "    IM_PATH = os.path.join(TRAIN_DIR, f'Mask/{f}')\n",
    "    im = cv2.imread(IM_PATH)\n",
    "    \n",
    "    rdn_im = rdn.predict(im)\n",
    "    \n",
    "    cv2.imwrite(os.path.join(SR_TRAIN_DIR, f'Mask/{f}'), rdn_im)"
   ]
  },
  {
   "cell_type": "code",
   "execution_count": null,
   "id": "c7d95ce6-e0e3-4a6e-b023-6b0bda5ff859",
   "metadata": {},
   "outputs": [],
   "source": [
    "filenames = os.listdir(os.path.join(TRAIN_DIR,\"NoMask\"))\n",
    "filenames = [f for f in filenames if not f[0] == '.']\n",
    "filenames"
   ]
  },
  {
   "cell_type": "code",
   "execution_count": 11,
   "id": "158f224f-ff8d-4235-a72a-b309000bfd95",
   "metadata": {},
   "outputs": [],
   "source": [
    "for f in filenames:\n",
    "    IM_PATH = os.path.join(TRAIN_DIR, f'NoMask/{f}')\n",
    "    im = cv2.imread(IM_PATH)\n",
    "    \n",
    "    rdn_im = rdn.predict(im)\n",
    "    \n",
    "    cv2.imwrite(os.path.join(SR_TRAIN_DIR, f'NoMask/{f}'), rdn_im)"
   ]
  },
  {
   "cell_type": "code",
   "execution_count": 12,
   "id": "cecec004-f70b-4763-a74a-e59cdbfed026",
   "metadata": {},
   "outputs": [
    {
     "data": {
      "text/plain": [
       "['619.png',\n",
       " '700.png',\n",
       " '143.png',\n",
       " '345.png',\n",
       " '244.png',\n",
       " '52.png',\n",
       " '823.png',\n",
       " '477.png',\n",
       " '857.png',\n",
       " '987.png',\n",
       " '922.png',\n",
       " '242.png',\n",
       " '40.png',\n",
       " '918.png',\n",
       " '721.png',\n",
       " '651.png',\n",
       " '594.png',\n",
       " '606.png',\n",
       " '663.png',\n",
       " '155.png',\n",
       " '1002.png',\n",
       " '508.png',\n",
       " '32.png',\n",
       " '339.png',\n",
       " '502.png',\n",
       " '458.png',\n",
       " '509.png',\n",
       " '325.png',\n",
       " '577.png',\n",
       " '188.png',\n",
       " '578.png',\n",
       " '121.png',\n",
       " '467.png',\n",
       " '727.png',\n",
       " '488.png',\n",
       " '677.png',\n",
       " '1005.png',\n",
       " '352.png',\n",
       " '332.png',\n",
       " '622.png',\n",
       " '841.png',\n",
       " '10.png',\n",
       " '318.png',\n",
       " '989.png',\n",
       " '441.png',\n",
       " '390.png',\n",
       " '652.png',\n",
       " '228.png',\n",
       " '400.png',\n",
       " '912.png',\n",
       " '23.png',\n",
       " '102.png',\n",
       " '634.png',\n",
       " '90.png',\n",
       " '168.png',\n",
       " '487.png',\n",
       " '813.png',\n",
       " '89.png',\n",
       " '746.png',\n",
       " '992.png',\n",
       " '702.png',\n",
       " '209.png',\n",
       " '349.png',\n",
       " '924.png',\n",
       " '202.png',\n",
       " '115.png',\n",
       " '473.png',\n",
       " '36.png',\n",
       " '334.png',\n",
       " '25.png',\n",
       " '20.png',\n",
       " '800.png',\n",
       " '157.png',\n",
       " '596.png',\n",
       " '538.png',\n",
       " '193.png',\n",
       " '816.png',\n",
       " '359.png',\n",
       " '631.png',\n",
       " '797.png',\n",
       " '812.png',\n",
       " '342.png',\n",
       " '636.png',\n",
       " '637.png',\n",
       " '834.png',\n",
       " '1021.png',\n",
       " '676.png',\n",
       " '434.png',\n",
       " '399.png',\n",
       " '878.png',\n",
       " '1018.png',\n",
       " '1015.png',\n",
       " '3.png',\n",
       " '423.png',\n",
       " '324.png',\n",
       " '877.png',\n",
       " '256.png',\n",
       " '889.png',\n",
       " '825.png',\n",
       " '946.png',\n",
       " '316.png',\n",
       " '586.png',\n",
       " '843.png',\n",
       " '646.png',\n",
       " '881.png',\n",
       " '872.png',\n",
       " '612.png',\n",
       " '48.png',\n",
       " '688.png',\n",
       " '801.png',\n",
       " '658.png',\n",
       " '824.png',\n",
       " '404.png',\n",
       " '274.png',\n",
       " '732.png',\n",
       " '598.png',\n",
       " '200.png',\n",
       " '333.png',\n",
       " '833.png',\n",
       " '630.png',\n",
       " '735.png',\n",
       " '285.png',\n",
       " '750.png',\n",
       " '107.png',\n",
       " '524.png',\n",
       " '139.png',\n",
       " '43.png',\n",
       " '224.png',\n",
       " '784.png',\n",
       " '259.png',\n",
       " '312.png',\n",
       " '385.png',\n",
       " '874.png',\n",
       " '291.png',\n",
       " '701.png',\n",
       " '521.png',\n",
       " '963.png',\n",
       " '167.png',\n",
       " '978.png',\n",
       " '215.png',\n",
       " '632.png',\n",
       " '839.png',\n",
       " '859.png',\n",
       " '194.png',\n",
       " '493.png',\n",
       " '199.png',\n",
       " '136.png',\n",
       " '662.png',\n",
       " '66.png',\n",
       " '650.png',\n",
       " '728.png',\n",
       " '805.png',\n",
       " '591.png',\n",
       " '633.png',\n",
       " '464.png',\n",
       " '826.png',\n",
       " '973.png',\n",
       " '875.png',\n",
       " '425.png',\n",
       " '753.png',\n",
       " '954.png',\n",
       " '949.png',\n",
       " '827.png',\n",
       " '657.png',\n",
       " '79.png',\n",
       " '72.png',\n",
       " '906.png',\n",
       " '627.png',\n",
       " '901.png',\n",
       " '808.png',\n",
       " '638.png',\n",
       " '686.png',\n",
       " '445.png',\n",
       " '337.png',\n",
       " '541.png',\n",
       " '545.png',\n",
       " '610.png',\n",
       " '934.png',\n",
       " '915.png',\n",
       " '942.png',\n",
       " '270.png',\n",
       " '189.png',\n",
       " '222.png',\n",
       " '449.png',\n",
       " '890.png',\n",
       " '603.png',\n",
       " '862.png',\n",
       " '84.png',\n",
       " '908.png',\n",
       " '94.png',\n",
       " '225.png',\n",
       " '321.png',\n",
       " '64.png',\n",
       " '446.png',\n",
       " '515.png',\n",
       " '254.png',\n",
       " '898.png',\n",
       " '855.png',\n",
       " '158.png',\n",
       " '117.png',\n",
       " '37.png',\n",
       " '557.png',\n",
       " '267.png',\n",
       " '856.png',\n",
       " '747.png',\n",
       " '899.png',\n",
       " '792.png',\n",
       " '162.png',\n",
       " '472.png',\n",
       " '313.png',\n",
       " '791.png',\n",
       " '789.png',\n",
       " '490.png',\n",
       " '960.png',\n",
       " '720.png',\n",
       " '485.png',\n",
       " '885.png',\n",
       " '55.png',\n",
       " '940.png',\n",
       " '1009.png',\n",
       " '382.png',\n",
       " '734.png',\n",
       " '403.png',\n",
       " '561.png',\n",
       " '600.png',\n",
       " '431.png',\n",
       " '257.png',\n",
       " '169.png',\n",
       " '573.png',\n",
       " '320.png',\n",
       " '723.png',\n",
       " '572.png',\n",
       " '370.png',\n",
       " '171.png',\n",
       " '983.png',\n",
       " '286.png',\n",
       " '165.png',\n",
       " '489.png',\n",
       " '396.png',\n",
       " '405.png',\n",
       " '567.png',\n",
       " '595.png',\n",
       " '366.png',\n",
       " '948.png',\n",
       " '691.png',\n",
       " '69.png',\n",
       " '277.png',\n",
       " '389.png',\n",
       " '398.png',\n",
       " '351.png',\n",
       " '565.png',\n",
       " '799.png',\n",
       " '513.png',\n",
       " '456.png',\n",
       " '44.png',\n",
       " '748.png',\n",
       " '130.png',\n",
       " '982.png',\n",
       " '82.png',\n",
       " '243.png',\n",
       " '233.png',\n",
       " '33.png',\n",
       " '356.png',\n",
       " '42.png',\n",
       " '156.png',\n",
       " '759.png',\n",
       " '523.png',\n",
       " '178.png',\n",
       " '985.png',\n",
       " '917.png',\n",
       " '39.png',\n",
       " '566.png',\n",
       " '836.png',\n",
       " '715.png',\n",
       " '1004.png',\n",
       " '919.png',\n",
       " '986.png',\n",
       " '568.png',\n",
       " '786.png',\n",
       " '532.png',\n",
       " '583.png',\n",
       " '419.png',\n",
       " '187.png',\n",
       " '392.png',\n",
       " '810.png',\n",
       " '70.png',\n",
       " '77.png',\n",
       " '353.png',\n",
       " '125.png',\n",
       " '317.png',\n",
       " '355.png',\n",
       " '5.png',\n",
       " '829.png',\n",
       " '258.png',\n",
       " '886.png',\n",
       " '303.png',\n",
       " '905.png',\n",
       " '796.png',\n",
       " '740.png',\n",
       " '897.png',\n",
       " '549.png',\n",
       " '697.png',\n",
       " '28.png',\n",
       " '670.png',\n",
       " '181.png',\n",
       " '713.png',\n",
       " '531.png',\n",
       " '60.png',\n",
       " '961.png',\n",
       " '49.png',\n",
       " '620.png',\n",
       " '542.png',\n",
       " '847.png',\n",
       " '527.png',\n",
       " '376.png',\n",
       " '289.png',\n",
       " '835.png',\n",
       " '894.png',\n",
       " '977.png',\n",
       " '1008.png',\n",
       " '758.png',\n",
       " '787.png',\n",
       " '584.png',\n",
       " '911.png',\n",
       " '138.png',\n",
       " '525.png',\n",
       " '895.png',\n",
       " '51.png',\n",
       " '551.png',\n",
       " '811.png',\n",
       " '91.png',\n",
       " '935.png',\n",
       " '418.png',\n",
       " '559.png',\n",
       " '1012.png',\n",
       " '574.png',\n",
       " '1022.png',\n",
       " '552.png',\n",
       " '672.png',\n",
       " '587.png',\n",
       " '184.png',\n",
       " '263.png',\n",
       " '142.png',\n",
       " '406.png',\n",
       " '231.png',\n",
       " '520.png',\n",
       " '845.png',\n",
       " '544.png',\n",
       " '109.png',\n",
       " '278.png',\n",
       " '114.png',\n",
       " '336.png',\n",
       " '322.png',\n",
       " '761.png',\n",
       " '604.png',\n",
       " '781.png',\n",
       " '395.png',\n",
       " '932.png',\n",
       " '861.png',\n",
       " '1014.png',\n",
       " '172.png',\n",
       " '191.png',\n",
       " '974.png',\n",
       " '547.png',\n",
       " '280.png',\n",
       " '902.png',\n",
       " '494.png',\n",
       " '842.png',\n",
       " '507.png',\n",
       " '93.png',\n",
       " '111.png',\n",
       " '482.png',\n",
       " '751.png',\n",
       " '331.png',\n",
       " '964.png',\n",
       " '383.png',\n",
       " '214.png',\n",
       " '654.png',\n",
       " '13.png',\n",
       " '73.png',\n",
       " '718.png',\n",
       " '428.png',\n",
       " '570.png',\n",
       " '413.png',\n",
       " '281.png',\n",
       " '803.png',\n",
       " '788.png',\n",
       " '879.png',\n",
       " '679.png',\n",
       " '57.png',\n",
       " '427.png',\n",
       " '852.png',\n",
       " '684.png',\n",
       " '780.png',\n",
       " '984.png',\n",
       " '268.png',\n",
       " '265.png',\n",
       " '426.png',\n",
       " '71.png',\n",
       " '220.png',\n",
       " '783.png',\n",
       " '144.png',\n",
       " '951.png',\n",
       " '476.png',\n",
       " '642.png',\n",
       " '373.png',\n",
       " '804.png',\n",
       " '733.png',\n",
       " '1019.png',\n",
       " '299.png',\n",
       " '375.png',\n",
       " '296.png',\n",
       " '802.png',\n",
       " '198.png',\n",
       " '921.png',\n",
       " '11.png',\n",
       " '177.png',\n",
       " '323.png',\n",
       " '227.png',\n",
       " '618.png',\n",
       " '867.png',\n",
       " '579.png',\n",
       " '161.png',\n",
       " '486.png',\n",
       " '341.png',\n",
       " '223.png',\n",
       " '592.png',\n",
       " '417.png',\n",
       " '410.png',\n",
       " '363.png',\n",
       " '976.png',\n",
       " '219.png',\n",
       " '96.png',\n",
       " '358.png',\n",
       " '475.png',\n",
       " '491.png',\n",
       " '593.png',\n",
       " '703.png',\n",
       " '374.png',\n",
       " '725.png',\n",
       " '134.png',\n",
       " '809.png',\n",
       " '421.png',\n",
       " '8.png',\n",
       " '866.png',\n",
       " '754.png',\n",
       " '819.png',\n",
       " '99.png',\n",
       " '617.png',\n",
       " '61.png',\n",
       " '853.png',\n",
       " '409.png',\n",
       " '501.png',\n",
       " '673.png',\n",
       " '343.png',\n",
       " '656.png',\n",
       " '442.png',\n",
       " '137.png',\n",
       " '626.png',\n",
       " '402.png',\n",
       " '86.png',\n",
       " '503.png',\n",
       " '931.png',\n",
       " '46.png',\n",
       " '24.png',\n",
       " '661.png',\n",
       " '232.png',\n",
       " '775.png',\n",
       " '621.png',\n",
       " '310.png',\n",
       " '522.png',\n",
       " '969.png',\n",
       " '75.png',\n",
       " '979.png',\n",
       " '849.png',\n",
       " '685.png',\n",
       " '737.png',\n",
       " '18.png',\n",
       " '197.png',\n",
       " '730.png',\n",
       " '860.png',\n",
       " '347.png',\n",
       " '315.png',\n",
       " '609.png',\n",
       " '563.png',\n",
       " '354.png',\n",
       " '380.png',\n",
       " '31.png',\n",
       " '714.png',\n",
       " '54.png',\n",
       " '717.png',\n",
       " '821.png',\n",
       " '807.png',\n",
       " '110.png',\n",
       " '9.png',\n",
       " '327.png',\n",
       " '298.png',\n",
       " '850.png',\n",
       " '540.png',\n",
       " '304.png',\n",
       " '643.png',\n",
       " '653.png',\n",
       " '97.png',\n",
       " '846.png',\n",
       " '914.png',\n",
       " '4.png',\n",
       " '361.png',\n",
       " '966.png',\n",
       " '260.png',\n",
       " '119.png',\n",
       " '771.png',\n",
       " '614.png',\n",
       " '599.png',\n",
       " '368.png',\n",
       " '212.png',\n",
       " '346.png',\n",
       " '712.png',\n",
       " '755.png',\n",
       " '681.png',\n",
       " '814.png',\n",
       " '589.png',\n",
       " '253.png',\n",
       " '19.png',\n",
       " '210.png',\n",
       " '180.png',\n",
       " '120.png',\n",
       " '98.png',\n",
       " '58.png',\n",
       " '560.png',\n",
       " '462.png',\n",
       " '888.png',\n",
       " '153.png',\n",
       " '174.png',\n",
       " '283.png',\n",
       " '335.png',\n",
       " '871.png',\n",
       " '582.png',\n",
       " '74.png',\n",
       " '132.png',\n",
       " '635.png',\n",
       " '247.png',\n",
       " '778.png',\n",
       " '131.png',\n",
       " '779.png',\n",
       " '690.png',\n",
       " '447.png',\n",
       " '731.png',\n",
       " '820.png',\n",
       " '649.png',\n",
       " '1024.png',\n",
       " '433.png',\n",
       " '1001.png',\n",
       " '300.png',\n",
       " '729.png',\n",
       " '1025.png',\n",
       " '344.png',\n",
       " '367.png',\n",
       " '163.png',\n",
       " '716.png',\n",
       " '709.png',\n",
       " '530.png',\n",
       " '204.png',\n",
       " '991.png',\n",
       " '704.png',\n",
       " '216.png',\n",
       " '56.png',\n",
       " '997.png',\n",
       " '306.png',\n",
       " '206.png',\n",
       " '133.png',\n",
       " '536.png',\n",
       " '639.png',\n",
       " '790.png',\n",
       " '955.png',\n",
       " '766.png',\n",
       " '484.png',\n",
       " '794.png',\n",
       " '59.png',\n",
       " '550.png',\n",
       " '468.png',\n",
       " '305.png',\n",
       " '151.png',\n",
       " '440.png',\n",
       " '391.png',\n",
       " '971.png',\n",
       " '397.png',\n",
       " '628.png',\n",
       " '465.png',\n",
       " '798.png',\n",
       " '384.png',\n",
       " '518.png',\n",
       " '432.png',\n",
       " '239.png',\n",
       " '362.png',\n",
       " '776.png',\n",
       " '112.png',\n",
       " '959.png',\n",
       " '83.png',\n",
       " '88.png',\n",
       " '492.png',\n",
       " '416.png',\n",
       " '29.png',\n",
       " '401.png',\n",
       " '864.png',\n",
       " '543.png',\n",
       " '692.png',\n",
       " '203.png',\n",
       " '739.png',\n",
       " '444.png',\n",
       " '105.png',\n",
       " '869.png',\n",
       " '806.png',\n",
       " '505.png',\n",
       " '920.png',\n",
       " '205.png',\n",
       " '293.png',\n",
       " '907.png',\n",
       " '116.png',\n",
       " '420.png',\n",
       " '665.png',\n",
       " '904.png',\n",
       " '295.png',\n",
       " '460.png',\n",
       " '760.png',\n",
       " '1011.png',\n",
       " '840.png',\n",
       " '62.png',\n",
       " '78.png',\n",
       " '893.png',\n",
       " '648.png',\n",
       " '785.png',\n",
       " '990.png',\n",
       " '624.png',\n",
       " '726.png',\n",
       " '913.png',\n",
       " '438.png',\n",
       " '500.png',\n",
       " '436.png',\n",
       " '340.png',\n",
       " '437.png',\n",
       " '499.png',\n",
       " '68.png',\n",
       " '101.png',\n",
       " '240.png',\n",
       " '483.png',\n",
       " '443.png',\n",
       " '22.png',\n",
       " '348.png',\n",
       " '282.png',\n",
       " '461.png',\n",
       " '326.png',\n",
       " '707.png',\n",
       " '47.png',\n",
       " '241.png',\n",
       " '695.png',\n",
       " '81.png',\n",
       " '297.png',\n",
       " '103.png',\n",
       " '30.png',\n",
       " '126.png',\n",
       " '999.png',\n",
       " '671.png',\n",
       " '736.png',\n",
       " '170.png',\n",
       " '407.png',\n",
       " '613.png',\n",
       " '275.png',\n",
       " '207.png',\n",
       " '782.png',\n",
       " '140.png',\n",
       " '408.png',\n",
       " '517.png',\n",
       " '696.png',\n",
       " '149.png',\n",
       " '386.png',\n",
       " '537.png',\n",
       " '95.png',\n",
       " '290.png',\n",
       " '950.png',\n",
       " '883.png',\n",
       " '601.png',\n",
       " '195.png',\n",
       " '208.png',\n",
       " '851.png',\n",
       " '930.png',\n",
       " '722.png',\n",
       " '221.png',\n",
       " '1020.png',\n",
       " '945.png',\n",
       " '602.png',\n",
       " '175.png',\n",
       " '607.png',\n",
       " '307.png',\n",
       " '430.png',\n",
       " '699.png',\n",
       " '516.png',\n",
       " '92.png',\n",
       " '687.png',\n",
       " '213.png',\n",
       " '459.png',\n",
       " '576.png',\n",
       " '226.png',\n",
       " '50.png',\n",
       " '526.png',\n",
       " '838.png',\n",
       " '429.png',\n",
       " '896.png',\n",
       " '858.png',\n",
       " '765.png',\n",
       " '15.png',\n",
       " '506.png',\n",
       " '669.png',\n",
       " '150.png',\n",
       " '415.png',\n",
       " '35.png',\n",
       " '757.png',\n",
       " '927.png',\n",
       " '933.png',\n",
       " '689.png',\n",
       " '623.png',\n",
       " '470.png',\n",
       " '1003.png',\n",
       " '448.png',\n",
       " '533.png',\n",
       " '916.png',\n",
       " '381.png',\n",
       " '815.png',\n",
       " '269.png',\n",
       " '519.png',\n",
       " '38.png',\n",
       " '250.png',\n",
       " '564.png',\n",
       " '936.png',\n",
       " '900.png',\n",
       " '605.png',\n",
       " '248.png',\n",
       " '106.png',\n",
       " '529.png',\n",
       " '455.png',\n",
       " '65.png',\n",
       " '12.png',\n",
       " '818.png',\n",
       " '6.png',\n",
       " '597.png',\n",
       " '923.png',\n",
       " '554.png',\n",
       " '17.png',\n",
       " '1006.png',\n",
       " '762.png',\n",
       " '891.png',\n",
       " '1000.png',\n",
       " '880.png',\n",
       " '104.png',\n",
       " '711.png',\n",
       " '742.png',\n",
       " '640.png',\n",
       " '546.png',\n",
       " '261.png',\n",
       " '953.png',\n",
       " '925.png',\n",
       " '127.png',\n",
       " '182.png',\n",
       " '164.png',\n",
       " '943.png',\n",
       " '7.png',\n",
       " '271.png',\n",
       " '512.png',\n",
       " '981.png',\n",
       " '129.png',\n",
       " '644.png',\n",
       " '229.png',\n",
       " '674.png',\n",
       " '365.png',\n",
       " '414.png',\n",
       " '680.png',\n",
       " '588.png',\n",
       " '249.png',\n",
       " '27.png',\n",
       " '179.png',\n",
       " '124.png',\n",
       " '616.png',\n",
       " '218.png',\n",
       " '479.png',\n",
       " '556.png',\n",
       " '217.png',\n",
       " '246.png',\n",
       " '245.png',\n",
       " '1016.png',\n",
       " '510.png',\n",
       " '767.png',\n",
       " '569.png',\n",
       " '63.png',\n",
       " '706.png',\n",
       " '1007.png',\n",
       " '454.png',\n",
       " '497.png',\n",
       " '176.png',\n",
       " '831.png',\n",
       " '309.png',\n",
       " '192.png',\n",
       " '480.png',\n",
       " '868.png',\n",
       " '495.png',\n",
       " '412.png',\n",
       " '772.png',\n",
       " '995.png',\n",
       " '128.png',\n",
       " '113.png',\n",
       " '2.png',\n",
       " '698.png',\n",
       " '435.png',\n",
       " '837.png',\n",
       " '288.png',\n",
       " '287.png',\n",
       " '235.png',\n",
       " '938.png',\n",
       " '135.png',\n",
       " '980.png',\n",
       " '148.png',\n",
       " '884.png',\n",
       " '585.png',\n",
       " '100.png',\n",
       " '1013.png',\n",
       " '292.png',\n",
       " '743.png',\n",
       " '710.png',\n",
       " '958.png',\n",
       " '196.png',\n",
       " '777.png',\n",
       " '160.png',\n",
       " '937.png',\n",
       " '970.png',\n",
       " '830.png',\n",
       " '928.png',\n",
       " '41.png',\n",
       " '294.png',\n",
       " '463.png',\n",
       " '14.png',\n",
       " '67.png',\n",
       " '311.png',\n",
       " '535.png',\n",
       " '641.png',\n",
       " '457.png',\n",
       " '941.png',\n",
       " '453.png',\n",
       " '764.png',\n",
       " '993.png',\n",
       " '1023.png',\n",
       " '183.png',\n",
       " '87.png',\n",
       " '16.png',\n",
       " '769.png',\n",
       " '357.png',\n",
       " '534.png',\n",
       " '571.png',\n",
       " '562.png',\n",
       " '741.png',\n",
       " '854.png',\n",
       " '264.png',\n",
       " '668.png',\n",
       " '498.png',\n",
       " '667.png',\n",
       " '452.png',\n",
       " '185.png',\n",
       " '372.png',\n",
       " '876.png',\n",
       " '34.png',\n",
       " '882.png',\n",
       " '967.png',\n",
       " '972.png',\n",
       " '85.png',\n",
       " '237.png',\n",
       " '262.png',\n",
       " '909.png',\n",
       " '965.png',\n",
       " '76.png',\n",
       " '548.png',\n",
       " '756.png',\n",
       " '190.png',\n",
       " '393.png',\n",
       " '664.png',\n",
       " '647.png',\n",
       " '279.png',\n",
       " '994.png',\n",
       " '822.png',\n",
       " '749.png',\n",
       " '910.png',\n",
       " '387.png',\n",
       " '302.png',\n",
       " '45.png',\n",
       " '558.png',\n",
       " '478.png',\n",
       " '364.png',\n",
       " '319.png',\n",
       " '211.png',\n",
       " '360.png',\n",
       " '873.png',\n",
       " '234.png',\n",
       " '770.png',\n",
       " '118.png',\n",
       " '146.png',\n",
       " '682.png',\n",
       " '152.png',\n",
       " '655.png',\n",
       " '330.png',\n",
       " '844.png',\n",
       " '314.png',\n",
       " '962.png',\n",
       " '53.png',\n",
       " '123.png',\n",
       " '539.png',\n",
       " '338.png',\n",
       " '929.png',\n",
       " '793.png',\n",
       " '284.png',\n",
       " '350.png',\n",
       " '863.png',\n",
       " '817.png',\n",
       " '21.png',\n",
       " '230.png',\n",
       " '590.png',\n",
       " '173.png',\n",
       " '944.png',\n",
       " '528.png',\n",
       " '887.png',\n",
       " '422.png',\n",
       " '394.png',\n",
       " '773.png',\n",
       " '832.png',\n",
       " '371.png',\n",
       " '1017.png',\n",
       " '272.png',\n",
       " '683.png',\n",
       " '388.png',\n",
       " '469.png',\n",
       " '615.png',\n",
       " '903.png',\n",
       " '675.png',\n",
       " '201.png',\n",
       " '166.png',\n",
       " '147.png',\n",
       " '377.png',\n",
       " '795.png',\n",
       " '768.png',\n",
       " '238.png',\n",
       " '892.png',\n",
       " '481.png',\n",
       " '236.png',\n",
       " '575.png',\n",
       " '996.png',\n",
       " '154.png',\n",
       " '145.png',\n",
       " '379.png',\n",
       " '738.png',\n",
       " '471.png',\n",
       " '439.png',\n",
       " '975.png',\n",
       " '159.png',\n",
       " '496.png',\n",
       " '553.png',\n",
       " '666.png',\n",
       " '328.png',\n",
       " '774.png',\n",
       " '926.png',\n",
       " '514.png',\n",
       " '511.png',\n",
       " '719.png',\n",
       " '870.png',\n",
       " '251.png',\n",
       " '608.png',\n",
       " '122.png',\n",
       " '141.png',\n",
       " '708.png',\n",
       " '947.png',\n",
       " '998.png',\n",
       " '424.png',\n",
       " '744.png',\n",
       " '301.png',\n",
       " '745.png',\n",
       " '504.png',\n",
       " '957.png',\n",
       " '186.png',\n",
       " '329.png',\n",
       " '952.png',\n",
       " '956.png',\n",
       " '629.png',\n",
       " '848.png',\n",
       " '580.png',\n",
       " '752.png',\n",
       " '659.png',\n",
       " '705.png',\n",
       " '451.png',\n",
       " '266.png',\n",
       " '611.png',\n",
       " '26.png',\n",
       " '1.png',\n",
       " '625.png',\n",
       " '678.png',\n",
       " '80.png',\n",
       " '988.png',\n",
       " ...]"
      ]
     },
     "execution_count": 12,
     "metadata": {},
     "output_type": "execute_result"
    }
   ],
   "source": [
    "filenames = os.listdir(TEST_DIR)\n",
    "filenames = [f for f in filenames if not f[0] == '.']\n",
    "filenames"
   ]
  },
  {
   "cell_type": "code",
   "execution_count": 13,
   "id": "e0c2f2d3-5f15-4644-a6c6-43476eff15c5",
   "metadata": {},
   "outputs": [],
   "source": [
    "for f in filenames:\n",
    "    IM_PATH = os.path.join(TEST_DIR, f)\n",
    "    im = cv2.imread(IM_PATH)\n",
    "    \n",
    "    rdn_im = rdn.predict(im)\n",
    "    \n",
    "    cv2.imwrite(os.path.join(SR_TEST_DIR, f), rdn_im)"
   ]
  },
  {
   "cell_type": "markdown",
   "id": "d44807b0-7788-49ec-aff2-c756e4513c5e",
   "metadata": {
    "id": "d44807b0-7788-49ec-aff2-c756e4513c5e"
   },
   "source": [
    "## Dataloader"
   ]
  },
  {
   "cell_type": "markdown",
   "id": "a5b81fa5-3756-46aa-b3cb-6f19879aba05",
   "metadata": {
    "id": "a5b81fa5-3756-46aa-b3cb-6f19879aba05"
   },
   "source": [
    "#### Train & Validation Set loader"
   ]
  },
  {
   "cell_type": "code",
   "execution_count": null,
   "id": "04642777-c2e0-439b-9692-f6c571a86521",
   "metadata": {
    "executionInfo": {
     "elapsed": 479,
     "status": "ok",
     "timestamp": 1630047309743,
     "user": {
      "displayName": "박기돈",
      "photoUrl": "https://lh3.googleusercontent.com/a-/AOh14GhVEYQCp6v5ebpmCrZSsSB10iVBTuKIfM20WSM_=s64",
      "userId": "12822433786877269578"
     },
     "user_tz": -540
    },
    "id": "04642777-c2e0-439b-9692-f6c571a86521"
   },
   "outputs": [],
   "source": [
    "class CustomDataset(Dataset):\n",
    "    def __init__(self, db, mode, transform):\n",
    "\n",
    "        self.db = db\n",
    "        self.mode = mode\n",
    "        self.transform = transform\n",
    "        self.autoaugment = transforms.RandomApply(nn.ModuleList([\n",
    "            transforms.AutoAugment()\n",
    "        ]), p=0.5)\n",
    "\n",
    "    def __len__(self):\n",
    "        return len(self.db)\n",
    "\n",
    "    def __getitem__(self, index):\n",
    "        data = copy.deepcopy(self.db.loc[index])\n",
    "\n",
    "        # Loading image\n",
    "        cvimg = cv2.imread(data['img_path'], cv2.IMREAD_COLOR | cv2.IMREAD_IGNORE_ORIENTATION)\n",
    "        if not isinstance(cvimg, np.ndarray):\n",
    "            raise IOError(\"Fail to read %s\" % data['img_path'])\n",
    "\n",
    "        # Preprocessing images\n",
    "        trans_image = self.transform(Image.fromarray(cvimg))\n",
    "        trans_image = TF.crop(trans_image, 0,0,INPUT_SHAPE[1], INPUT_SHAPE[1])\n",
    "        trans_image = self.autoaugment(trans_image)\n",
    "        \n",
    "        return trans_image, data['label']\n",
    "\n",
    "    \n",
    "def data_loader(data_dir=TRAIN_DIR):\n",
    "    print('Loading ' + ' dataset..')\n",
    "    if not os.path.isdir(data_dir):\n",
    "        print(f'!!! Cannot find {data_dir}... !!!')\n",
    "        sys.exit()\n",
    "        \n",
    "    mask_image_list = os.listdir(os.path.join(data_dir, 'Mask'))\n",
    "    nomask_image_list = os.listdir(os.path.join(data_dir, 'NoMask'))\n",
    "    mask_image_list = [item for item in mask_image_list if item[-4:] == '.png']\n",
    "    nomask_image_list = [item for item in nomask_image_list  if item[-4:] == '.png']\n",
    "    mask_image_path = list(map(lambda x : os.path.join(data_dir, 'Mask', x), mask_image_list))\n",
    "    nomask_image_path = list(map(lambda x : os.path.join(data_dir, 'NoMask', x), nomask_image_list))\n",
    "\n",
    "    # encoding label (Mask : 1, No Mask : 0)\n",
    "    mask_df = pd.DataFrame({'img_path':mask_image_path, 'label':np.ones(len(mask_image_list))})\n",
    "    nomask_df = pd.DataFrame({'img_path':nomask_image_path, 'label':np.zeros(len(nomask_image_list))})\n",
    "    db = mask_df.append(nomask_df, ignore_index=True)\n",
    "    return db\n",
    "\n",
    "\n",
    "if os.path.isfile(os.path.join(TRAIN_DIR, 'total.pkl')):\n",
    "    db = pd.read_pickle(os.path.join(TRAIN_DIR, 'total.pkl'))\n",
    "else:\n",
    "    db = data_loader()\n",
    "    db.to_pickle(os.path.join(TRAIN_DIR, 'total.pkl'))\n",
    "    \n",
    "    \n",
    "# Do stratified split\n",
    "from sklearn.model_selection import train_test_split\n",
    "\n",
    "train_idx, valid_idx= train_test_split(\n",
    "    np.arange(len(db)),\n",
    "    test_size=0.1,\n",
    "    shuffle=True,\n",
    "    stratify=db.label.values,\n",
    "    random_state=seed)\n",
    "\n",
    "train_db = db.iloc[train_idx]\n",
    "valid_db = db.iloc[valid_idx]\n",
    "\n",
    "train_db = train_db.reset_index()\n",
    "valid_db = valid_db.reset_index()\n",
    "\n",
    "\n",
    "transform = transforms.Compose([\n",
    "                                transforms.Resize(INPUT_SHAPE),\n",
    "                                transforms.RandomHorizontalFlip(p=0.5),\n",
    "                                transforms.ToTensor(), \n",
    "                                transforms.Normalize([0.485, 0.456, 0.406], [0.229, 0.224, 0.225])])"
   ]
  },
  {
   "cell_type": "code",
   "execution_count": 54,
   "id": "07040416-e5dc-41f6-a567-7a779dd4ca9c",
   "metadata": {},
   "outputs": [
    {
     "name": "stdout",
     "output_type": "stream",
     "text": [
      "Train set samples: 24388 Val set samples: 2710\n"
     ]
    }
   ],
   "source": [
    "train_dataset = CustomDataset(db=train_db, mode='train', transform=transform)\n",
    "validation_dataset = CustomDataset(db=valid_db, mode='val', transform=transform)\n",
    "\n",
    "train_dataloader = DataLoader(train_dataset, batch_size=BATCH_SIZE, shuffle=True)\n",
    "validation_dataloader = DataLoader(validation_dataset, batch_size=BATCH_SIZE, shuffle=True)\n",
    "\n",
    "print('Train set samples:',len(train_dataset),  'Val set samples:', len(validation_dataset))"
   ]
  },
  {
   "cell_type": "markdown",
   "id": "61b27520-c82c-4ec8-ae0b-119a79167f09",
   "metadata": {
    "id": "61b27520-c82c-4ec8-ae0b-119a79167f09"
   },
   "source": [
    "## Model"
   ]
  },
  {
   "cell_type": "code",
   "execution_count": 55,
   "id": "2d34769e-afab-46ef-9168-94189235e48d",
   "metadata": {
    "colab": {
     "base_uri": "https://localhost:8080/"
    },
    "executionInfo": {
     "elapsed": 5400,
     "status": "ok",
     "timestamp": 1630047317233,
     "user": {
      "displayName": "박기돈",
      "photoUrl": "https://lh3.googleusercontent.com/a-/AOh14GhVEYQCp6v5ebpmCrZSsSB10iVBTuKIfM20WSM_=s64",
      "userId": "12822433786877269578"
     },
     "user_tz": -540
    },
    "id": "2d34769e-afab-46ef-9168-94189235e48d",
    "outputId": "c6b7da67-22cf-4835-b4ba-0dce62980eca"
   },
   "outputs": [],
   "source": [
    "# !pip install git+https://github.com/rwightman/pytorch-image-models.git"
   ]
  },
  {
   "cell_type": "code",
   "execution_count": 56,
   "id": "a6c37334-3edd-4687-a88e-f5948bc15ffe",
   "metadata": {},
   "outputs": [],
   "source": [
    "import timm"
   ]
  },
  {
   "cell_type": "code",
   "execution_count": 57,
   "id": "f7f96e9d-dfed-412d-9dd8-02b99970b162",
   "metadata": {},
   "outputs": [],
   "source": [
    "# timm.list_models(pretrained=True)"
   ]
  },
  {
   "cell_type": "code",
   "execution_count": 58,
   "id": "9a722d66-0cc7-4e49-9cdc-b90628407b97",
   "metadata": {},
   "outputs": [],
   "source": [
    "EFF_BACKBONES = [\n",
    "    'tf_efficientnetv2_l_in21kft1k'\n",
    "    'tf_efficientnetv2_m_in21ft1k',\n",
    "    'tf_efficientnetv2_s_in21ft1k'\n",
    "]\n",
    "NFN_BACKBONES = [\n",
    "    'eca_nfnet_l1',\n",
    "    'eca_nfnet_l2',\n",
    "    'dm_nfnet_f0',\n",
    "    'dm_nfnet_f1'    \n",
    "    \n",
    "]\n",
    "    \n",
    "DEIT_BACKBONES = [\n",
    "    'deit_base_distilled_patch16_224',\n",
    "    'deit_base_distilled_patch16_384'   \n",
    "]  "
   ]
  },
  {
   "cell_type": "code",
   "execution_count": 59,
   "id": "b3b3c973-a582-4487-a1d2-83b159eb90e8",
   "metadata": {},
   "outputs": [],
   "source": [
    "# # lighter models to experiment on\n",
    "\n",
    "# EFF_BACKBONES = [\n",
    "#     'tf_efficientnet_b5_ns',\n",
    "#     'tf_efficientnet_b6_ns',\n",
    "#     'tf_efficientnet_b7_ns',\n",
    "#     'efficientnetv2_rw_s',\n",
    "#     'efficientnetv2_rw_m',\n",
    "#     'tf_efficientnetv2_s_in21k',\n",
    "#     'tf_efficientnetv2_s_in21ft1k',\n",
    "#     'tf_efficientnetv2_m_in21k',\n",
    "#     'tf_efficientnetv2_m_in21ft1k'\n",
    "# ]\n",
    "# NFN_BACKBONES = [\n",
    "#     'eca_nfnet_l0',\n",
    "#     'eca_nfnet_l1',\n",
    "#     'eca_nfnet_l2'\n",
    "# ]"
   ]
  },
  {
   "cell_type": "code",
   "execution_count": 60,
   "id": "84ff9566-36e8-4a7d-8e23-af605a8ec3af",
   "metadata": {},
   "outputs": [],
   "source": [
    "class DebuggerNet(nn.Module):\n",
    "    def __init__(self):\n",
    "        super(DebuggerNet, self).__init__()\n",
    "        self.conv = nn.Conv2d(3, 3, 3, 3)\n",
    "        self.avgpool = nn.AdaptiveAvgPool2d(2)\n",
    "        self.linear = nn.Linear(12, 2)\n",
    "\n",
    "    def forward(self, input_img):\n",
    "        x = self.avgpool(input_img)\n",
    "\n",
    "        x = x.view(-1, 12)\n",
    "        x = self.linear(x)\n",
    "        return x\n"
   ]
  },
  {
   "cell_type": "code",
   "execution_count": 61,
   "id": "3bef3b15-f18b-4aa9-b6a0-65822041b4e9",
   "metadata": {
    "executionInfo": {
     "elapsed": 204,
     "status": "ok",
     "timestamp": 1630047325374,
     "user": {
      "displayName": "박기돈",
      "photoUrl": "https://lh3.googleusercontent.com/a-/AOh14GhVEYQCp6v5ebpmCrZSsSB10iVBTuKIfM20WSM_=s64",
      "userId": "12822433786877269578"
     },
     "user_tz": -540
    },
    "id": "3bef3b15-f18b-4aa9-b6a0-65822041b4e9",
    "tags": []
   },
   "outputs": [],
   "source": [
    "from torch.nn import functional as F\n",
    "# for efficientnet\n",
    "class EFFMaskClassifier(nn.Module):\n",
    "    def __init__(self, backbone):\n",
    "        super(EFFMaskClassifier, self).__init__()\n",
    "        self.model = timm.create_model(backbone, pretrained=True)\n",
    "        n_features = self.model.classifier.in_features\n",
    "        self.model.classifier = nn.Linear(n_features, 2)\n",
    "\n",
    "    def forward(self, input_img):\n",
    "        x = self.model(input_img)\n",
    "        return x\n"
   ]
  },
  {
   "cell_type": "code",
   "execution_count": 62,
   "id": "ee11cfc8-9b26-4250-950a-3e02053009f5",
   "metadata": {},
   "outputs": [],
   "source": [
    "# for nfnet\n",
    "class NFNMaskClassifier(nn.Module):\n",
    "    def __init__(self, backbone):\n",
    "        super(NFNMaskClassifier, self).__init__()\n",
    "        self.model = timm.create_model(backbone, pretrained=True)\n",
    "        n_features = self.model.head.fc.in_features\n",
    "        self.model.head.fc = nn.Linear(n_features, 2)\n",
    "\n",
    "    def forward(self, input_img):\n",
    "        x = self.model(input_img)\n",
    "        return x"
   ]
  },
  {
   "cell_type": "code",
   "execution_count": 63,
   "id": "6f9fb549-609a-43e0-be73-95d9c9729713",
   "metadata": {},
   "outputs": [],
   "source": [
    "# for deit\n",
    "class DEITMaskClassifier(nn.Module):\n",
    "    def __init__(self, backbone):\n",
    "        super(DEITMaskClassifier, self).__init__()\n",
    "        self.model = timm.create_model(backbone, pretrained=True)\n",
    "        in_features_head = self.model.head.in_features\n",
    "        in_features_head_dist = self.model.head_dist.in_features\n",
    "        \n",
    "        self.model.head = nn.Linear(in_features_head, 2)\n",
    "        self.model.head_dist = nn.Linear(in_features_head_dist, 2)\n",
    "\n",
    "    def forward(self, input_img):\n",
    "        x = self.model(input_img)\n",
    "        return x"
   ]
  },
  {
   "cell_type": "markdown",
   "id": "1ba438c6-44d1-4960-be0c-570d97bbb7e3",
   "metadata": {},
   "source": [
    "## Just Trainer"
   ]
  },
  {
   "cell_type": "code",
   "execution_count": 64,
   "id": "e3345b82-115e-4130-b53b-706d30c20dd6",
   "metadata": {},
   "outputs": [],
   "source": [
    "class Trainer():\n",
    "    \"\"\" Trainer\n",
    "        epoch에 대한 학습 및 검증 절차 정의\n",
    "    \"\"\"\n",
    "    def __init__(self, criterion, model, device, metric_fn, optimizer=None, scheduler=None, logger=None):\n",
    "        \"\"\" 초기화\n",
    "        \"\"\"\n",
    "        \n",
    "        self.criterion = criterion\n",
    "        self.model = model\n",
    "        self.device = device\n",
    "        self.optimizer = optimizer\n",
    "        self.logger = logger\n",
    "        self.scheduler = scheduler\n",
    "        self.metric_fn = metric_fn\n",
    "\n",
    "    def train_epoch(self, dataloader, epoch_index):\n",
    "        \"\"\" 한 epoch에서 수행되는 학습 절차\n",
    "        \"\"\"\n",
    "        self.model.train()\n",
    "        train_total_loss = 0\n",
    "        target_lst = []\n",
    "        pred_lst = []\n",
    "        prob_lst = []\n",
    "\n",
    "        for batch_index, (img, label) in enumerate(dataloader):\n",
    "            img = img.to(self.device)\n",
    "            label = label.to(self.device).long()\n",
    "            pred = self.model(img)\n",
    "            loss = self.criterion(pred, label)\n",
    "            self.optimizer.zero_grad()\n",
    "            loss.backward()\n",
    "            pred = F.softmax(pred)\n",
    "\n",
    "            self.optimizer.step()\n",
    "            self.scheduler.step()\n",
    "            train_total_loss += loss.item()\n",
    "            \n",
    "            prob_lst.extend(pred[:, 1].cpu().tolist())\n",
    "            target_lst.extend(label.cpu().tolist())\n",
    "            pred_lst.extend(pred.argmax(dim=1).cpu().tolist())\n",
    "        self.train_mean_loss = train_total_loss / batch_index\n",
    "        self.train_score, auroc = self.metric_fn(y_pred=pred_lst, y_answer=target_lst, y_prob=prob_lst)\n",
    "        msg = f'Epoch {epoch_index}, Train loss: {self.train_mean_loss}, Acc: {self.train_score}, ROC: {auroc}'\n",
    "        print(msg)\n",
    "        \n",
    "\n",
    "    def validate_epoch(self, dataloader, epoch_index):\n",
    "        \"\"\" 한 epoch에서 수행되는 검증 절차\n",
    "        \"\"\"\n",
    "        self.model.eval()\n",
    "        val_total_loss = 0\n",
    "        target_lst = []\n",
    "        pred_lst = []\n",
    "        prob_lst = []\n",
    "\n",
    "        for batch_index, (img, label) in enumerate(dataloader):\n",
    "            img = img.to(self.device)\n",
    "            label = label.to(self.device).long()\n",
    "            pred = self.model(img)\n",
    "            pred = F.softmax(pred)\n",
    "            ## coordinate loss\n",
    "            loss = self.criterion(pred, label)\n",
    "            val_total_loss += loss.item()\n",
    "            prob_lst.extend(pred[:, 1].cpu().tolist())\n",
    "            target_lst.extend(label.cpu().tolist())\n",
    "            pred_lst.extend(pred.argmax(dim=1).cpu().tolist())\n",
    "        self.val_mean_loss = val_total_loss / batch_index\n",
    "        self.validation_score, auroc = self.metric_fn(y_pred=pred_lst, y_answer=target_lst, y_prob=prob_lst)\n",
    "        msg = f'Epoch {epoch_index}, Val loss: {self.val_mean_loss}, Acc: {self.validation_score}, ROC: {auroc}'\n",
    "        print(msg)\n"
   ]
  },
  {
   "cell_type": "markdown",
   "id": "591a5722-df20-4d90-9be8-f1c98fa31009",
   "metadata": {},
   "source": [
    "## SAM Optimizer w. AdamP"
   ]
  },
  {
   "cell_type": "code",
   "execution_count": 65,
   "id": "5fbbd9cf-af12-46ab-9365-39e775e22781",
   "metadata": {},
   "outputs": [],
   "source": [
    "class SAM(torch.optim.Optimizer):\n",
    "    def __init__(self, params, base_optimizer, rho=0.05, **kwargs):\n",
    "        assert rho >= 0.0, f\"Invalid rho, should be non-negative: {rho}\"\n",
    "\n",
    "        defaults = dict(rho=rho, **kwargs)\n",
    "        super(SAM, self).__init__(params, defaults)\n",
    "\n",
    "        self.base_optimizer = base_optimizer(self.param_groups, **kwargs)\n",
    "        self.param_groups = self.base_optimizer.param_groups\n",
    "\n",
    "    @torch.no_grad()\n",
    "    def first_step(self, zero_grad=False):\n",
    "        grad_norm = self._grad_norm()\n",
    "        for group in self.param_groups:\n",
    "            scale = group[\"rho\"] / (grad_norm + 1e-12)\n",
    "\n",
    "            for p in group[\"params\"]:\n",
    "                if p.grad is None: continue\n",
    "                e_w = p.grad * scale.to(p)\n",
    "                p.add_(e_w)  # climb to the local maximum \"w + e(w)\"\n",
    "                self.state[p][\"e_w\"] = e_w\n",
    "\n",
    "        if zero_grad: self.zero_grad()\n",
    "\n",
    "    @torch.no_grad()\n",
    "    def second_step(self, zero_grad=False):\n",
    "        for group in self.param_groups:\n",
    "            for p in group[\"params\"]:\n",
    "                if p.grad is None: continue\n",
    "                p.sub_(self.state[p][\"e_w\"])  # get back to \"w\" from \"w + e(w)\"\n",
    "\n",
    "        self.base_optimizer.step()  # do the actual \"sharpness-aware\" update\n",
    "\n",
    "        if zero_grad: self.zero_grad()\n",
    "\n",
    "    @torch.no_grad()\n",
    "    def step(self, closure=None):\n",
    "        assert closure is not None, \"Sharpness Aware Minimization requires closure, but it was not provided\"\n",
    "        closure = torch.enable_grad()(closure)  # the closure should do a full forward-backward pass\n",
    "\n",
    "        self.first_step(zero_grad=True)\n",
    "        closure()\n",
    "        self.second_step()\n",
    "\n",
    "    def _grad_norm(self):\n",
    "        shared_device = self.param_groups[0][\"params\"][0].device  # put everything on the same device, in case of model parallelism\n",
    "        norm = torch.norm(\n",
    "                    torch.stack([\n",
    "                        p.grad.norm(p=2).to(shared_device)\n",
    "                        for group in self.param_groups for p in group[\"params\"]\n",
    "                        if p.grad is not None\n",
    "                    ]),\n",
    "                    p=2\n",
    "               )\n",
    "        return norm"
   ]
  },
  {
   "cell_type": "markdown",
   "id": "1aaffd8d-b025-42c1-8dd8-69529487389e",
   "metadata": {
    "id": "1aaffd8d-b025-42c1-8dd8-69529487389e"
   },
   "source": [
    "## MultiScale Trainer"
   ]
  },
  {
   "cell_type": "code",
   "execution_count": 66,
   "id": "5faaac1b-64c3-4659-82de-d4309502f29a",
   "metadata": {
    "executionInfo": {
     "elapsed": 277,
     "status": "ok",
     "timestamp": 1630047330626,
     "user": {
      "displayName": "박기돈",
      "photoUrl": "https://lh3.googleusercontent.com/a-/AOh14GhVEYQCp6v5ebpmCrZSsSB10iVBTuKIfM20WSM_=s64",
      "userId": "12822433786877269578"
     },
     "user_tz": -540
    },
    "id": "5faaac1b-64c3-4659-82de-d4309502f29a"
   },
   "outputs": [],
   "source": [
    "class MultiScale_Trainer():\n",
    "    \"\"\" Trainer\n",
    "        epoch에 대한 학습 및 검증 절차 정의\n",
    "    \"\"\"\n",
    "    def __init__(self, criterion, model, device, metric_fn, scales, optimizer=None, scheduler=None, logger=None):\n",
    "        \"\"\" 초기화\n",
    "        \"\"\"\n",
    "        \n",
    "        self.scales = scales\n",
    "        self.scales_max_index = len(self.scales) - 1\n",
    "        self.criterion = criterion\n",
    "        self.model = model\n",
    "        self.device = device\n",
    "        self.optimizer = optimizer\n",
    "        self.logger = logger\n",
    "        self.scheduler = scheduler\n",
    "        self.metric_fn = metric_fn\n",
    "\n",
    "    def train_epoch(self, dataloader, epoch_index):\n",
    "        \"\"\" 한 epoch에서 수행되는 학습 절차\n",
    "        \"\"\"\n",
    "        self.model.train()\n",
    "        train_total_loss = 0\n",
    "        target_lst = []\n",
    "        pred_lst = []\n",
    "        prob_lst = []\n",
    "\n",
    "        for batch_index, (img, label) in enumerate(dataloader):\n",
    "            \n",
    "            img = TF.resize(img, self.scales[np.random.randint(0, self.scales_max_index)])\n",
    "            img = img.to(self.device)\n",
    "            label = label.to(self.device).long()\n",
    "            pred = self.model(img)\n",
    "            loss = self.criterion(pred, label)\n",
    "            self.optimizer.zero_grad()\n",
    "            loss.backward()\n",
    "            self.optimizer.step()\n",
    "            self.scheduler.step()\n",
    "            train_total_loss += loss.item()\n",
    "            prob_lst.extend(pred[:, 1].cpu().tolist())\n",
    "            target_lst.extend(label.cpu().tolist())\n",
    "            pred_lst.extend(pred.argmax(dim=1).cpu().tolist())\n",
    "        self.train_mean_loss = train_total_loss / batch_index\n",
    "        self.train_score, auroc = self.metric_fn(y_pred=pred_lst, y_answer=target_lst, y_prob=prob_lst)\n",
    "        msg = f'Epoch {epoch_index}, Train loss: {self.train_mean_loss}, Acc: {self.train_score}, ROC: {auroc}'\n",
    "        print(msg)\n",
    "\n",
    "    def validate_epoch(self, dataloader, epoch_index):\n",
    "        \"\"\" 한 epoch에서 수행되는 검증 절차\n",
    "        \"\"\"\n",
    "        self.model.eval()\n",
    "        val_total_loss = 0\n",
    "        target_lst = []\n",
    "        pred_lst = []\n",
    "        prob_lst = []\n",
    "\n",
    "        for batch_index, (img, label) in enumerate(dataloader):\n",
    "            img = img.to(self.device)\n",
    "            label = label.to(self.device).long()\n",
    "            pred = self.model(img)\n",
    "            ## coordinate loss\n",
    "            loss = self.criterion(pred, label)\n",
    "            val_total_loss += loss.item()\n",
    "            prob_lst.extend(pred[:, 1].cpu().tolist())\n",
    "            target_lst.extend(label.cpu().tolist())\n",
    "            pred_lst.extend(pred.argmax(dim=1).cpu().tolist())\n",
    "        self.val_mean_loss = val_total_loss / batch_index\n",
    "        self.validation_score, auroc = self.metric_fn(y_pred=pred_lst, y_answer=target_lst, y_prob=prob_lst)\n",
    "        msg = f'Epoch {epoch_index}, Val loss: {self.val_mean_loss}, Acc: {self.validation_score}, ROC: {auroc}'\n",
    "        print(msg)\n",
    "    \n"
   ]
  },
  {
   "cell_type": "markdown",
   "id": "e8397f3c-bb85-4bf5-928c-ed4ce82ae232",
   "metadata": {},
   "source": [
    "# SAM Trainer"
   ]
  },
  {
   "cell_type": "code",
   "execution_count": 67,
   "id": "6ebf28b9-1118-417e-8122-02f6bfd33624",
   "metadata": {},
   "outputs": [],
   "source": [
    "class SAM_Trainer():\n",
    "    \"\"\" Trainer\n",
    "        epoch에 대한 학습 및 검증 절차 정의\n",
    "    \"\"\"\n",
    "    def __init__(self, criterion, model, device, metric_fn, optimizer=None, scheduler=None, logger=None):\n",
    "        \"\"\" 초기화\n",
    "        \"\"\"\n",
    "        \n",
    "        self.criterion = criterion\n",
    "        self.model = model\n",
    "        self.device = device\n",
    "        self.optimizer = optimizer\n",
    "        self.logger = logger\n",
    "        self.scheduler = scheduler\n",
    "        self.metric_fn = metric_fn\n",
    "\n",
    "    def train_epoch(self, dataloader, epoch_index):\n",
    "        \"\"\" 한 epoch에서 수행되는 학습 절차\n",
    "        \"\"\"\n",
    "        self.model.train()\n",
    "        train_total_loss = 0\n",
    "        target_lst = []\n",
    "        pred_lst = []\n",
    "        prob_lst = []\n",
    "\n",
    "        for batch_index, (img, label) in enumerate(dataloader):\n",
    "        \n",
    "            img = img.to(self.device)\n",
    "            label = label.to(self.device).long()\n",
    "            pred = self.model(img)\n",
    "            loss = self.criterion(pred, label)\n",
    "            loss.backward()\n",
    "            self.optimizer.first_step(zero_grad=True)\n",
    "            self.criterion(self.model(img), label).backward()\n",
    "            self.optimizer.second_step(zero_grad=True)\n",
    "            \n",
    "            self.scheduler.step()\n",
    "            train_total_loss += loss.item()\n",
    "            prob_lst.extend(pred[:, 1].cpu().tolist())\n",
    "            target_lst.extend(label.cpu().tolist())\n",
    "            pred_lst.extend(pred.argmax(dim=1).cpu().tolist())\n",
    "        self.train_mean_loss = train_total_loss / batch_index\n",
    "        self.train_score, auroc = self.metric_fn(y_pred=pred_lst, y_answer=target_lst, y_prob=prob_lst)\n",
    "        msg = f'Epoch {epoch_index}, Train loss: {self.train_mean_loss}, Acc: {self.train_score}, ROC: {auroc}'\n",
    "        print(msg)\n",
    "\n",
    "    def validate_epoch(self, dataloader, epoch_index):\n",
    "        \"\"\" 한 epoch에서 수행되는 검증 절차\n",
    "        \"\"\"\n",
    "        self.model.eval()\n",
    "        val_total_loss = 0\n",
    "        target_lst = []\n",
    "        pred_lst = []\n",
    "        prob_lst = []\n",
    "\n",
    "        for batch_index, (img, label) in enumerate(dataloader):\n",
    "            img = img.to(self.device)\n",
    "            label = label.to(self.device).long()\n",
    "            pred = self.model(img)\n",
    "            ## coordinate loss\n",
    "            loss = self.criterion(pred, label)\n",
    "            val_total_loss += loss.item()\n",
    "            prob_lst.extend(pred[:, 1].cpu().tolist())\n",
    "            target_lst.extend(label.cpu().tolist())\n",
    "            pred_lst.extend(pred.argmax(dim=1).cpu().tolist())\n",
    "        self.val_mean_loss = val_total_loss / batch_index\n",
    "        self.validation_score, auroc = self.metric_fn(y_pred=pred_lst, y_answer=target_lst, y_prob=prob_lst)\n",
    "        msg = f'Epoch {epoch_index}, Val loss: {self.val_mean_loss}, Acc: {self.validation_score}, ROC: {auroc}'\n",
    "        print(msg)\n",
    "    \n"
   ]
  },
  {
   "cell_type": "markdown",
   "id": "e2aca506-d168-4c9f-8eca-5cdecb122961",
   "metadata": {
    "id": "e2aca506-d168-4c9f-8eca-5cdecb122961"
   },
   "source": [
    "## Metrics"
   ]
  },
  {
   "cell_type": "code",
   "execution_count": 68,
   "id": "33678d90-a254-48d5-bf09-2a817eeafea3",
   "metadata": {
    "executionInfo": {
     "elapsed": 799,
     "status": "ok",
     "timestamp": 1630047333382,
     "user": {
      "displayName": "박기돈",
      "photoUrl": "https://lh3.googleusercontent.com/a-/AOh14GhVEYQCp6v5ebpmCrZSsSB10iVBTuKIfM20WSM_=s64",
      "userId": "12822433786877269578"
     },
     "user_tz": -540
    },
    "id": "33678d90-a254-48d5-bf09-2a817eeafea3"
   },
   "outputs": [],
   "source": [
    "from sklearn.metrics import accuracy_score, roc_auc_score\n",
    "\n",
    "def get_metric_fn(y_pred, y_answer, y_prob):\n",
    "    \"\"\" 성능을 반환하는 함수\n",
    "    \"\"\"\n",
    "    assert len(y_pred) == len(y_answer), 'The size of prediction and answer are not same.'\n",
    "    accuracy = accuracy_score(y_answer, y_pred)\n",
    "    auroc = roc_auc_score(y_answer, y_prob)\n",
    "    return accuracy, auroc"
   ]
  },
  {
   "cell_type": "code",
   "execution_count": 69,
   "id": "c20b881c-efdd-4512-bf48-bb36a6c34672",
   "metadata": {},
   "outputs": [],
   "source": [
    "class TaylorSoftmax(nn.Module):\n",
    "\n",
    "    def __init__(self, dim=1, n=2):\n",
    "        super(TaylorSoftmax, self).__init__()\n",
    "        assert n % 2 == 0\n",
    "        self.dim = dim\n",
    "        self.n = n\n",
    "\n",
    "    def forward(self, x):\n",
    "        \n",
    "        fn = torch.ones_like(x)\n",
    "        denor = 1.\n",
    "        for i in range(1, self.n+1):\n",
    "            denor *= i\n",
    "            fn = fn + x.pow(i) / denor\n",
    "        out = fn / fn.sum(dim=self.dim, keepdims=True)\n",
    "        return out\n",
    "    \n",
    "class LabelSmoothingLoss(nn.Module):\n",
    "\n",
    "    def __init__(self, classes, smoothing=0.0, dim=-1): \n",
    "        super(LabelSmoothingLoss, self).__init__() \n",
    "        self.confidence = 1.0 - smoothing \n",
    "        self.smoothing = smoothing \n",
    "        self.cls = classes \n",
    "        self.dim = dim \n",
    "    def forward(self, pred, target): \n",
    "        \"\"\"Taylor Softmax and log are already applied on the logits\"\"\"\n",
    "        #pred = pred.log_softmax(dim=self.dim) \n",
    "        with torch.no_grad(): \n",
    "            true_dist = torch.zeros_like(pred) \n",
    "            true_dist.fill_(self.smoothing / (self.cls - 1)) \n",
    "            true_dist.scatter_(1, target.data.unsqueeze(1), self.confidence) \n",
    "        return torch.mean(torch.sum(-true_dist * pred, dim=self.dim))\n",
    "    \n",
    "class TaylorCrossEntropyLoss(nn.Module):\n",
    "\n",
    "    def __init__(self, n=2, ignore_index=-1, reduction='mean', smoothing=0.1):\n",
    "        super(TaylorCrossEntropyLoss, self).__init__()\n",
    "        assert n % 2 == 0\n",
    "        self.taylor_softmax = TaylorSoftmax(dim=1, n=n)\n",
    "        self.reduction = reduction\n",
    "        self.ignore_index = ignore_index\n",
    "        self.lab_smooth = LabelSmoothingLoss(2, smoothing=smoothing)\n",
    "\n",
    "    def forward(self, logits, labels):\n",
    "\n",
    "        log_probs = self.taylor_softmax(logits).log()\n",
    "        #loss = F.nll_loss(log_probs, labels, reduction=self.reduction,\n",
    "        #        ignore_index=self.ignore_index)\n",
    "        loss = self.lab_smooth(log_probs, labels)\n",
    "        return loss"
   ]
  },
  {
   "cell_type": "markdown",
   "id": "75bbba92-b53c-499f-b5f9-b6ac3edde331",
   "metadata": {
    "id": "75bbba92-b53c-499f-b5f9-b6ac3edde331"
   },
   "source": [
    "#### Test set Loader"
   ]
  },
  {
   "cell_type": "code",
   "execution_count": 70,
   "id": "4a60a4c6-306e-499d-b071-2ab39b795b96",
   "metadata": {},
   "outputs": [],
   "source": [
    "TEST_ANNOT_DIR = os.path.join(ROOT_PATH, 'test_annot')"
   ]
  },
  {
   "cell_type": "code",
   "execution_count": 71,
   "id": "a52193e8-3033-4d4b-9d00-754be781170c",
   "metadata": {},
   "outputs": [],
   "source": [
    "class CheckDataset(Dataset):\n",
    "    def __init__(self, db, mode, transform):\n",
    "\n",
    "        self.db = db\n",
    "        self.mode = mode\n",
    "        self.transform = transform\n",
    "\n",
    "    def __len__(self):\n",
    "        return len(self.db)\n",
    "\n",
    "    def __getitem__(self, index):\n",
    "        data = copy.deepcopy(self.db.loc[index])\n",
    "\n",
    "        # Loading image\n",
    "        cvimg = cv2.imread(data['img_path'], cv2.IMREAD_COLOR | cv2.IMREAD_IGNORE_ORIENTATION)\n",
    "        if not isinstance(cvimg, np.ndarray):\n",
    "            raise IOError(\"Fail to read %s\" % data['img_path'])\n",
    "\n",
    "        # Preprocessing images\n",
    "        trans_image = self.transform(Image.fromarray(cvimg))\n",
    "\n",
    "        return trans_image, data['label']\n"
   ]
  },
  {
   "cell_type": "code",
   "execution_count": 72,
   "id": "ff2e6cb0-159f-4a25-bb72-779a09b4ba51",
   "metadata": {},
   "outputs": [],
   "source": [
    "def check_loader(data_dir=TEST_ANNOT_DIR):\n",
    "    print('Loading ' + ' dataset..')\n",
    "    if not os.path.isdir(data_dir):\n",
    "        print(f'!!! Cannot find {data_dir}... !!!')\n",
    "        sys.exit()\n",
    "        \n",
    "    mask_image_list = os.listdir(os.path.join(data_dir, 'Mask'))\n",
    "    nomask_image_list = os.listdir(os.path.join(data_dir, 'NoMask'))\n",
    "    mask_image_list = [item for item in mask_image_list if item[-4:] == '.png']\n",
    "    nomask_image_list = [item for item in nomask_image_list  if item[-4:] == '.png']\n",
    "    mask_image_path = list(map(lambda x : os.path.join(data_dir, 'Mask', x), mask_image_list))\n",
    "    nomask_image_path = list(map(lambda x : os.path.join(data_dir, 'NoMask', x), nomask_image_list))\n",
    "\n",
    "    # encoding label (Mask : 1, No Mask : 0)\n",
    "    mask_df = pd.DataFrame({'img_path':mask_image_path, 'label':np.ones(len(mask_image_list))})\n",
    "    nomask_df = pd.DataFrame({'img_path':nomask_image_path, 'label':np.zeros(len(nomask_image_list))})\n",
    "    db = mask_df.append(nomask_df, ignore_index=True)\n",
    "    return db"
   ]
  },
  {
   "cell_type": "code",
   "execution_count": 73,
   "id": "30a3f76d-abfe-4a26-a15a-8626de7221ce",
   "metadata": {},
   "outputs": [],
   "source": [
    "if os.path.isfile(os.path.join(TEST_ANNOT_DIR, 'test.pkl')):\n",
    "    test_db = pd.read_pickle(os.path.join(TEST_ANNOT_DIR, 'test.pkl'))\n",
    "else:\n",
    "    test_db = check_loader()\n",
    "    test_db.to_pickle(os.path.join(TEST_ANNOT_DIR, 'test.pkl'))"
   ]
  },
  {
   "cell_type": "code",
   "execution_count": 74,
   "id": "79d51d04-ea62-466d-b988-4e782c9aa5f6",
   "metadata": {},
   "outputs": [],
   "source": [
    "class TestDataset(Dataset):\n",
    "    def __init__(self, data_dir, input_shape):\n",
    "        self.data_dir = data_dir\n",
    "        self.input_shape = input_shape\n",
    "        \n",
    "        # Loading dataset\n",
    "        self.db = self.data_loader()\n",
    "        \n",
    "        # Transform function\n",
    "        self.transform = transforms.Compose([transforms.Resize(self.input_shape), transforms.ToTensor(), transforms.Normalize([0.485, 0.456, 0.406], [0.229, 0.224, 0.225])])\n",
    "\n",
    "    def data_loader(self):\n",
    "        print('Loading test dataset..')\n",
    "        if not os.path.isdir(self.data_dir):\n",
    "            print(f'!!! Cannot find {self.data_dir}... !!!')\n",
    "            sys.exit()\n",
    "        image_list = os.listdir(self.data_dir)\n",
    "        image_list = [item for item in image_list if item[-4:] == '.png']\n",
    "        image_path = list(map(lambda x : os.path.join(self.data_dir, x), image_list))\n",
    "        db = pd.DataFrame({'img_path':image_path, 'file_num':list(map(lambda x : x.split('.')[0], image_list))})\n",
    "        return db\n",
    "    \n",
    "    def __len__(self):\n",
    "        return len(self.db)\n",
    "    \n",
    "    def __getitem__(self, index):\n",
    "        data = copy.deepcopy(self.db.loc[index])\n",
    "        \n",
    "        # Loading image\n",
    "        cvimg = cv2.imread(data['img_path'], cv2.IMREAD_COLOR | cv2.IMREAD_IGNORE_ORIENTATION)\n",
    "        if not isinstance(cvimg, np.ndarray):\n",
    "            raise IOError(\"Fail to read %s\" % data['img_path'])\n",
    "\n",
    "        # Preprocessing images\n",
    "        trans_image = self.transform(Image.fromarray(cvimg))\n",
    "\n",
    "        return trans_image, data['file_num']"
   ]
  },
  {
   "cell_type": "code",
   "execution_count": 75,
   "id": "078c24da-fa47-4b4f-a36c-db1c961143b1",
   "metadata": {},
   "outputs": [],
   "source": [
    "transform = transforms.Compose([\n",
    "                                transforms.Resize(INPUT_SHAPE),\n",
    "                                transforms.ToTensor(), \n",
    "                                transforms.Normalize([0.485, 0.456, 0.406], [0.229, 0.224, 0.225])])"
   ]
  },
  {
   "cell_type": "code",
   "execution_count": 76,
   "id": "cdd31a3d-08cd-48fc-87b0-137976d4d4bb",
   "metadata": {
    "colab": {
     "base_uri": "https://localhost:8080/"
    },
    "executionInfo": {
     "elapsed": 6127,
     "status": "ok",
     "timestamp": 1630047496452,
     "user": {
      "displayName": "박기돈",
      "photoUrl": "https://lh3.googleusercontent.com/a-/AOh14GhVEYQCp6v5ebpmCrZSsSB10iVBTuKIfM20WSM_=s64",
      "userId": "12822433786877269578"
     },
     "user_tz": -540
    },
    "id": "cdd31a3d-08cd-48fc-87b0-137976d4d4bb",
    "outputId": "191d15b8-07ab-4d56-a2af-071ec0ec4b8c"
   },
   "outputs": [],
   "source": [
    "check_dataset = CheckDataset(db=test_db, mode='check', transform=transform)\n",
    "check_dataloader = DataLoader(check_dataset, batch_size=BATCH_SIZE, shuffle=False)"
   ]
  },
  {
   "cell_type": "code",
   "execution_count": 77,
   "id": "8ac79993-ec06-425d-8934-dad2f1d2ae80",
   "metadata": {},
   "outputs": [
    {
     "name": "stdout",
     "output_type": "stream",
     "text": [
      "Loading test dataset..\n"
     ]
    }
   ],
   "source": [
    "test_dataset = TestDataset(data_dir=TEST_DIR, input_shape=INPUT_SHAPE)\n",
    "test_dataloader = DataLoader(dataset=test_dataset, batch_size=BATCH_SIZE, shuffle=False)"
   ]
  },
  {
   "cell_type": "markdown",
   "id": "97d796ac-7b07-44ac-b453-40699fbc1336",
   "metadata": {},
   "source": [
    "# Misc."
   ]
  },
  {
   "cell_type": "code",
   "execution_count": 78,
   "id": "e60e2016-ef06-4ae9-8ac1-948347c4b9fb",
   "metadata": {},
   "outputs": [],
   "source": [
    "def plot_loss(train_loss_history, valid_loss_history, backbone):\n",
    "    plt.plot(train_loss_history, label=\"train loss\")\n",
    "    plt.plot(valid_loss_history, label=\"valid loss\")\n",
    "    plt.legend()\n",
    "    plt.title(backbone)\n",
    "    plt.show()\n",
    "\n",
    "def plot_acc(train_acc_history, valid_acc_history, backbone):\n",
    "    plt.plot(train_acc_history, label=\"train acc\")\n",
    "    plt.plot(valid_acc_history, label=\"valid acc\")\n",
    "    plt.legend()\n",
    "    plt.title(backbone)\n",
    "    plt.show()"
   ]
  },
  {
   "cell_type": "code",
   "execution_count": 79,
   "id": "c41f1889-f394-4226-b535-5c9e554db26a",
   "metadata": {},
   "outputs": [],
   "source": [
    "def wait_and_flush():\n",
    "    \n",
    "    print(\"waiting...\")\n",
    "    \n",
    "    time.sleep(120)\n",
    "    \n",
    "    gc.collect()\n",
    "    torch.cuda.empty_cache()\n",
    "    print(\"flushing...\")\n",
    "    time.sleep(60)\n",
    "    \n",
    "    gc.collect()\n",
    "    torch.cuda.empty_cache()\n",
    "    print(\"done!\")"
   ]
  },
  {
   "cell_type": "code",
   "execution_count": 80,
   "id": "a5fcfeb6-c198-4906-90c5-5254bbb36bb2",
   "metadata": {},
   "outputs": [],
   "source": [
    "def pretty_size(size):\n",
    "\n",
    "    \"\"\"Pretty prints a torch.Size object\"\"\"\n",
    "    assert(isinstance(size, torch.Size))\n",
    "    return \" × \".join(map(str, size))\n",
    "\n",
    "def dump_tensors(gpu_only=True):\n",
    "    \"\"\"Prints a list of the Tensors being tracked by the garbage collector.\"\"\"\n",
    "    import gc\n",
    "    total_size = 0\n",
    "    for obj in gc.get_objects():\n",
    "        try:\n",
    "            if torch.is_tensor(obj):\n",
    "                if not gpu_only or obj.is_cuda:\n",
    "                    print(\"%s:%s%s %s\" % (type(obj).__name__, \n",
    "                                          \" GPU\" if obj.is_cuda else \"\",\n",
    "                                          \" pinned\" if obj.is_pinned else \"\",\n",
    "                                          pretty_size(obj.size())))\n",
    "                    total_size += obj.numel()\n",
    "            elif hasattr(obj, \"data\") and torch.is_tensor(obj.data):\n",
    "                if not gpu_only or obj.is_cuda:\n",
    "                    print(\"%s → %s:%s%s%s%s %s\" % (type(obj).__name__, \n",
    "                                                   type(obj.data).__name__, \n",
    "                                                   \" GPU\" if obj.is_cuda else \"\",\n",
    "                                                   \" pinned\" if obj.data.is_pinned else \"\",\n",
    "                                                   \" grad\" if obj.requires_grad else \"\", \n",
    "                                                   \" volatile\" if obj.volatile else \"\",\n",
    "                                                   pretty_size(obj.data.size())))\n",
    "                    total_size += obj.data.numel()\n",
    "        except Exception as e:\n",
    "            pass        \n",
    "    print(\"Total size:\", total_size)\n",
    "\n",
    "# dump_tensors()"
   ]
  },
  {
   "cell_type": "markdown",
   "id": "00409945-7c70-4633-8923-1e48d17053de",
   "metadata": {},
   "source": [
    "# 학습 Function"
   ]
  },
  {
   "cell_type": "code",
   "execution_count": 81,
   "id": "a9f17d1e-e9ee-4b9f-ab39-6d6b15073c3e",
   "metadata": {},
   "outputs": [],
   "source": [
    "def EFF_train_val_infer(BACKBONE):\n",
    "    model = EFFMaskClassifier(BACKBONE).to(device)\n",
    "    # For Multi-GPU\n",
    "#     os.environ[\"CUDA_VISIBLE_DEVICES\"] = '0, 1'\n",
    "#     model = nn.DataParallel(model)\n",
    "\n",
    "    # Set optimizer, scheduler, loss function, metric function\n",
    "    base_optimizer = AdamP\n",
    "    optimizer = SAM(model.parameters(), base_optimizer, lr=LEARNING_RATE, weight_decay=WEIGHT_DECAY)\n",
    "    scheduler =  optim.lr_scheduler.CosineAnnealingWarmRestarts(\n",
    "        optimizer, T_0=6, T_mult=1, eta_min=1e-7)\n",
    "    # criterion = TaylorCrossEntropyLoss(n=2, smoothing=0.1)\n",
    "    criterion = nn.CrossEntropyLoss()\n",
    "#     criterion = nn.BCEWithLogitsLoss()\n",
    "    metric_fn = get_metric_fn\n",
    "\n",
    "    # Set system logger\n",
    "    system_logger = get_logger(name='train',file_path='train_log.log')\n",
    "\n",
    "    # Set trainer\n",
    "    scales = [\n",
    "        [140, 70], [180, 90], [220, 110], \n",
    "        [260, 130], [300, 150], [340, 170],\n",
    "        [380, 190], [420, 210], [460, 230]\n",
    "             ]\n",
    "\n",
    "    trainer = SAM_Trainer(criterion, model, device, metric_fn, optimizer, scheduler, logger=system_logger)\n",
    "    # trainer = MultiScale_Trainer(criterion, model, device, metric_fn, scales, optimizer, scheduler, logger=system_logger)\n",
    "\n",
    "    train_loss_history = []\n",
    "    train_acc_history = []\n",
    "\n",
    "    valid_loss_history = []\n",
    "    valid_acc_history = []\n",
    "\n",
    "    best_val_loss = None\n",
    "    best_val_acc = None\n",
    "    \n",
    "    for epoch_index in tqdm(range(EPOCHS)):\n",
    "\n",
    "        trainer.train_epoch(train_dataloader, epoch_index)\n",
    "        trainer.validate_epoch(validation_dataloader, epoch_index)\n",
    "\n",
    "        train_loss_history.append(trainer.train_mean_loss)\n",
    "        train_acc_history.append(trainer.train_score)\n",
    "\n",
    "        valid_loss_history.append(trainer.val_mean_loss)\n",
    "        valid_acc_history.append(trainer.validation_score)\n",
    "\n",
    "        # don't use early stopper\n",
    "\n",
    "        if best_val_loss == None or trainer.val_mean_loss < best_val_loss:\n",
    "            best_val_loss = trainer.val_mean_loss\n",
    "            criterion = trainer.val_mean_loss\n",
    "            check_point = {\n",
    "                'model': model.state_dict(),\n",
    "                'optimizer': optimizer.state_dict(),\n",
    "                'scheduler': scheduler.state_dict()\n",
    "            }\n",
    "            torch.save(check_point, os.path.join(WEIGHT_DIR, f'{BACKBONE}_SAM_AdamP_v2_best.pt'))\n",
    "\n",
    "    best_val_acc = max(valid_acc_history)\n",
    "\n",
    "    plot_loss(train_loss_history, valid_loss_history, BACKBONE)\n",
    "    plot_acc(train_acc_history, valid_acc_history, BACKBONE)\n",
    "    \n",
    "    TRAINED_MODEL_PATH = os.path.join(WEIGHT_DIR, f'{BACKBONE}_SAM_AdamP_v2_best.pt')\n",
    "    \n",
    "    model.load_state_dict(torch.load(TRAINED_MODEL_PATH)['model'])\n",
    "\n",
    "    # Prediction\n",
    "    file_num_lst = []\n",
    "    pred_lst = []\n",
    "    prob_lst = []\n",
    "    model.eval()\n",
    "    with torch.no_grad():\n",
    "        for batch_index, (img, file_num) in enumerate(test_dataloader):\n",
    "            img = img.to(device)\n",
    "            pred = model(img)\n",
    "            pred = F.softmax(pred)\n",
    "            file_num_lst.extend(list(file_num))\n",
    "            \n",
    "            prob_lst.extend(pred[:, 1].cpu().tolist())\n",
    "            pred_lst.extend(pred.argmax(dim=1).cpu().tolist())\n",
    "\n",
    "    df = pd.DataFrame({'file_name':list(map(int,file_num_lst)), 'answer':pred_lst, 'prob':prob_lst})\n",
    "    df.sort_values(by=['file_name'], inplace=True)\n",
    "    df.to_csv(os.path.join(RESULT_DIR, f'mask_pred_with_{BACKBONE}_SAM_AdamP_v2.csv'), index=False)\n",
    "\n",
    "    trainer.validate_epoch(check_dataloader, 0)\n",
    "    \n",
    "    # save data\n",
    "    \n",
    "    TIME = datetime.now().strftime('%m%d%H%M%S')\n",
    "\n",
    "    save_dict = {'backbone':BACKBONE,\n",
    "                 'time':TIME,\n",
    "                 'best_val_loss':best_val_loss,\n",
    "                 'best_val_acc':best_val_acc,\n",
    "                 'test_acc':None,\n",
    "                 'epochs':EPOCHS,\n",
    "                 'input_shape':INPUT_SHAPE,\n",
    "                 'augmentation':None,\n",
    "                 'optimizer':'SAM, AdamP',\n",
    "                 'scheduler':'CosineAnnealingWarmRestarts',\n",
    "                 'attention_module':None,\n",
    "                 'learning_rate':LEARNING_RATE,\n",
    "                 'batch_size':BATCH_SIZE,\n",
    "                 'loss':'CrossEntropyLoss',\n",
    "                 'freeze':None,\n",
    "                 'others':None,\n",
    "                 'randomeseed':seed,\n",
    "                 'train_loss':train_loss_history,\n",
    "                 'train_acc':train_acc_history,\n",
    "                 'valid_loss':valid_loss_history,\n",
    "                 'valid_acc':valid_acc_history}\n",
    "\n",
    "    \n",
    "    with open(f\"{os.path.join(NUMPY_DIR, BACKBONE)}_SAM_AdamP_v2_{TIME}.json\", 'w') as f:\n",
    "        json.dump(save_dict, f)\n",
    "    \n",
    "    wait_and_flush()"
   ]
  },
  {
   "cell_type": "code",
   "execution_count": 83,
   "id": "bf39f4e9-6b00-4bc6-ab84-85863b98ec96",
   "metadata": {},
   "outputs": [],
   "source": [
    "def NFN_train_val_infer(BACKBONE):\n",
    "    model = NFNMaskClassifier(BACKBONE).to(device)\n",
    "\n",
    "    # For Multi-GPU\n",
    "#     os.environ[\"CUDA_VISIBLE_DEVICES\"] = '0, 1'\n",
    "#     model = nn.DataParallel(model)\n",
    "\n",
    "    # Set optimizer, scheduler, loss function, metric function\n",
    "    base_optimizer = AdamP\n",
    "    optimizer = SAM(model.parameters(), base_optimizer, lr=LEARNING_RATE, weight_decay=WEIGHT_DECAY)\n",
    "    scheduler =  optim.lr_scheduler.CosineAnnealingWarmRestarts(\n",
    "        optimizer, T_0=5, T_mult=2, eta_min=5e-6, last_epoch=-1)\n",
    "    # criterion = TaylorCrossEntropyLoss(n=2, smoothing=0.1)\n",
    "    criterion = nn.CrossEntropyLoss()\n",
    "#     criterion = nn.BCEWithLogitsLoss()\n",
    "    metric_fn = get_metric_fn\n",
    "\n",
    "    # Set system logger\n",
    "    system_logger = get_logger(name='train',file_path='train_log.log')\n",
    "\n",
    "    # Set trainer\n",
    "    scales = [\n",
    "        [140, 70], [180, 90], [220, 110], \n",
    "        [260, 130], [300, 150], [340, 170],\n",
    "        [380, 190], [420, 210], [460, 230]\n",
    "             ]\n",
    "\n",
    "    trainer = SAM_Trainer(criterion, model, device, metric_fn, optimizer, scheduler, logger=system_logger)\n",
    "    # trainer = MultiScale_Trainer(criterion, model, device, metric_fn, scales, optimizer, scheduler, logger=system_logger)\n",
    "\n",
    "    train_loss_history = []\n",
    "    train_acc_history = []\n",
    "\n",
    "    valid_loss_history = []\n",
    "    valid_acc_history = []\n",
    "\n",
    "    best_val_loss = None\n",
    "    best_val_acc = None\n",
    "    \n",
    "    patience = 0\n",
    "    \n",
    "    for epoch_index in tqdm(range(EPOCHS)):\n",
    "\n",
    "        trainer.train_epoch(train_dataloader, epoch_index)\n",
    "        trainer.validate_epoch(validation_dataloader, epoch_index)\n",
    "\n",
    "        train_loss_history.append(trainer.train_mean_loss)\n",
    "        train_acc_history.append(trainer.train_score)\n",
    "\n",
    "        valid_loss_history.append(trainer.val_mean_loss)\n",
    "        valid_acc_history.append(trainer.validation_score)\n",
    "\n",
    "        # don't use early stopper\n",
    "        patience += 1\n",
    "        \n",
    "        if best_val_loss == None or trainer.val_mean_loss < best_val_loss:\n",
    "            best_val_loss = trainer.val_mean_loss\n",
    "            patience = 0\n",
    "            check_point = {\n",
    "                'model': model.state_dict(),\n",
    "                'optimizer': optimizer.state_dict(),\n",
    "                'scheduler': scheduler.state_dict()\n",
    "            }\n",
    "            torch.save(check_point, os.path.join(WEIGHT_DIR, f'{BACKBONE}_SAM_AdamP_v3_best.pt'))\n",
    "        \n",
    "        if patience == EARLY_STOPPING_PATIENCE:\n",
    "            break\n",
    "            \n",
    "    best_val_acc = max(valid_acc_history)\n",
    "\n",
    "    plot_loss(train_loss_history, valid_loss_history, BACKBONE)\n",
    "    plot_acc(train_loss_history, valid_loss_history, BACKBONE)\n",
    "    \n",
    "    TRAINED_MODEL_PATH = os.path.join(WEIGHT_DIR, f'{BACKBONE}_SAM_AdamP_v3_best.pt')\n",
    "    \n",
    "    model.load_state_dict(torch.load(TRAINED_MODEL_PATH)['model'])\n",
    "\n",
    "    # Prediction\n",
    "    file_num_lst = []\n",
    "    pred_lst = []\n",
    "    prob_lst = []\n",
    "    model.eval()\n",
    "    with torch.no_grad():\n",
    "        for batch_index, (img, file_num) in enumerate(test_dataloader):\n",
    "            img = img.to(device)\n",
    "            pred = model(img)\n",
    "            pred = F.softmax(pred)\n",
    "            file_num_lst.extend(list(file_num))\n",
    "            prob_lst.extend(pred[:, 1].cpu().tolist())\n",
    "            pred_lst.extend(pred.argmax(dim=1).cpu().tolist())\n",
    "\n",
    "\n",
    "    df = pd.DataFrame({'file_name':list(map(int,file_num_lst)), 'answer':pred_lst, 'prob':prob_lst})\n",
    "    df.sort_values(by=['file_name'], inplace=True)\n",
    "    df.to_csv(os.path.join(RESULT_DIR, f'mask_pred_with_{BACKBONE}_SAM_AdamP_v3.csv'), index=False)\n",
    "\n",
    "    trainer.validate_epoch(check_dataloader, 0)\n",
    "    \n",
    "    # save data\n",
    "    \n",
    "    TIME = datetime.now().strftime('%m%d%H%M%S')\n",
    "\n",
    "    save_dict = {'backbone':BACKBONE,\n",
    "                 'time':TIME,\n",
    "                 'best_val_loss':best_val_loss,\n",
    "                 'best_val_acc':best_val_acc,\n",
    "                 'test_acc':None,\n",
    "                 'epochs':EPOCHS,\n",
    "                 'input_shape':INPUT_SHAPE,\n",
    "                 'augmentation':None,\n",
    "                 'optimizer':'SAM, AdamP',\n",
    "                 'scheduler':'CosineAnnealingWarmRestarts',\n",
    "                 'attention_module':None,\n",
    "                 'learning_rate':LEARNING_RATE,\n",
    "                 'batch_size':BATCH_SIZE,\n",
    "                 'loss':'CrossEntropyLoss',\n",
    "                 'freeze':None,\n",
    "                 'others':None,\n",
    "                 'randomeseed':seed,\n",
    "                 'train_loss':train_loss_history,\n",
    "                 'train_acc':train_acc_history,\n",
    "                 'valid_loss':valid_loss_history,\n",
    "                 'valid_acc':valid_acc_history}\n",
    "\n",
    "\n",
    "    with open(f\"{os.path.join(NUMPY_DIR, BACKBONE)}_SAM_AdamP_v3_{TIME}.json\", 'w') as f:\n",
    "        json.dump(save_dict, f)\n",
    "\n",
    "    wait_and_flush()"
   ]
  },
  {
   "cell_type": "code",
   "execution_count": 84,
   "id": "4ad3aa24-d241-469d-b623-f79450ae0d81",
   "metadata": {},
   "outputs": [],
   "source": [
    "def DEIT_train_val_infer(BACKBONE):\n",
    "    model = DEITMaskClassifier(BACKBONE).to(device)\n",
    "\n",
    "    # For Multi-GPU\n",
    "#     os.environ[\"CUDA_VISIBLE_DEVICES\"] = '0, 1'\n",
    "#     model = nn.DataParallel(model)\n",
    "\n",
    "    # Set optimizer, scheduler, loss function, metric function\n",
    "    base_optimizer = AdamP\n",
    "    optimizer = SAM(model.parameters(), base_optimizer, lr=LEARNING_RATE, weight_decay=WEIGHT_DECAY)\n",
    "    scheduler =  optim.lr_scheduler.CosineAnnealingWarmRestarts(\n",
    "        optimizer, T_0=6, T_mult=1, eta_min=1e-6)\n",
    "    # criterion = TaylorCrossEntropyLoss(n=2, smoothing=0.1)\n",
    "#     criterion = nn.BCEWithLogitsLoss()\n",
    "    criterion = nn.CrossEntropyLoss()\n",
    "    metric_fn = get_metric_fn\n",
    "\n",
    "    # Set system logger\n",
    "    system_logger = get_logger(name='train',file_path='train_log.log')\n",
    "\n",
    "    # Set trainer\n",
    "    scales = [\n",
    "        [140, 70], [180, 90], [220, 110], \n",
    "        [260, 130], [300, 150], [340, 170],\n",
    "        [380, 190], [420, 210], [460, 230]\n",
    "             ]\n",
    "\n",
    "    trainer = SAM_Trainer(criterion, model, device, metric_fn, optimizer, scheduler, logger=system_logger)\n",
    "    # trainer = MultiScale_Trainer(criterion, model, device, metric_fn, scales, optimizer, scheduler, logger=system_logger)\n",
    "\n",
    "    train_loss_history = []\n",
    "    train_acc_history = []\n",
    "\n",
    "    valid_loss_history = []\n",
    "    valid_acc_history = []\n",
    "\n",
    "    best_val_loss = None\n",
    "    best_val_acc = None\n",
    "\n",
    "    \n",
    "    for epoch_index in tqdm(range(EPOCHS)):\n",
    "\n",
    "        trainer.train_epoch(train_dataloader, epoch_index)\n",
    "        trainer.validate_epoch(validation_dataloader, epoch_index)\n",
    "\n",
    "        train_loss_history.append(trainer.train_mean_loss)\n",
    "        train_acc_history.append(trainer.train_score)\n",
    "\n",
    "        valid_loss_history.append(trainer.val_mean_loss)\n",
    "        valid_acc_history.append(trainer.validation_score)\n",
    "\n",
    "        # don't use early stopper\n",
    "\n",
    "        if best_val_loss == None or trainer.val_mean_loss < best_val_loss:\n",
    "            best_val_loss = trainer.val_mean_loss\n",
    "            criterion = trainer.val_mean_loss\n",
    "            check_point = {\n",
    "                'model': model.state_dict(),\n",
    "                'optimizer': optimizer.state_dict(),\n",
    "                'scheduler': scheduler.state_dict()\n",
    "            }\n",
    "            torch.save(check_point, os.path.join(WEIGHT_DIR, f'{BACKBONE}_SAM_AdamP_v2_best.pt'))\n",
    "\n",
    "    best_val_acc = max(valid_acc_history)\n",
    "\n",
    "    plot_loss(train_loss_history, valid_loss_history, BACKBONE)\n",
    "    plot_acc(train_loss_history, valid_loss_history, BACKBONE)\n",
    "    \n",
    "    TRAINED_MODEL_PATH = os.path.join(WEIGHT_DIR, f'{BACKBONE}_SAM_AdamP_v2_best.pt')\n",
    "    \n",
    "    model.load_state_dict(torch.load(TRAINED_MODEL_PATH)['model'])\n",
    "\n",
    "    # Prediction\n",
    "    file_num_lst = []\n",
    "    pred_lst = []\n",
    "    prob_lst = []\n",
    "    model.eval()\n",
    "    with torch.no_grad():\n",
    "        for batch_index, (img, file_num) in enumerate(test_dataloader):\n",
    "            img = img.to(device)\n",
    "            pred = F.softmax(model(img))\n",
    "            file_num_lst.extend(list(file_num))\n",
    "            prob_lst.extend(pred[:, 1].cpu().tolist())\n",
    "            pred_lst.extend(pred.argmax(dim=1).cpu().tolist())\n",
    "\n",
    "    df = pd.DataFrame({'file_name':list(map(int,file_num_lst)), 'answer':pred_lst, 'prob':prob_lst})\n",
    "    df.sort_values(by=['file_name'], inplace=True)\n",
    "    df.to_csv(os.path.join(RESULT_DIR, f'mask_pred_with_{BACKBONE}_SAM_AdamP_v2.csv'), index=False)\n",
    "\n",
    "    trainer.validate_epoch(check_dataloader, 0)\n",
    "    \n",
    "    # save data\n",
    "    \n",
    "    TIME = datetime.now().strftime('%m%d%H%M%S')\n",
    "\n",
    "    save_dict = {'backbone':BACKBONE,\n",
    "                 'time':TIME,\n",
    "                 'best_val_loss':best_val_loss,\n",
    "                 'best_val_acc':best_val_acc,\n",
    "                 'test_acc':None,\n",
    "                 'epochs':EPOCHS,\n",
    "                 'input_shape':INPUT_SHAPE,\n",
    "                 'augmentation':None,\n",
    "                 'optimizer':'SAM, AdamP',\n",
    "                 'scheduler':'CosineAnnealingWarmRestarts',\n",
    "                 'attention_module':None,\n",
    "                 'learning_rate':LEARNING_RATE,\n",
    "                 'batch_size':BATCH_SIZE,\n",
    "                 'loss':'CrossEntropyLoss',\n",
    "                 'freeze':None,\n",
    "                 'others':None,\n",
    "                 'randomeseed':seed,\n",
    "                 'train_loss':train_loss_history,\n",
    "                 'train_acc':train_acc_history,\n",
    "                 'valid_loss':valid_loss_history,\n",
    "                 'valid_acc':valid_acc_history}\n",
    "\n",
    "\n",
    "    with open(f\"{os.path.join(NUMPY_DIR, BACKBONE)}_SAM_AdamP_v2_{TIME}.json\", 'w') as f:\n",
    "        json.dump(save_dict, f)\n",
    "    \n",
    "    wait_and_flush()"
   ]
  },
  {
   "cell_type": "markdown",
   "id": "fde4d333-8cfa-4039-a9ef-865f07ec6956",
   "metadata": {},
   "source": [
    "# Debugging Purposes"
   ]
  },
  {
   "cell_type": "code",
   "execution_count": 85,
   "id": "b5354a12-0eec-4f97-84bc-fc3b0479aa88",
   "metadata": {},
   "outputs": [],
   "source": [
    "def DEBUG_train_val_infer(BACKBONE=\"debug\"):\n",
    "    model = DebuggerNet().to(device)\n",
    "\n",
    "    # For Multi-GPU\n",
    "#     os.environ[\"CUDA_VISIBLE_DEVICES\"] = '0, 1'\n",
    "#     model = nn.DataParallel(model)\n",
    "\n",
    "    # Set optimizer, scheduler, loss function, metric function\n",
    "    base_optimizer = AdamP\n",
    "    optimizer = SAM(model.parameters(), base_optimizer, lr=LEARNING_RATE, weight_decay=WEIGHT_DECAY)\n",
    "    scheduler =  optim.lr_scheduler.CosineAnnealingWarmRestarts(\n",
    "        optimizer, T_0=6, T_mult=1, eta_min=1e-6)\n",
    "    # criterion = TaylorCrossEntropyLoss(n=2, smoothing=0.1)\n",
    "#     criterion = nn.BCEWithLogitsLoss()\n",
    "    criterion = nn.CrossEntropyLoss()\n",
    "    metric_fn = get_metric_fn\n",
    "\n",
    "    # Set system logger\n",
    "    system_logger = get_logger(name='train',file_path='train_log.log')\n",
    "\n",
    "    # Set trainer\n",
    "    scales = [\n",
    "        [140, 70], [180, 90], [220, 110], \n",
    "        [260, 130], [300, 150], [340, 170],\n",
    "        [380, 190], [420, 210], [460, 230]\n",
    "             ]\n",
    "\n",
    "    trainer = SAM_Trainer(criterion, model, device, metric_fn, optimizer, scheduler, logger=system_logger)\n",
    "    # trainer = MultiScale_Trainer(criterion, model, device, metric_fn, scales, optimizer, scheduler, logger=system_logger)\n",
    "\n",
    "    train_loss_history = []\n",
    "    train_acc_history = []\n",
    "\n",
    "    valid_loss_history = []\n",
    "    valid_acc_history = []\n",
    "\n",
    "    best_val_loss = None\n",
    "    best_val_acc = None\n",
    "\n",
    "    \n",
    "    for epoch_index in tqdm(range(EPOCHS)):\n",
    "\n",
    "        trainer.train_epoch(train_dataloader, epoch_index)\n",
    "        trainer.validate_epoch(validation_dataloader, epoch_index)\n",
    "\n",
    "        train_loss_history.append(trainer.train_mean_loss)\n",
    "        train_acc_history.append(trainer.train_score)\n",
    "\n",
    "        valid_loss_history.append(trainer.val_mean_loss)\n",
    "        valid_acc_history.append(trainer.validation_score)\n",
    "\n",
    "        # don't use early stopper\n",
    "\n",
    "        if best_val_loss == None or trainer.val_mean_loss < best_val_loss:\n",
    "            best_val_loss = trainer.val_mean_loss\n",
    "            criterion = trainer.val_mean_loss\n",
    "            check_point = {\n",
    "                'model': model.state_dict(),\n",
    "                'optimizer': optimizer.state_dict(),\n",
    "                'scheduler': scheduler.state_dict()\n",
    "            }\n",
    "            torch.save(check_point, os.path.join(WEIGHT_DIR, f'{BACKBONE}_best.pt'))\n",
    "\n",
    "    best_val_acc = max(valid_acc_history)\n",
    "\n",
    "    plot_loss(train_loss_history, valid_loss_history, BACKBONE)\n",
    "    plot_acc(train_loss_history, valid_loss_history, BACKBONE)\n",
    "    \n",
    "    TRAINED_MODEL_PATH = os.path.join(WEIGHT_DIR, f'{BACKBONE}_best.pt')\n",
    "    \n",
    "    model.load_state_dict(torch.load(TRAINED_MODEL_PATH)['model'])\n",
    "\n",
    "    # Prediction\n",
    "    file_num_lst = []\n",
    "    pred_lst = []\n",
    "    prob_lst = []\n",
    "    model.eval()\n",
    "    with torch.no_grad():\n",
    "        for batch_index, (img, file_num) in enumerate(test_dataloader):\n",
    "            img = img.to(device)\n",
    "            pred = F.softmax(model(img))\n",
    "            file_num_lst.extend(list(file_num))\n",
    "            prob_lst.extend(pred[:, 1].cpu().tolist())\n",
    "            pred_lst.extend(pred.argmax(dim=1).cpu().tolist())\n",
    "\n",
    "    df = pd.DataFrame({'file_name':list(map(int,file_num_lst)), 'answer':pred_lst, 'prob':prob_lst})\n",
    "    df.sort_values(by=['file_name'], inplace=True)\n",
    "    df.to_csv(os.path.join(RESULT_DIR, f'mask_pred_with_{BACKBONE}.csv'), index=False)\n",
    "\n",
    "    trainer.validate_epoch(check_dataloader, 0)\n",
    "    \n",
    "    # save data\n",
    "    \n",
    "    TIME = datetime.now().strftime('%m%d%H%M%S')\n",
    "\n",
    "    save_dict = {'backbone':BACKBONE,\n",
    "                 'time':TIME,\n",
    "                 'best_val_loss':best_val_loss,\n",
    "                 'best_val_acc':best_val_acc,\n",
    "                 'test_acc':None,\n",
    "                 'epochs':EPOCHS,\n",
    "                 'input_shape':INPUT_SHAPE,\n",
    "                 'augmentation':None,\n",
    "                 'optimizer':'Adam',\n",
    "                 'scheduler':'CosineAnnealingWarmRestarts',\n",
    "                 'attention_module':None,\n",
    "                 'learning_rate':LEARNING_RATE,\n",
    "                 'batch_size':BATCH_SIZE,\n",
    "                 'loss':'CrossEntropyLoss',\n",
    "                 'freeze':None,\n",
    "                 'others':None,\n",
    "                 'randomeseed':seed,\n",
    "                 'train_loss':train_loss_history,\n",
    "                 'train_acc':train_acc_history,\n",
    "                 'valid_loss':valid_loss_history,\n",
    "                 'valid_acc':valid_acc_history}\n",
    "\n",
    "\n",
    "    with open(f\"{os.path.join(NUMPY_DIR, BACKBONE)}_{TIME}.json\", 'w') as f:\n",
    "        json.dump(save_dict, f)\n",
    "    \n",
    "    wait_and_flush()"
   ]
  },
  {
   "cell_type": "code",
   "execution_count": 86,
   "id": "7beec4f4-4449-4ecd-a066-53468a356ba7",
   "metadata": {},
   "outputs": [],
   "source": [
    "# DEBUG_train_val_infer()"
   ]
  },
  {
   "cell_type": "markdown",
   "id": "fb2efef2-1f51-46f9-8998-244846297a52",
   "metadata": {},
   "source": [
    "# 기차 = Train"
   ]
  },
  {
   "cell_type": "code",
   "execution_count": 87,
   "id": "493e3052-9938-4e15-a885-3e2f91109ca0",
   "metadata": {},
   "outputs": [],
   "source": [
    "save_csv = pd.DataFrame()"
   ]
  },
  {
   "cell_type": "markdown",
   "id": "7b13710a-5b6a-4b68-825d-1fc07e768490",
   "metadata": {},
   "source": [
    "# Efficient Family"
   ]
  },
  {
   "cell_type": "code",
   "execution_count": 43,
   "id": "07ccf8c6-28e9-4e41-ae01-24e14330eb23",
   "metadata": {},
   "outputs": [
    {
     "name": "stdout",
     "output_type": "stream",
     "text": [
      "2\n",
      "['tf_efficientnetv2_l_in21kft1ktf_efficientnetv2_m_in21ft1k', 'tf_efficientnetv2_s_in21ft1k']\n"
     ]
    }
   ],
   "source": [
    "print(len(EFF_BACKBONES))\n",
    "print(EFF_BACKBONES)"
   ]
  },
  {
   "cell_type": "code",
   "execution_count": 43,
   "id": "8f6126c3-1c68-4080-8a28-202b53667da0",
   "metadata": {},
   "outputs": [],
   "source": [
    "INDEX = 0"
   ]
  },
  {
   "cell_type": "code",
   "execution_count": null,
   "id": "6070207d-1cd1-4234-9686-2fb7562717c5",
   "metadata": {},
   "outputs": [
    {
     "name": "stderr",
     "output_type": "stream",
     "text": [
      "  0%|          | 0/1 [00:00<?, ?it/s]"
     ]
    }
   ],
   "source": [
    "EFF_train_val_infer(EFF_BACKBONES[INDEX])\n"
   ]
  },
  {
   "cell_type": "code",
   "execution_count": null,
   "id": "7ee9d6ed-5704-48e0-aef9-d0fb0046e96b",
   "metadata": {},
   "outputs": [],
   "source": [
    "#0\n",
    "try:\n",
    "    print(f'\\033[48;5;37m\\033[38;5;255m    ⸂⸂⸜(രᴗര๑)⸝⸃⸃    {EFF_BACKBONES[INDEX]}    ⸂⸂⸜(രᴗര๑)⸝⸃⸃    \\033[0;0m')    \n",
    "    EFF_train_val_infer(EFF_BACKBONES[INDEX])\n",
    "except:\n",
    "    pass\n",
    "INDEX += 1"
   ]
  },
  {
   "cell_type": "code",
   "execution_count": null,
   "id": "fd1c1430-df9c-4158-8b79-a5f9a5146826",
   "metadata": {},
   "outputs": [],
   "source": [
    "#1\n",
    "try:\n",
    "    print(f'\\033[48;5;37m\\033[38;5;255m    ⸂⸂⸜(രᴗര๑)⸝⸃⸃    {EFF_BACKBONES[INDEX]}    ⸂⸂⸜(രᴗര๑)⸝⸃⸃    \\033[0;0m')    \n",
    "    EFF_train_val_infer(EFF_BACKBONES[INDEX])\n",
    "except: \n",
    "    pass\n",
    "INDEX += 1"
   ]
  },
  {
   "cell_type": "code",
   "execution_count": null,
   "id": "d0d19bce-cb56-48cc-81a0-988ea98dfef4",
   "metadata": {},
   "outputs": [],
   "source": [
    "#2\n",
    "try:\n",
    "    print(f'\\033[48;5;37m\\033[38;5;255m    ⸂⸂⸜(രᴗര๑)⸝⸃⸃    {EFF_BACKBONES[INDEX]}    ⸂⸂⸜(രᴗര๑)⸝⸃⸃    \\033[0;0m')    \n",
    "    EFF_train_val_infer(EFF_BACKBONES[INDEX])\n",
    "except:\n",
    "    pass\n",
    "INDEX += 1"
   ]
  },
  {
   "cell_type": "code",
   "execution_count": 152,
   "id": "1d310c57-cf4f-4e47-a5a2-b841d80889c9",
   "metadata": {},
   "outputs": [
    {
     "name": "stdout",
     "output_type": "stream",
     "text": [
      "\u001b[48;5;37m\u001b[38;5;255m    ⸂⸂⸜(രᴗര๑)⸝⸃⸃    tf_efficientnet_b4_ns    ⸂⸂⸜(രᴗര๑)⸝⸃⸃    \u001b[0;0m\n"
     ]
    },
    {
     "name": "stderr",
     "output_type": "stream",
     "text": [
      "  0%|          | 0/20 [00:00<?, ?it/s]\n"
     ]
    }
   ],
   "source": [
    "#3\n",
    "try:\n",
    "    print(f'\\033[48;5;37m\\033[38;5;255m    ⸂⸂⸜(രᴗര๑)⸝⸃⸃    {EFF_BACKBONES[INDEX]}    ⸂⸂⸜(രᴗര๑)⸝⸃⸃    \\033[0;0m')    \n",
    "    EFF_train_val_infer(EFF_BACKBONES[INDEX])\n",
    "except:\n",
    "    pass\n",
    "INDEX += 1"
   ]
  },
  {
   "cell_type": "code",
   "execution_count": 153,
   "id": "7958c3cd-85fa-4d04-bf9e-aa612716bb70",
   "metadata": {},
   "outputs": [
    {
     "name": "stdout",
     "output_type": "stream",
     "text": [
      "\u001b[48;5;37m\u001b[38;5;255m    ⸂⸂⸜(രᴗര๑)⸝⸃⸃    tf_efficientnet_b7_ns    ⸂⸂⸜(രᴗര๑)⸝⸃⸃    \u001b[0;0m\n"
     ]
    },
    {
     "name": "stderr",
     "output_type": "stream",
     "text": [
      "  0%|          | 0/20 [00:00<?, ?it/s]\n"
     ]
    }
   ],
   "source": [
    "#4\n",
    "try:\n",
    "    print(f'\\033[48;5;37m\\033[38;5;255m    ⸂⸂⸜(രᴗര๑)⸝⸃⸃    {EFF_BACKBONES[INDEX]}    ⸂⸂⸜(രᴗര๑)⸝⸃⸃    \\033[0;0m')    \n",
    "    EFF_train_val_infer(EFF_BACKBONES[INDEX])\n",
    "except:\n",
    "    pass\n",
    "INDEX += 1"
   ]
  },
  {
   "cell_type": "code",
   "execution_count": 154,
   "id": "98726785-3053-4d30-8ffe-3304a79fd6dc",
   "metadata": {},
   "outputs": [],
   "source": [
    "#5\n",
    "try:\n",
    "    p\n",
    "except:\n",
    "    pass\n",
    "INDEX += 1"
   ]
  },
  {
   "cell_type": "code",
   "execution_count": 44,
   "id": "ce34871f-e09b-4df1-b84d-32b5a91d2bc4",
   "metadata": {},
   "outputs": [
    {
     "name": "stdout",
     "output_type": "stream",
     "text": [
      "\u001b[48;5;37m\u001b[38;5;255m    ⸂⸂⸜(രᴗര๑)⸝⸃⸃    tf_efficientnetv2_s_in21ft1k    ⸂⸂⸜(രᴗര๑)⸝⸃⸃    \u001b[0;0m\n"
     ]
    },
    {
     "name": "stderr",
     "output_type": "stream",
     "text": [
      "  0%|          | 0/20 [00:00<?, ?it/s]"
     ]
    },
    {
     "name": "stdout",
     "output_type": "stream",
     "text": [
      "Epoch 0, Train loss: 0.2690994963722103, Acc: 0.8830162374938494, ROC: 0.9550191694620239\n",
      "Epoch 0, Val loss: 0.1369138987756957, Acc: 0.9494464944649447, ROC: 0.9891635630449913\n"
     ]
    },
    {
     "name": "stderr",
     "output_type": "stream",
     "text": [
      "  5%|▌         | 1/20 [03:47<1:12:10, 227.93s/it]"
     ]
    },
    {
     "name": "stdout",
     "output_type": "stream",
     "text": [
      "Epoch 1, Train loss: 0.07001862173494847, Acc: 0.9756027554535017, ROC: 0.9967132585242402\n",
      "Epoch 1, Val loss: 0.10814163018467136, Acc: 0.9638376383763838, ROC: 0.9931559638856023\n"
     ]
    },
    {
     "name": "stderr",
     "output_type": "stream",
     "text": [
      " 10%|█         | 2/20 [07:29<1:07:12, 224.00s/it]"
     ]
    },
    {
     "name": "stdout",
     "output_type": "stream",
     "text": [
      "Epoch 2, Train loss: 0.025931142009298955, Acc: 0.9924553058881417, ROC: 0.9994499970867791\n",
      "Epoch 2, Val loss: 0.09895637870506871, Acc: 0.9675276752767528, ROC: 0.9947135797914521\n"
     ]
    },
    {
     "name": "stderr",
     "output_type": "stream",
     "text": [
      " 15%|█▌        | 3/20 [11:19<1:04:17, 226.89s/it]"
     ]
    },
    {
     "name": "stdout",
     "output_type": "stream",
     "text": [
      "Epoch 3, Train loss: 0.01825464988442537, Acc: 0.9939724454649828, ROC: 0.9997701383316224\n"
     ]
    },
    {
     "name": "stderr",
     "output_type": "stream",
     "text": [
      " 20%|██        | 4/20 [15:13<1:01:13, 229.59s/it]"
     ]
    },
    {
     "name": "stdout",
     "output_type": "stream",
     "text": [
      "Epoch 3, Val loss: 0.11790847023747539, Acc: 0.9671586715867159, ROC: 0.9934396227392974\n",
      "Epoch 4, Train loss: 0.01892886365010476, Acc: 0.9934393964244711, ROC: 0.9996654337012689\n",
      "Epoch 4, Val loss: 0.09449502742704977, Acc: 0.9708487084870848, ROC: 0.9951571798848534\n"
     ]
    },
    {
     "name": "stderr",
     "output_type": "stream",
     "text": [
      " 25%|██▌       | 5/20 [19:04<57:31, 230.09s/it]  "
     ]
    },
    {
     "name": "stdout",
     "output_type": "stream",
     "text": [
      "Epoch 5, Train loss: 0.0118492641546022, Acc: 0.9961456453993768, ROC: 0.9998860720046397\n"
     ]
    },
    {
     "name": "stderr",
     "output_type": "stream",
     "text": [
      " 30%|███       | 6/20 [22:57<53:54, 231.06s/it]"
     ]
    },
    {
     "name": "stdout",
     "output_type": "stream",
     "text": [
      "Epoch 5, Val loss: 0.10210167615531586, Acc: 0.9686346863468634, ROC: 0.9959474122120431\n",
      "Epoch 6, Train loss: 0.012980398986086598, Acc: 0.9957356076759062, ROC: 0.9998604282288995\n"
     ]
    },
    {
     "name": "stderr",
     "output_type": "stream",
     "text": [
      " 35%|███▌      | 7/20 [26:47<50:02, 230.94s/it]"
     ]
    },
    {
     "name": "stdout",
     "output_type": "stream",
     "text": [
      "Epoch 6, Val loss: 0.13257748890717094, Acc: 0.9675276752767528, ROC: 0.9946985330546158\n",
      "Epoch 7, Train loss: 0.009681163648271054, Acc: 0.9966376906675414, ROC: 0.9999107628254726\n"
     ]
    },
    {
     "name": "stderr",
     "output_type": "stream",
     "text": [
      " 40%|████      | 8/20 [30:43<46:29, 232.49s/it]"
     ]
    },
    {
     "name": "stdout",
     "output_type": "stream",
     "text": [
      "Epoch 7, Val loss: 0.09796598003250914, Acc: 0.9752767527675277, ROC: 0.9964617876972306\n",
      "Epoch 8, Train loss: 0.009628427977952336, Acc: 0.9965966868951943, ROC: 0.9999257589642507\n"
     ]
    },
    {
     "name": "stderr",
     "output_type": "stream",
     "text": [
      " 45%|████▌     | 9/20 [34:34<42:32, 232.03s/it]"
     ]
    },
    {
     "name": "stdout",
     "output_type": "stream",
     "text": [
      "Epoch 8, Val loss: 0.12571307098053924, Acc: 0.9682656826568266, ROC: 0.9943647184114658\n",
      "Epoch 9, Train loss: 0.008961254097712382, Acc: 0.9968017057569296, ROC: 0.999932625744017\n",
      "Epoch 9, Val loss: 0.09237290333977834, Acc: 0.9767527675276753, ROC: 0.9961965192996691\n"
     ]
    },
    {
     "name": "stderr",
     "output_type": "stream",
     "text": [
      " 50%|█████     | 10/20 [38:25<38:35, 231.55s/it]"
     ]
    },
    {
     "name": "stdout",
     "output_type": "stream",
     "text": [
      "Epoch 10, Train loss: 0.007052849406741753, Acc: 0.9974987698868296, ROC: 0.9999569725378075\n"
     ]
    },
    {
     "name": "stderr",
     "output_type": "stream",
     "text": [
      " 55%|█████▌    | 11/20 [42:18<34:48, 232.02s/it]"
     ]
    },
    {
     "name": "stdout",
     "output_type": "stream",
     "text": [
      "Epoch 10, Val loss: 0.1053045963609944, Acc: 0.9767527675276753, ROC: 0.9960131720248839\n",
      "Epoch 11, Train loss: 0.00878785530221477, Acc: 0.9977037887485649, ROC: 0.9998298545456417\n"
     ]
    },
    {
     "name": "stderr",
     "output_type": "stream",
     "text": [
      " 60%|██████    | 12/20 [46:09<30:54, 231.77s/it]"
     ]
    },
    {
     "name": "stdout",
     "output_type": "stream",
     "text": [
      "Epoch 11, Val loss: 0.14617086801494825, Acc: 0.9738007380073801, ROC: 0.9937979579906253\n",
      "Epoch 12, Train loss: 0.006968123596797182, Acc: 0.997867803837953, ROC: 0.9999014224912716\n"
     ]
    },
    {
     "name": "stderr",
     "output_type": "stream",
     "text": [
      " 65%|██████▌   | 13/20 [50:01<27:03, 231.89s/it]"
     ]
    },
    {
     "name": "stdout",
     "output_type": "stream",
     "text": [
      "Epoch 12, Val loss: 0.10475690941317137, Acc: 0.9797047970479705, ROC: 0.99620655045756\n",
      "Epoch 13, Train loss: 0.006531283198195965, Acc: 0.997785796293259, ROC: 0.9999624150456181\n"
     ]
    },
    {
     "name": "stderr",
     "output_type": "stream",
     "text": [
      " 70%|███████   | 14/20 [53:57<23:18, 233.04s/it]"
     ]
    },
    {
     "name": "stdout",
     "output_type": "stream",
     "text": [
      "Epoch 13, Val loss: 0.10836163981216944, Acc: 0.9763837638376384, ROC: 0.9956866021068775\n",
      "Epoch 14, Train loss: 0.006026070486504916, Acc: 0.9981548302443825, ROC: 0.9999698597908155\n"
     ]
    },
    {
     "name": "stderr",
     "output_type": "stream",
     "text": [
      " 75%|███████▌  | 15/20 [57:26<18:49, 225.86s/it]"
     ]
    },
    {
     "name": "stdout",
     "output_type": "stream",
     "text": [
      "Epoch 14, Val loss: 0.09552705808764202, Acc: 0.977490774907749, ROC: 0.9963564605393753\n",
      "Epoch 15, Train loss: 0.005245255320654283, Acc: 0.9984418566508119, ROC: 0.9999376072555908\n"
     ]
    },
    {
     "name": "stderr",
     "output_type": "stream",
     "text": [
      " 80%|████████  | 16/20 [1:00:55<14:43, 220.83s/it]"
     ]
    },
    {
     "name": "stdout",
     "output_type": "stream",
     "text": [
      "Epoch 15, Val loss: 0.1147591334033452, Acc: 0.9767527675276753, ROC: 0.9955227598613249\n",
      "Epoch 16, Train loss: 0.006103254306500758, Acc: 0.997744792520912, ROC: 0.999911220381439\n"
     ]
    },
    {
     "name": "stderr",
     "output_type": "stream",
     "text": [
      " 85%|████████▌ | 17/20 [1:04:24<10:51, 217.13s/it]"
     ]
    },
    {
     "name": "stdout",
     "output_type": "stream",
     "text": [
      "Epoch 16, Val loss: 0.11835005406277904, Acc: 0.977859778597786, ROC: 0.9948701773118614\n",
      "Epoch 17, Train loss: 0.005621464211463556, Acc: 0.9983188453337707, ROC: 0.9999513752178277\n"
     ]
    },
    {
     "name": "stderr",
     "output_type": "stream",
     "text": [
      " 90%|█████████ | 18/20 [1:07:53<07:09, 214.65s/it]"
     ]
    },
    {
     "name": "stdout",
     "output_type": "stream",
     "text": [
      "Epoch 17, Val loss: 0.10377853260014, Acc: 0.9715867158671587, ROC: 0.996047723790953\n",
      "Epoch 18, Train loss: 0.0038045735975065255, Acc: 0.9989339019189766, ROC: 0.9999731177269071\n"
     ]
    },
    {
     "name": "stderr",
     "output_type": "stream",
     "text": [
      " 95%|█████████▌| 19/20 [1:11:14<03:30, 210.78s/it]"
     ]
    },
    {
     "name": "stdout",
     "output_type": "stream",
     "text": [
      "Epoch 18, Val loss: 0.10172782234855554, Acc: 0.977859778597786, ROC: 0.9964718188551216\n",
      "Epoch 19, Train loss: 0.008941931519371208, Acc: 0.9982778415614236, ROC: 0.9999092456662156\n",
      "Epoch 19, Val loss: 0.09125039057337976, Acc: 0.9738007380073801, ROC: 0.9970597561648431\n"
     ]
    },
    {
     "name": "stderr",
     "output_type": "stream",
     "text": [
      "100%|██████████| 20/20 [1:14:39<00:00, 223.99s/it]\n"
     ]
    },
    {
     "data": {
      "image/png": "[encoded data removed]",
      "text/plain": [
       "<Figure size 432x288 with 1 Axes>"
      ]
     },
     "metadata": {
      "needs_background": "light"
     },
     "output_type": "display_data"
    },
    {
     "data": {
      "image/png": "[encoded data removed]",
      "text/plain": [
       "<Figure size 432x288 with 1 Axes>"
      ]
     },
     "metadata": {
      "needs_background": "light"
     },
     "output_type": "display_data"
    },
    {
     "name": "stdout",
     "output_type": "stream",
     "text": [
      "Epoch 0, Val loss: 1.054912937574045, Acc: 0.8323586744639376, ROC: 0.8988378594249201\n",
      "waiting...\n",
      "flushing...\n",
      "done!\n"
     ]
    }
   ],
   "source": [
    "#6\n",
    "try:\n",
    "    print(f'\\033[48;5;37m\\033[38;5;255m    ⸂⸂⸜(രᴗര๑)⸝⸃⸃    {EFF_BACKBONES[INDEX]}    ⸂⸂⸜(രᴗര๑)⸝⸃⸃    \\033[0;0m')    \n",
    "    EFF_train_val_infer(EFF_BACKBONES[INDEX])\n",
    "except:\n",
    "    pass\n",
    "INDEX += 1"
   ]
  },
  {
   "cell_type": "code",
   "execution_count": 45,
   "id": "dca78143-6014-42b1-8806-7ba4cedf37a6",
   "metadata": {},
   "outputs": [],
   "source": [
    "gc.collect()\n",
    "torch.cuda.empty_cache()"
   ]
  },
  {
   "cell_type": "code",
   "execution_count": 60,
   "id": "654d005f-1ee4-42a5-ba39-820fdc130ef7",
   "metadata": {},
   "outputs": [],
   "source": [
    "INDEX = 7"
   ]
  },
  {
   "cell_type": "code",
   "execution_count": 61,
   "id": "bfaaedb1-2e72-4535-a13f-e50a5491259c",
   "metadata": {
    "tags": []
   },
   "outputs": [
    {
     "name": "stdout",
     "output_type": "stream",
     "text": [
      "\u001b[48;5;37m\u001b[38;5;255m    ⸂⸂⸜(രᴗര๑)⸝⸃⸃    tf_efficientnetv2_m_in21k    ⸂⸂⸜(രᴗര๑)⸝⸃⸃    \u001b[0;0m\n"
     ]
    },
    {
     "name": "stderr",
     "output_type": "stream",
     "text": [
      "  0%|          | 0/20 [00:00<?, ?it/s]"
     ]
    },
    {
     "name": "stdout",
     "output_type": "stream",
     "text": [
      "Epoch 0, Train loss: 0.23040451882333737, Acc: 0.9049122519271773, ROC: 0.9672700137250276\n",
      "Epoch 0, Val loss: 0.0916665866943462, Acc: 0.966789667896679, ROC: 0.9938102182947143\n"
     ]
    },
    {
     "name": "stderr",
     "output_type": "stream",
     "text": [
      "  5%|▌         | 1/20 [05:12<1:39:03, 312.80s/it]"
     ]
    },
    {
     "name": "stdout",
     "output_type": "stream",
     "text": [
      "Epoch 1, Train loss: 0.05378244245190967, Acc: 0.9826964080695424, ROC: 0.9978260621566593\n"
     ]
    },
    {
     "name": "stderr",
     "output_type": "stream",
     "text": [
      " 10%|█         | 2/20 [10:30<1:34:38, 315.47s/it]"
     ]
    },
    {
     "name": "stdout",
     "output_type": "stream",
     "text": [
      "Epoch 1, Val loss: 0.09506944368645748, Acc: 0.9715867158671587, ROC: 0.9938949258502381\n",
      "Epoch 2, Train loss: 0.02315388641113654, Acc: 0.9929063473839593, ROC: 0.9995539207757465\n"
     ]
    },
    {
     "name": "stderr",
     "output_type": "stream",
     "text": [
      " 15%|█▌        | 3/20 [15:44<1:29:11, 314.78s/it]"
     ]
    },
    {
     "name": "stdout",
     "output_type": "stream",
     "text": [
      "Epoch 2, Val loss: 0.10514493812304045, Acc: 0.9715867158671587, ROC: 0.9941752409846362\n",
      "Epoch 3, Train loss: 0.024402999474226472, Acc: 0.9932343775627358, ROC: 0.9995413741095099\n"
     ]
    },
    {
     "name": "stderr",
     "output_type": "stream",
     "text": [
      " 20%|██        | 4/20 [20:59<1:23:59, 314.99s/it]"
     ]
    },
    {
     "name": "stdout",
     "output_type": "stream",
     "text": [
      "Epoch 3, Val loss: 0.09383790971543887, Acc: 0.9734317343173432, ROC: 0.995733971463585\n",
      "Epoch 4, Train loss: 0.01715349357192016, Acc: 0.9942184680990651, ROC: 0.9997629481664362\n"
     ]
    },
    {
     "name": "stderr",
     "output_type": "stream",
     "text": [
      " 25%|██▌       | 5/20 [26:13<1:18:41, 314.74s/it]"
     ]
    },
    {
     "name": "stdout",
     "output_type": "stream",
     "text": [
      "Epoch 4, Val loss: 0.10809329145046277, Acc: 0.9712177121771217, ROC: 0.9945564249844935\n",
      "Epoch 5, Train loss: 0.01521569874777084, Acc: 0.9953665737247827, ROC: 0.9997582659583892\n"
     ]
    },
    {
     "name": "stderr",
     "output_type": "stream",
     "text": [
      " 30%|███       | 6/20 [31:26<1:13:17, 314.13s/it]"
     ]
    },
    {
     "name": "stdout",
     "output_type": "stream",
     "text": [
      "Epoch 5, Val loss: 0.09574745200986867, Acc: 0.9763837638376384, ROC: 0.9956498211946105\n",
      "Epoch 6, Train loss: 0.013415080435334664, Acc: 0.9958176152206003, ROC: 0.9998231012947995\n"
     ]
    },
    {
     "name": "stderr",
     "output_type": "stream",
     "text": [
      " 35%|███▌      | 7/20 [36:43<1:08:14, 314.98s/it]"
     ]
    },
    {
     "name": "stdout",
     "output_type": "stream",
     "text": [
      "Epoch 6, Val loss: 0.11499588348495028, Acc: 0.9734317343173432, ROC: 0.9948668335925644\n",
      "Epoch 7, Train loss: 0.01059136049281931, Acc: 0.9965966868951943, ROC: 0.999825158576513\n"
     ]
    },
    {
     "name": "stderr",
     "output_type": "stream",
     "text": [
      " 40%|████      | 8/20 [41:57<1:02:55, 314.66s/it]"
     ]
    },
    {
     "name": "stdout",
     "output_type": "stream",
     "text": [
      "Epoch 7, Val loss: 0.10202262118788018, Acc: 0.9686346863468634, ROC: 0.9949554421539348\n",
      "Epoch 8, Train loss: 0.010187504791173191, Acc: 0.9967196982122355, ROC: 0.9998908677416107\n",
      "Epoch 8, Val loss: 0.08088731026366626, Acc: 0.9782287822878228, ROC: 0.9965537399778981\n"
     ]
    },
    {
     "name": "stderr",
     "output_type": "stream",
     "text": [
      " 45%|████▌     | 9/20 [47:11<57:38, 314.41s/it]  "
     ]
    },
    {
     "name": "stdout",
     "output_type": "stream",
     "text": [
      "Epoch 9, Train loss: 0.008976509305612864, Acc: 0.9971707397080531, ROC: 0.9998558526692356\n"
     ]
    },
    {
     "name": "stderr",
     "output_type": "stream",
     "text": [
      " 50%|█████     | 10/20 [52:27<52:28, 314.87s/it]"
     ]
    },
    {
     "name": "stdout",
     "output_type": "stream",
     "text": [
      "Epoch 9, Val loss: 0.0969818012591214, Acc: 0.9785977859778597, ROC: 0.9965247610773241\n",
      "Epoch 10, Train loss: 0.007530916798072179, Acc: 0.9976627849762179, ROC: 0.9999062251087835\n"
     ]
    },
    {
     "name": "stderr",
     "output_type": "stream",
     "text": [
      " 55%|█████▌    | 11/20 [57:38<47:04, 313.79s/it]"
     ]
    },
    {
     "name": "stdout",
     "output_type": "stream",
     "text": [
      "Epoch 10, Val loss: 0.13419255576937064, Acc: 0.9756457564575646, ROC: 0.9931855000727259\n",
      "Epoch 11, Train loss: 0.010659916575774354, Acc: 0.9967607019845826, ROC: 0.999805521512933\n"
     ]
    },
    {
     "name": "stderr",
     "output_type": "stream",
     "text": [
      " 60%|██████    | 12/20 [1:02:50<41:45, 313.24s/it]"
     ]
    },
    {
     "name": "stdout",
     "output_type": "stream",
     "text": [
      "Epoch 11, Val loss: 0.09007899651791937, Acc: 0.9771217712177122, ROC: 0.9956057955572002\n",
      "Epoch 12, Train loss: 0.005541651132028265, Acc: 0.9982778415614236, ROC: 0.9999761589259618\n"
     ]
    },
    {
     "name": "stderr",
     "output_type": "stream",
     "text": [
      " 65%|██████▌   | 13/20 [1:08:06<36:39, 314.17s/it]"
     ]
    },
    {
     "name": "stdout",
     "output_type": "stream",
     "text": [
      "Epoch 12, Val loss: 0.08992585668673297, Acc: 0.977490774907749, ROC: 0.9963481012411328\n",
      "Epoch 13, Train loss: 0.006917214749407618, Acc: 0.9977037887485649, ROC: 0.9999482996160686\n"
     ]
    },
    {
     "name": "stderr",
     "output_type": "stream",
     "text": [
      " 70%|███████   | 14/20 [1:13:18<31:21, 313.53s/it]"
     ]
    },
    {
     "name": "stdout",
     "output_type": "stream",
     "text": [
      "Epoch 13, Val loss: 0.12756079045810248, Acc: 0.9797047970479705, ROC: 0.9947341993937837\n",
      "Epoch 14, Train loss: 0.006212290413556522, Acc: 0.9980318189273413, ROC: 0.9999538350111807\n"
     ]
    },
    {
     "name": "stderr",
     "output_type": "stream",
     "text": [
      " 75%|███████▌  | 15/20 [1:18:30<26:04, 312.97s/it]"
     ]
    },
    {
     "name": "stdout",
     "output_type": "stream",
     "text": [
      "Epoch 14, Val loss: 0.1528338355768636, Acc: 0.9682656826568266, ROC: 0.9948846667621484\n",
      "Epoch 15, Train loss: 0.006435129814670494, Acc: 0.9981138264720354, ROC: 0.9999262922061665\n"
     ]
    },
    {
     "name": "stderr",
     "output_type": "stream",
     "text": [
      " 80%|████████  | 16/20 [1:23:46<20:54, 313.75s/it]"
     ]
    },
    {
     "name": "stdout",
     "output_type": "stream",
     "text": [
      "Epoch 15, Val loss: 0.0920319749183977, Acc: 0.9793357933579335, ROC: 0.9966484786913128\n",
      "Epoch 16, Train loss: 0.006602643424377331, Acc: 0.9982778415614236, ROC: 0.9998955017858719\n"
     ]
    },
    {
     "name": "stderr",
     "output_type": "stream",
     "text": [
      " 85%|████████▌ | 17/20 [1:28:58<15:40, 313.41s/it]"
     ]
    },
    {
     "name": "stdout",
     "output_type": "stream",
     "text": [
      "Epoch 16, Val loss: 0.09033721673918699, Acc: 0.9785977859778597, ROC: 0.9964623449837801\n",
      "Epoch 17, Train loss: 0.00479275962288336, Acc: 0.9984418566508119, ROC: 0.999983713759813\n"
     ]
    },
    {
     "name": "stderr",
     "output_type": "stream",
     "text": [
      " 90%|█████████ | 18/20 [1:34:15<10:29, 314.55s/it]"
     ]
    },
    {
     "name": "stdout",
     "output_type": "stream",
     "text": [
      "Epoch 17, Val loss: 0.1094315813451748, Acc: 0.9756457564575646, ROC: 0.9960544112295469\n",
      "Epoch 18, Train loss: 0.005019757277130259, Acc: 0.998564867967853, ROC: 0.9999427676612268\n"
     ]
    },
    {
     "name": "stderr",
     "output_type": "stream",
     "text": [
      " 95%|█████████▌| 19/20 [1:39:28<05:14, 314.06s/it]"
     ]
    },
    {
     "name": "stdout",
     "output_type": "stream",
     "text": [
      "Epoch 18, Val loss: 0.08642782892026504, Acc: 0.9819188191881919, ROC: 0.9966390048199713\n",
      "Epoch 19, Train loss: 0.003714175139480895, Acc: 0.9988518943742825, ROC: 0.9999877732789133\n"
     ]
    },
    {
     "name": "stderr",
     "output_type": "stream",
     "text": [
      "100%|██████████| 20/20 [1:44:36<00:00, 313.84s/it]"
     ]
    },
    {
     "name": "stdout",
     "output_type": "stream",
     "text": [
      "Epoch 19, Val loss: 0.10329206273798919, Acc: 0.9833948339483395, ROC: 0.9970926360712636\n"
     ]
    },
    {
     "name": "stderr",
     "output_type": "stream",
     "text": [
      "\n"
     ]
    },
    {
     "data": {
      "image/png": "[encoded data removed]",
      "text/plain": [
       "<Figure size 432x288 with 1 Axes>"
      ]
     },
     "metadata": {
      "needs_background": "light"
     },
     "output_type": "display_data"
    },
    {
     "data": {
      "image/png": "[encoded data removed]",
      "text/plain": [
       "<Figure size 432x288 with 1 Axes>"
      ]
     },
     "metadata": {
      "needs_background": "light"
     },
     "output_type": "display_data"
    },
    {
     "name": "stdout",
     "output_type": "stream",
     "text": [
      "Epoch 0, Val loss: 0.8827640795284424, Acc: 0.8508771929824561, ROC: 0.9136501597444089\n",
      "waiting...\n",
      "flushing...\n",
      "done!\n"
     ]
    }
   ],
   "source": [
    "#7\n",
    "try:\n",
    "    print(f'\\033[48;5;37m\\033[38;5;255m    ⸂⸂⸜(രᴗര๑)⸝⸃⸃    {EFF_BACKBONES[INDEX]}    ⸂⸂⸜(രᴗര๑)⸝⸃⸃    \\033[0;0m')   \n",
    "    EFF_train_val_infer(EFF_BACKBONES[INDEX])\n",
    "except:\n",
    "    pass\n",
    "INDEX += 1"
   ]
  },
  {
   "cell_type": "code",
   "execution_count": 62,
   "id": "a35cb839-477d-4273-aa61-feda2a5fa095",
   "metadata": {},
   "outputs": [
    {
     "name": "stdout",
     "output_type": "stream",
     "text": [
      "\u001b[48;5;37m\u001b[38;5;255m    ⸂⸂⸜(രᴗര๑)⸝⸃⸃    tf_efficientnetv2_m_in21ft1k    ⸂⸂⸜(രᴗര๑)⸝⸃⸃    \u001b[0;0m\n"
     ]
    },
    {
     "name": "stderr",
     "output_type": "stream",
     "text": [
      "  0%|          | 0/20 [00:00<?, ?it/s]"
     ]
    },
    {
     "name": "stdout",
     "output_type": "stream",
     "text": [
      "Epoch 0, Train loss: 0.2303688326823645, Acc: 0.9058553386911596, ROC: 0.9674390135693347\n",
      "Epoch 0, Val loss: 0.11400873232192013, Acc: 0.9560885608856089, ROC: 0.9927586185758096\n"
     ]
    },
    {
     "name": "stderr",
     "output_type": "stream",
     "text": [
      "  5%|▌         | 1/20 [04:43<1:29:43, 283.32s/it]"
     ]
    },
    {
     "name": "stdout",
     "output_type": "stream",
     "text": [
      "Epoch 1, Train loss: 0.061543408215178536, Acc: 0.979457110054125, ROC: 0.9972231238024246\n",
      "Epoch 1, Val loss: 0.09743797951433036, Acc: 0.9634686346863469, ROC: 0.994014185171831\n"
     ]
    },
    {
     "name": "stderr",
     "output_type": "stream",
     "text": [
      " 10%|█         | 2/20 [09:27<1:25:04, 283.61s/it]"
     ]
    },
    {
     "name": "stdout",
     "output_type": "stream",
     "text": [
      "Epoch 2, Train loss: 0.026827172735747546, Acc: 0.9913482040347712, ROC: 0.9993945296067334\n",
      "Epoch 2, Val loss: 0.08296394555379089, Acc: 0.970110701107011, ROC: 0.9957635076507083\n"
     ]
    },
    {
     "name": "stderr",
     "output_type": "stream",
     "text": [
      " 15%|█▌        | 3/20 [14:09<1:20:13, 283.12s/it]"
     ]
    },
    {
     "name": "stdout",
     "output_type": "stream",
     "text": [
      "Epoch 3, Train loss: 0.022028883599450946, Acc: 0.9930703624733476, ROC: 0.9995956615768004\n"
     ]
    },
    {
     "name": "stderr",
     "output_type": "stream",
     "text": [
      " 20%|██        | 4/20 [18:50<1:15:17, 282.33s/it]"
     ]
    },
    {
     "name": "stdout",
     "output_type": "stream",
     "text": [
      "Epoch 3, Val loss: 0.11076528280432689, Acc: 0.9693726937269372, ROC: 0.9938191348795062\n",
      "Epoch 4, Train loss: 0.01915666852720837, Acc: 0.9940544530096769, ROC: 0.9996840730864259\n"
     ]
    },
    {
     "name": "stderr",
     "output_type": "stream",
     "text": [
      " 25%|██▌       | 5/20 [23:29<1:10:15, 281.01s/it]"
     ]
    },
    {
     "name": "stdout",
     "output_type": "stream",
     "text": [
      "Epoch 4, Val loss: 0.10325843614178483, Acc: 0.9715867158671587, ROC: 0.99511649796674\n",
      "Epoch 5, Train loss: 0.012637169782378077, Acc: 0.9963506642611121, ROC: 0.9998338555801448\n"
     ]
    },
    {
     "name": "stderr",
     "output_type": "stream",
     "text": [
      " 30%|███       | 6/20 [28:11<1:05:41, 281.51s/it]"
     ]
    },
    {
     "name": "stdout",
     "output_type": "stream",
     "text": [
      "Epoch 5, Val loss: 0.10941753287114855, Acc: 0.9726937269372694, ROC: 0.9943223646337038\n",
      "Epoch 6, Train loss: 0.013608785447029712, Acc: 0.9952845661800885, ROC: 0.9998518069112171\n"
     ]
    },
    {
     "name": "stderr",
     "output_type": "stream",
     "text": [
      " 35%|███▌      | 7/20 [32:49<1:00:41, 280.10s/it]"
     ]
    },
    {
     "name": "stdout",
     "output_type": "stream",
     "text": [
      "Epoch 6, Val loss: 0.09094908463674117, Acc: 0.9760147601476015, ROC: 0.9967225978023961\n",
      "Epoch 7, Train loss: 0.012541033636902585, Acc: 0.9961456453993768, ROC: 0.9998013794273426\n"
     ]
    },
    {
     "name": "stderr",
     "output_type": "stream",
     "text": [
      " 40%|████      | 8/20 [37:27<55:55, 279.60s/it]  "
     ]
    },
    {
     "name": "stdout",
     "output_type": "stream",
     "text": [
      "Epoch 7, Val loss: 0.12082750359176848, Acc: 0.9734317343173432, ROC: 0.9956944041185706\n",
      "Epoch 8, Train loss: 0.00957882395940795, Acc: 0.9968017057569296, ROC: 0.9998647560890929\n"
     ]
    },
    {
     "name": "stderr",
     "output_type": "stream",
     "text": [
      " 45%|████▌     | 9/20 [42:14<51:38, 281.71s/it]"
     ]
    },
    {
     "name": "stdout",
     "output_type": "stream",
     "text": [
      "Epoch 8, Val loss: 0.13970277198286404, Acc: 0.9671586715867159, ROC: 0.9936157252889392\n",
      "Epoch 9, Train loss: 0.010397432277491129, Acc: 0.9963916680334591, ROC: 0.9998726411889046\n"
     ]
    },
    {
     "name": "stderr",
     "output_type": "stream",
     "text": [
      " 50%|█████     | 10/20 [46:57<47:01, 282.13s/it]"
     ]
    },
    {
     "name": "stdout",
     "output_type": "stream",
     "text": [
      "Epoch 9, Val loss: 0.09834302893170777, Acc: 0.977490774907749, ROC: 0.9957100081419564\n",
      "Epoch 10, Train loss: 0.007680272770505691, Acc: 0.9980318189273413, ROC: 0.999843416091653\n"
     ]
    },
    {
     "name": "stderr",
     "output_type": "stream",
     "text": [
      " 55%|█████▌    | 11/20 [51:37<42:14, 281.63s/it]"
     ]
    },
    {
     "name": "stdout",
     "output_type": "stream",
     "text": [
      "Epoch 10, Val loss: 0.12689611311217433, Acc: 0.977859778597786, ROC: 0.9936235273006321\n",
      "Epoch 11, Train loss: 0.00953925294038855, Acc: 0.9968837133016237, ROC: 0.9999120116436366\n"
     ]
    },
    {
     "name": "stderr",
     "output_type": "stream",
     "text": [
      " 60%|██████    | 12/20 [56:19<37:33, 281.68s/it]"
     ]
    },
    {
     "name": "stdout",
     "output_type": "stream",
     "text": [
      "Epoch 11, Val loss: 0.08773546637685663, Acc: 0.9730627306273063, ROC: 0.9956364463174227\n",
      "Epoch 12, Train loss: 0.006611849495836009, Acc: 0.9980318189273413, ROC: 0.9998943596160912\n"
     ]
    },
    {
     "name": "stderr",
     "output_type": "stream",
     "text": [
      " 65%|██████▌   | 13/20 [1:01:13<33:17, 285.41s/it]"
     ]
    },
    {
     "name": "stdout",
     "output_type": "stream",
     "text": [
      "Epoch 12, Val loss: 0.1007174348545012, Acc: 0.9730627306273063, ROC: 0.995356688469574\n",
      "Epoch 13, Train loss: 0.005381651061564521, Acc: 0.9984828604231589, ROC: 0.9999696155316156\n"
     ]
    },
    {
     "name": "stderr",
     "output_type": "stream",
     "text": [
      " 70%|███████   | 14/20 [1:06:24<29:19, 293.19s/it]"
     ]
    },
    {
     "name": "stdout",
     "output_type": "stream",
     "text": [
      "Epoch 13, Val loss: 0.12096071581367378, Acc: 0.9749077490774908, ROC: 0.995141018574918\n",
      "Epoch 14, Train loss: 0.006507446883783504, Acc: 0.9983188453337707, ROC: 0.9999228072122269\n"
     ]
    },
    {
     "name": "stderr",
     "output_type": "stream",
     "text": [
      " 75%|███████▌  | 15/20 [1:11:36<24:54, 298.88s/it]"
     ]
    },
    {
     "name": "stdout",
     "output_type": "stream",
     "text": [
      "Epoch 14, Val loss: 0.11154091363921627, Acc: 0.9752767527675277, ROC: 0.9949069582241284\n",
      "Epoch 15, Train loss: 0.0063452356076958375, Acc: 0.9980728226996883, ROC: 0.9999610458179895\n"
     ]
    },
    {
     "name": "stderr",
     "output_type": "stream",
     "text": [
      " 80%|████████  | 16/20 [1:16:52<20:15, 303.96s/it]"
     ]
    },
    {
     "name": "stdout",
     "output_type": "stream",
     "text": [
      "Epoch 15, Val loss: 0.10076925440053323, Acc: 0.9763837638376384, ROC: 0.995651493054259\n",
      "Epoch 16, Train loss: 0.006093697613636468, Acc: 0.9982778415614236, ROC: 0.9999287898424942\n"
     ]
    },
    {
     "name": "stderr",
     "output_type": "stream",
     "text": [
      " 85%|████████▌ | 17/20 [1:22:04<15:18, 306.30s/it]"
     ]
    },
    {
     "name": "stdout",
     "output_type": "stream",
     "text": [
      "Epoch 16, Val loss: 0.11744383634315196, Acc: 0.9704797047970479, ROC: 0.9938091037216155\n",
      "Epoch 17, Train loss: 0.006259562920250625, Acc: 0.9980728226996883, ROC: 0.9999552627234067\n"
     ]
    },
    {
     "name": "stderr",
     "output_type": "stream",
     "text": [
      " 90%|█████████ | 18/20 [1:27:18<10:17, 308.64s/it]"
     ]
    },
    {
     "name": "stdout",
     "output_type": "stream",
     "text": [
      "Epoch 17, Val loss: 0.11964739011480927, Acc: 0.9723247232472325, ROC: 0.9950033687971916\n",
      "Epoch 18, Train loss: 0.005046494045530821, Acc: 0.9983598491061177, ROC: 0.999926921775654\n"
     ]
    },
    {
     "name": "stderr",
     "output_type": "stream",
     "text": [
      " 95%|█████████▌| 19/20 [1:32:30<05:09, 309.77s/it]"
     ]
    },
    {
     "name": "stdout",
     "output_type": "stream",
     "text": [
      "Epoch 18, Val loss: 0.10784607367369337, Acc: 0.9767527675276753, ROC: 0.9965085997673886\n",
      "Epoch 19, Train loss: 0.004856660999680535, Acc: 0.998564867967853, ROC: 0.9999661855820028\n"
     ]
    },
    {
     "name": "stderr",
     "output_type": "stream",
     "text": [
      "100%|██████████| 20/20 [1:37:43<00:00, 293.16s/it]"
     ]
    },
    {
     "name": "stdout",
     "output_type": "stream",
     "text": [
      "Epoch 19, Val loss: 0.08768045336886611, Acc: 0.9793357933579335, ROC: 0.9972837853577418\n"
     ]
    },
    {
     "name": "stderr",
     "output_type": "stream",
     "text": [
      "\n"
     ]
    },
    {
     "data": {
      "image/png": "[encoded data removed]",
      "text/plain": [
       "<Figure size 432x288 with 1 Axes>"
      ]
     },
     "metadata": {
      "needs_background": "light"
     },
     "output_type": "display_data"
    },
    {
     "data": {
      "image/png": "[encoded data removed]",
      "text/plain": [
       "<Figure size 432x288 with 1 Axes>"
      ]
     },
     "metadata": {
      "needs_background": "light"
     },
     "output_type": "display_data"
    },
    {
     "name": "stdout",
     "output_type": "stream",
     "text": [
      "Epoch 0, Val loss: 0.8592105202751554, Acc: 0.8421052631578947, ROC: 0.9017252396166134\n",
      "waiting...\n",
      "flushing...\n",
      "done!\n"
     ]
    }
   ],
   "source": [
    "#8\n",
    "try:\n",
    "    print(f'\\033[48;5;37m\\033[38;5;255m    ⸂⸂⸜(രᴗര๑)⸝⸃⸃    {EFF_BACKBONES[INDEX]}    ⸂⸂⸜(രᴗര๑)⸝⸃⸃    \\033[0;0m')   \n",
    "    EFF_train_val_infer(EFF_BACKBONES[INDEX])\n",
    "except:\n",
    "    pass\n",
    "INDEX += 1"
   ]
  },
  {
   "cell_type": "code",
   "execution_count": 63,
   "id": "963c3231-3e83-4b76-819d-7a037857b9c0",
   "metadata": {},
   "outputs": [],
   "source": [
    "INDEX = 9"
   ]
  },
  {
   "cell_type": "code",
   "execution_count": 47,
   "id": "1c42673e-5844-4988-95ae-8652f2043243",
   "metadata": {},
   "outputs": [],
   "source": [
    "#9\n",
    "try:\n",
    "    print(f'\\033[48;5;37m\\033[38;5;255m    ⸂⸂⸜(രᴗര๑)⸝⸃⸃    {EFF_BACKBONES[INDEX]}    ⸂⸂⸜(രᴗര๑)⸝⸃⸃    \\033[0;0m')    \n",
    "    EFF_train_val_infer(EFF_BACKBONES[INDEX])\n",
    "except:\n",
    "    pass\n",
    "INDEX += 1"
   ]
  },
  {
   "cell_type": "code",
   "execution_count": 48,
   "id": "e621aa89-edf9-46a1-8ddf-b493006abc36",
   "metadata": {},
   "outputs": [],
   "source": [
    "#10\n",
    "try:\n",
    "    print(f'\\033[48;5;37m\\033[38;5;255m    ⸂⸂⸜(രᴗര๑)⸝⸃⸃    {EFF_BACKBONES[INDEX]}    ⸂⸂⸜(രᴗര๑)⸝⸃⸃    \\033[0;0m')    \n",
    "    EFF_train_val_infer(EFF_BACKBONES[INDEX])\n",
    "except:\n",
    "    pass\n",
    "INDEX += 1"
   ]
  },
  {
   "cell_type": "code",
   "execution_count": 49,
   "id": "f464c8c6-36e1-40e6-a8f7-2719697eea96",
   "metadata": {},
   "outputs": [],
   "source": [
    "#11\n",
    "try:\n",
    "    print(f'\\033[48;5;37m\\033[38;5;255m    ⸂⸂⸜(രᴗര๑)⸝⸃⸃    {EFF_BACKBONES[INDEX]}    ⸂⸂⸜(രᴗര๑)⸝⸃⸃    \\033[0;0m')    \n",
    "    EFF_train_val_infer(EFF_BACKBONES[INDEX])\n",
    "except:\n",
    "    pass\n",
    "INDEX += 1"
   ]
  },
  {
   "cell_type": "code",
   "execution_count": 50,
   "id": "86cb84e4-ad92-4b30-baa8-253304118bc3",
   "metadata": {},
   "outputs": [
    {
     "data": {
      "text/plain": [
       "'nvidia-smi --gpu-reset두근두근'"
      ]
     },
     "execution_count": 50,
     "metadata": {},
     "output_type": "execute_result"
    }
   ],
   "source": [
    "\"nvidia-smi --gpu-reset\" \"두근두근\""
   ]
  },
  {
   "cell_type": "markdown",
   "id": "568c01e1-55bf-49ff-939d-a842343dac4b",
   "metadata": {},
   "source": [
    "# NFNet Family"
   ]
  },
  {
   "cell_type": "code",
   "execution_count": 88,
   "id": "3e93011b-9d80-422a-9028-df54f4968af2",
   "metadata": {},
   "outputs": [
    {
     "name": "stdout",
     "output_type": "stream",
     "text": [
      "4\n",
      "['eca_nfnet_l1', 'eca_nfnet_l2', 'dm_nfnet_f0', 'dm_nfnet_f1']\n"
     ]
    }
   ],
   "source": [
    "print(len(NFN_BACKBONES))\n",
    "print(NFN_BACKBONES)"
   ]
  },
  {
   "cell_type": "code",
   "execution_count": 89,
   "id": "3bbae3b6-55dd-4046-b7f6-d087a760ebb7",
   "metadata": {},
   "outputs": [],
   "source": [
    "INDEX = 0"
   ]
  },
  {
   "cell_type": "code",
   "execution_count": null,
   "id": "e632a700-f9ba-4566-83f9-3d8b86af1fd9",
   "metadata": {},
   "outputs": [
    {
     "name": "stderr",
     "output_type": "stream",
     "text": [
      "  0%|          | 0/20 [00:00<?, ?it/s]"
     ]
    },
    {
     "name": "stdout",
     "output_type": "stream",
     "text": [
      "Epoch 0, Train loss: 0.19071626073003714, Acc: 0.9234459570280465, ROC: 0.9802771016728989\n",
      "Epoch 0, Val loss: 0.11305493552832914, Acc: 0.9623616236162361, ROC: 0.9949665878849248\n"
     ]
    },
    {
     "name": "stderr",
     "output_type": "stream",
     "text": [
      "  5%|▌         | 1/20 [22:32<7:08:19, 1352.62s/it]"
     ]
    },
    {
     "name": "stdout",
     "output_type": "stream",
     "text": [
      "Epoch 1, Train loss: 0.0717106149243918, Acc: 0.9777759553878956, ROC: 0.9971502451137633\n",
      "Epoch 1, Val loss: 0.07327999445587705, Acc: 0.9745387453874539, ROC: 0.996564885708888\n"
     ]
    },
    {
     "name": "stderr",
     "output_type": "stream",
     "text": [
      " 10%|█         | 2/20 [45:05<6:45:46, 1352.56s/it]"
     ]
    },
    {
     "name": "stdout",
     "output_type": "stream",
     "text": [
      "Epoch 2, Train loss: 0.036698138727449016, Acc: 0.990405117270789, ROC: 0.9990660285047597\n",
      "Epoch 2, Val loss: 0.05001989708174593, Acc: 0.9822878228782288, ROC: 0.9983571192520768\n"
     ]
    },
    {
     "name": "stderr",
     "output_type": "stream",
     "text": [
      " 15%|█▌        | 3/20 [1:07:36<6:23:02, 1351.93s/it]"
     ]
    },
    {
     "name": "stdout",
     "output_type": "stream",
     "text": [
      "Epoch 3, Train loss: 0.01771352273175666, Acc: 0.9957766114482532, ROC: 0.9997000290606523\n"
     ]
    },
    {
     "name": "stderr",
     "output_type": "stream",
     "text": [
      " 20%|██        | 4/20 [1:30:09<6:00:35, 1352.23s/it]"
     ]
    },
    {
     "name": "stdout",
     "output_type": "stream",
     "text": [
      "Epoch 3, Val loss: 0.05127259100940266, Acc: 0.981549815498155, ROC: 0.9981592825270047\n"
     ]
    }
   ],
   "source": [
    "NFN_train_val_infer(NFN_BACKBONES[INDEX])"
   ]
  },
  {
   "cell_type": "code",
   "execution_count": null,
   "id": "e0e7608b-e65c-46a3-8680-79e133bb70d0",
   "metadata": {},
   "outputs": [
    {
     "name": "stdout",
     "output_type": "stream",
     "text": [
      "\u001b[48;5;230m\u001b[38;5;203m    ⸂⸂⸜(രᴗര๑)⸝⸃⸃    eca_nfnet_l1    ⸂⸂⸜(രᴗര๑)⸝⸃⸃    \u001b[0;0m\n"
     ]
    },
    {
     "name": "stderr",
     "output_type": "stream",
     "text": [
      "  0%|          | 0/20 [00:00<?, ?it/s]"
     ]
    },
    {
     "name": "stdout",
     "output_type": "stream",
     "text": [
      "Epoch 0, Train loss: 0.4061514938108408, Acc: 0.8146629489913072, ROC: 0.900396616392206\n",
      "Epoch 0, Val loss: 0.29354710052528327, Acc: 0.8693726937269373, ROC: 0.9521485904272661\n"
     ]
    },
    {
     "name": "stderr",
     "output_type": "stream",
     "text": [
      "  5%|▌         | 1/20 [10:34<3:20:46, 634.02s/it]"
     ]
    },
    {
     "name": "stdout",
     "output_type": "stream",
     "text": [
      "Epoch 1, Train loss: 0.23597602964943554, Acc: 0.9049532556995243, ROC: 0.969931671825834\n",
      "Epoch 1, Val loss: 0.2219913237281805, Acc: 0.9166051660516605, ROC: 0.9734185461619953\n"
     ]
    },
    {
     "name": "stderr",
     "output_type": "stream",
     "text": [
      " 10%|█         | 2/20 [21:03<3:09:27, 631.55s/it]"
     ]
    },
    {
     "name": "stdout",
     "output_type": "stream",
     "text": [
      "Epoch 2, Train loss: 0.1766432789643234, Acc: 0.9370182056749221, ROC: 0.9837865834572588\n",
      "Epoch 2, Val loss: 0.1684007349275273, Acc: 0.944280442804428, ROC: 0.9852491823213101\n"
     ]
    },
    {
     "name": "stderr",
     "output_type": "stream",
     "text": [
      " 15%|█▌        | 3/20 [31:32<2:58:32, 630.16s/it]"
     ]
    }
   ],
   "source": [
    "#0\n",
    "try:\n",
    "    print(f'\\033[48;5;230m\\033[38;5;203m    ⸂⸂⸜(രᴗര๑)⸝⸃⸃    {NFN_BACKBONES[INDEX]}    ⸂⸂⸜(രᴗര๑)⸝⸃⸃    \\033[0;0m')\n",
    "    NFN_train_val_infer(NFN_BACKBONES[INDEX])\n",
    "except:\n",
    "    pass\n",
    "INDEX += 1"
   ]
  },
  {
   "cell_type": "code",
   "execution_count": null,
   "id": "6e84f036-0d42-4b9d-b4a9-c356ad5747ed",
   "metadata": {},
   "outputs": [],
   "source": [
    "#1\n",
    "try:\n",
    "    print(f'\\033[48;5;230m\\033[38;5;203m    ⸂⸂⸜(രᴗര๑)⸝⸃⸃    {NFN_BACKBONES[INDEX]}    ⸂⸂⸜(രᴗര๑)⸝⸃⸃    \\033[0;0m')\n",
    "    NFN_train_val_infer(NFN_BACKBONES[INDEX])\n",
    "except:\n",
    "    pass\n",
    "INDEX += 1"
   ]
  },
  {
   "cell_type": "code",
   "execution_count": 77,
   "id": "269a0eae-6e8f-4149-a7df-71738f417dd4",
   "metadata": {},
   "outputs": [
    {
     "name": "stdout",
     "output_type": "stream",
     "text": [
      "\u001b[48;5;230m\u001b[38;5;203m    ⸂⸂⸜(രᴗര๑)⸝⸃⸃    dm_nfnet_f0    ⸂⸂⸜(രᴗര๑)⸝⸃⸃    \u001b[0;0m\n"
     ]
    },
    {
     "name": "stderr",
     "output_type": "stream",
     "text": [
      "Downloading: \"https://github.com/rwightman/pytorch-image-models/releases/download/v0.1-dnf-weights/dm_nfnet_f0-604f9c3a.pth\" to /home/ys/.cache/torch/hub/checkpoints/dm_nfnet_f0-604f9c3a.pth\n"
     ]
    }
   ],
   "source": [
    "#2\n",
    "try:\n",
    "    print(f'\\033[48;5;230m\\033[38;5;203m    ⸂⸂⸜(രᴗര๑)⸝⸃⸃    {NFN_BACKBONES[INDEX]}    ⸂⸂⸜(രᴗര๑)⸝⸃⸃    \\033[0;0m')\n",
    "    NFN_train_val_infer(NFN_BACKBONES[INDEX])\n",
    "except:\n",
    "    pass\n",
    "INDEX += 1"
   ]
  },
  {
   "cell_type": "code",
   "execution_count": 78,
   "id": "d4c5ac35-c4a7-41d9-8888-d62c6b56603d",
   "metadata": {},
   "outputs": [],
   "source": [
    "INDEX = 3"
   ]
  },
  {
   "cell_type": "code",
   "execution_count": null,
   "id": "603eeb2f-4b20-40f5-8f6f-6a4309346aae",
   "metadata": {},
   "outputs": [
    {
     "name": "stdout",
     "output_type": "stream",
     "text": [
      "\u001b[48;5;230m\u001b[38;5;203m    ⸂⸂⸜(രᴗര๑)⸝⸃⸃    dm_nfnet_f1    ⸂⸂⸜(രᴗര๑)⸝⸃⸃    \u001b[0;0m\n"
     ]
    },
    {
     "name": "stderr",
     "output_type": "stream",
     "text": [
      "Downloading: \"https://github.com/rwightman/pytorch-image-models/releases/download/v0.1-dnf-weights/dm_nfnet_f1-fc540f82.pth\" to /home/ys/.cache/torch/hub/checkpoints/dm_nfnet_f1-fc540f82.pth\n"
     ]
    }
   ],
   "source": [
    "#3\n",
    "try:\n",
    "    print(f'\\033[48;5;230m\\033[38;5;203m    ⸂⸂⸜(രᴗര๑)⸝⸃⸃    {NFN_BACKBONES[INDEX]}    ⸂⸂⸜(രᴗര๑)⸝⸃⸃    \\033[0;0m')\n",
    "    NFN_train_val_infer(NFN_BACKBONES[INDEX])\n",
    "except:\n",
    "    pass\n",
    "INDEX += 1"
   ]
  },
  {
   "cell_type": "code",
   "execution_count": 49,
   "id": "5ce57f0c-0750-49f6-9132-85426b89b85b",
   "metadata": {
    "tags": []
   },
   "outputs": [
    {
     "name": "stdout",
     "output_type": "stream",
     "text": [
      "\u001b[48;5;230m\u001b[38;5;203m    ⸂⸂⸜(രᴗര๑)⸝⸃⸃    eca_nfnet_l1    ⸂⸂⸜(രᴗര๑)⸝⸃⸃    \u001b[0;0m\n"
     ]
    },
    {
     "name": "stderr",
     "output_type": "stream",
     "text": [
      "  0%|          | 0/20 [00:00<?, ?it/s]"
     ]
    },
    {
     "name": "stdout",
     "output_type": "stream",
     "text": [
      "Epoch 0, Train loss: 0.1738666056776346, Acc: 0.931851730359193, ROC: 0.9828681447829828\n",
      "Epoch 0, Val loss: 0.08957250585459922, Acc: 0.970110701107011, ROC: 0.9950574255924931\n"
     ]
    },
    {
     "name": "stderr",
     "output_type": "stream",
     "text": [
      "  5%|▌         | 1/20 [09:40<3:03:56, 580.85s/it]"
     ]
    },
    {
     "name": "stdout",
     "output_type": "stream",
     "text": [
      "Epoch 1, Train loss: 0.048393052913625285, Acc: 0.9859767098573069, ROC: 0.9984297023260605\n",
      "Epoch 1, Val loss: 0.06480597252489106, Acc: 0.9808118081180812, ROC: 0.9977496769131229\n"
     ]
    },
    {
     "name": "stderr",
     "output_type": "stream",
     "text": [
      " 10%|█         | 2/20 [19:19<2:53:47, 579.30s/it]"
     ]
    },
    {
     "name": "stdout",
     "output_type": "stream",
     "text": [
      "Epoch 2, Train loss: 0.012718927556545592, Acc: 0.9965146793505002, ROC: 0.9998895260361456\n",
      "Epoch 2, Val loss: 0.06398327799066873, Acc: 0.9785977859778597, ROC: 0.9972470044454749\n"
     ]
    },
    {
     "name": "stderr",
     "output_type": "stream",
     "text": [
      " 15%|█▌        | 3/20 [28:57<2:44:04, 579.06s/it]"
     ]
    },
    {
     "name": "stdout",
     "output_type": "stream",
     "text": [
      "Epoch 3, Train loss: 0.004371295529502461, Acc: 0.9990979170083648, ROC: 0.9999447698986136\n",
      "Epoch 3, Val loss: 0.059703303728803385, Acc: 0.9811808118081181, ROC: 0.9980612000942929\n"
     ]
    },
    {
     "name": "stderr",
     "output_type": "stream",
     "text": [
      " 20%|██        | 4/20 [38:36<2:34:24, 579.04s/it]"
     ]
    },
    {
     "name": "stdout",
     "output_type": "stream",
     "text": [
      "Epoch 4, Train loss: 0.0025718027656153044, Acc: 0.9993029358701, ROC: 0.99999529371006\n",
      "Epoch 4, Val loss: 0.058516656668123244, Acc: 0.9874538745387453, ROC: 0.9975462673225557\n"
     ]
    },
    {
     "name": "stderr",
     "output_type": "stream",
     "text": [
      " 25%|██▌       | 5/20 [48:14<2:24:40, 578.70s/it]"
     ]
    },
    {
     "name": "stdout",
     "output_type": "stream",
     "text": [
      "Epoch 5, Train loss: 0.001863823461132564, Acc: 0.9995079547318353, ROC: 0.9999982179399204\n"
     ]
    },
    {
     "name": "stderr",
     "output_type": "stream",
     "text": [
      " 30%|███       | 6/20 [57:52<2:14:57, 578.36s/it]"
     ]
    },
    {
     "name": "stdout",
     "output_type": "stream",
     "text": [
      "Epoch 5, Val loss: 0.068285386569951, Acc: 0.9826568265682657, ROC: 0.9979034880007847\n",
      "Epoch 6, Train loss: 0.0012101847066542245, Acc: 0.9997539773659176, ROC: 0.9999975780496215\n"
     ]
    },
    {
     "name": "stderr",
     "output_type": "stream",
     "text": [
      " 35%|███▌      | 7/20 [1:07:30<2:05:16, 578.18s/it]"
     ]
    },
    {
     "name": "stdout",
     "output_type": "stream",
     "text": [
      "Epoch 6, Val loss: 0.10031369272956536, Acc: 0.9856088560885609, ROC: 0.9976287457318816\n",
      "Epoch 7, Train loss: 0.0011388740592915016, Acc: 0.9996719698212235, ROC: 0.9999993463486194\n"
     ]
    },
    {
     "name": "stderr",
     "output_type": "stream",
     "text": [
      " 40%|████      | 8/20 [1:17:13<1:55:57, 579.81s/it]"
     ]
    },
    {
     "name": "stdout",
     "output_type": "stream",
     "text": [
      "Epoch 7, Val loss: 0.07670560084572112, Acc: 0.985239852398524, ROC: 0.9972102235332079\n",
      "Epoch 8, Train loss: 0.000727230107949572, Acc: 0.9997949811382647, ROC: 0.9999998211059379\n"
     ]
    },
    {
     "name": "stderr",
     "output_type": "stream",
     "text": [
      " 45%|████▌     | 9/20 [1:26:50<1:46:07, 578.88s/it]"
     ]
    },
    {
     "name": "stdout",
     "output_type": "stream",
     "text": [
      "Epoch 8, Val loss: 0.07194137961359802, Acc: 0.9859778597785978, ROC: 0.9978655925154187\n",
      "Epoch 9, Train loss: 0.0006861498991963014, Acc: 0.9998359849106118, ROC: 0.9999994013929463\n"
     ]
    },
    {
     "name": "stderr",
     "output_type": "stream",
     "text": [
      " 50%|█████     | 10/20 [1:36:28<1:36:25, 578.57s/it]"
     ]
    },
    {
     "name": "stdout",
     "output_type": "stream",
     "text": [
      "Epoch 9, Val loss: 0.0900356554593864, Acc: 0.9870848708487084, ROC: 0.9971517084455105\n",
      "Epoch 10, Train loss: 0.0014535740131073273, Acc: 0.9996719698212235, ROC: 0.9999493248166549\n"
     ]
    },
    {
     "name": "stderr",
     "output_type": "stream",
     "text": [
      " 55%|█████▌    | 11/20 [1:46:05<1:26:42, 578.08s/it]"
     ]
    },
    {
     "name": "stdout",
     "output_type": "stream",
     "text": [
      "Epoch 10, Val loss: 0.09077741260833233, Acc: 0.981549815498155, ROC: 0.9973389567261421\n",
      "Epoch 11, Train loss: 0.0005882812745964999, Acc: 0.9998769886829588, ROC: 0.999999731658907\n"
     ]
    },
    {
     "name": "stderr",
     "output_type": "stream",
     "text": [
      " 60%|██████    | 12/20 [1:55:41<1:16:59, 577.38s/it]"
     ]
    },
    {
     "name": "stdout",
     "output_type": "stream",
     "text": [
      "Epoch 11, Val loss: 0.0682133891326563, Acc: 0.9863468634686346, ROC: 0.9978555613575277\n",
      "Epoch 12, Train loss: 0.0003263991791463204, Acc: 0.9998769886829588, ROC: 0.9999999793583775\n"
     ]
    },
    {
     "name": "stderr",
     "output_type": "stream",
     "text": [
      " 65%|██████▌   | 13/20 [2:05:18<1:07:22, 577.48s/it]"
     ]
    },
    {
     "name": "stdout",
     "output_type": "stream",
     "text": [
      "Epoch 12, Val loss: 0.08380479698301843, Acc: 0.9845018450184502, ROC: 0.9973517743167806\n",
      "Epoch 13, Train loss: 0.0010345538469003382, Acc: 0.9998769886829588, ROC: 0.999987559982147\n"
     ]
    },
    {
     "name": "stderr",
     "output_type": "stream",
     "text": [
      " 70%|███████   | 14/20 [2:14:01<56:05, 560.93s/it]  "
     ]
    },
    {
     "name": "stdout",
     "output_type": "stream",
     "text": [
      "Epoch 13, Val loss: 0.07662474675521426, Acc: 0.9867158671586715, ROC: 0.9980194036030806\n",
      "Epoch 14, Train loss: 0.0005579091441351907, Acc: 0.9998769886829588, ROC: 0.9999993945124054\n"
     ]
    },
    {
     "name": "stderr",
     "output_type": "stream",
     "text": [
      " 75%|███████▌  | 15/20 [2:24:39<48:40, 584.06s/it]"
     ]
    },
    {
     "name": "stdout",
     "output_type": "stream",
     "text": [
      "Epoch 14, Val loss: 0.07514675987695711, Acc: 0.9837638376383764, ROC: 0.997910732725928\n",
      "Epoch 15, Train loss: 0.0005855783556296988, Acc: 0.9997539773659176, ROC: 0.9999998555086422\n"
     ]
    },
    {
     "name": "stderr",
     "output_type": "stream",
     "text": [
      " 80%|████████  | 16/20 [2:35:17<40:01, 600.39s/it]"
     ]
    },
    {
     "name": "stdout",
     "output_type": "stream",
     "text": [
      "Epoch 15, Val loss: 0.09398560375752332, Acc: 0.9848708487084871, ROC: 0.9975267622933233\n",
      "Epoch 16, Train loss: 0.0005098481059886274, Acc: 0.9997949811382647, ROC: 0.999999910552969\n"
     ]
    },
    {
     "name": "stderr",
     "output_type": "stream",
     "text": [
      " 85%|████████▌ | 17/20 [2:45:56<30:36, 612.05s/it]"
     ]
    },
    {
     "name": "stdout",
     "output_type": "stream",
     "text": [
      "Epoch 16, Val loss: 0.07649814928544309, Acc: 0.9848708487084871, ROC: 0.998013273451036\n",
      "Epoch 17, Train loss: 0.0004240296807133954, Acc: 0.9999589962276529, ROC: 0.9999979840015316\n"
     ]
    },
    {
     "name": "stderr",
     "output_type": "stream",
     "text": [
      " 90%|█████████ | 18/20 [2:55:01<19:43, 591.74s/it]"
     ]
    },
    {
     "name": "stdout",
     "output_type": "stream",
     "text": [
      "Epoch 17, Val loss: 0.08664774659940205, Acc: 0.9870848708487084, ROC: 0.9977078804219106\n",
      "Epoch 18, Train loss: 0.0005337558629919142, Acc: 0.9999179924553059, ROC: 0.9999981628955936\n"
     ]
    },
    {
     "name": "stderr",
     "output_type": "stream",
     "text": [
      " 95%|█████████▌| 19/20 [3:01:52<08:57, 537.39s/it]"
     ]
    },
    {
     "name": "stdout",
     "output_type": "stream",
     "text": [
      "Epoch 18, Val loss: 0.09090435910400183, Acc: 0.9867158671586715, ROC: 0.9975791472289762\n",
      "Epoch 19, Train loss: 0.0008661067666474777, Acc: 0.9998359849106118, ROC: 0.9999909314471624\n"
     ]
    },
    {
     "name": "stderr",
     "output_type": "stream",
     "text": [
      "100%|██████████| 20/20 [3:08:45<00:00, 566.26s/it]"
     ]
    },
    {
     "name": "stdout",
     "output_type": "stream",
     "text": [
      "Epoch 19, Val loss: 0.11893650438860776, Acc: 0.9837638376383764, ROC: 0.9962773258493465\n"
     ]
    },
    {
     "name": "stderr",
     "output_type": "stream",
     "text": [
      "\n"
     ]
    },
    {
     "data": {
      "image/png": "[encoded data removed]",
      "text/plain": [
       "<Figure size 432x288 with 1 Axes>"
      ]
     },
     "metadata": {
      "needs_background": "light"
     },
     "output_type": "display_data"
    },
    {
     "data": {
      "image/png": "[encoded data removed]",
      "text/plain": [
       "<Figure size 432x288 with 1 Axes>"
      ]
     },
     "metadata": {
      "needs_background": "light"
     },
     "output_type": "display_data"
    },
    {
     "name": "stdout",
     "output_type": "stream",
     "text": [
      "Epoch 0, Val loss: 0.7536699795418826, Acc: 0.8586744639376218, ROC: 0.9287659744408946\n",
      "waiting...\n",
      "flushing...\n",
      "done!\n"
     ]
    }
   ],
   "source": [
    "#4\n",
    "try:\n",
    "    print(f'\\033[48;5;230m\\033[38;5;203m    ⸂⸂⸜(രᴗര๑)⸝⸃⸃    {NFN_BACKBONES[INDEX]}    ⸂⸂⸜(രᴗര๑)⸝⸃⸃    \\033[0;0m')\n",
    "    NFN_train_val_infer(NFN_BACKBONES[INDEX])\n",
    "except:\n",
    "    pass\n",
    "INDEX += 1"
   ]
  },
  {
   "cell_type": "markdown",
   "id": "d67fca03-8c80-454f-a94d-1daea41634c4",
   "metadata": {},
   "source": [
    "# DEIT Couple"
   ]
  },
  {
   "cell_type": "code",
   "execution_count": null,
   "id": "c1f0b894-79c9-4119-b04d-517ee36fb983",
   "metadata": {},
   "outputs": [],
   "source": [
    "# need to resize image for using this"
   ]
  },
  {
   "cell_type": "code",
   "execution_count": null,
   "id": "a64ccac8-7417-4be0-9912-eb7d1049f05c",
   "metadata": {},
   "outputs": [],
   "source": [
    "DEIT_BACKBONES"
   ]
  },
  {
   "cell_type": "code",
   "execution_count": null,
   "id": "75518274-58ec-47ec-951d-6e48f2dc1201",
   "metadata": {},
   "outputs": [],
   "source": [
    "# DEIT_train_val_infer(DEIT_BACKBONES[1])"
   ]
  },
  {
   "cell_type": "code",
   "execution_count": null,
   "id": "3404ebca-ce51-4d7f-87a7-8c262899dca3",
   "metadata": {},
   "outputs": [],
   "source": []
  }
 ],
 "metadata": {
  "accelerator": "GPU",
  "colab": {
   "collapsed_sections": [],
   "name": "01_mask_code.ipynb",
   "provenance": [],
   "toc_visible": true
  },
  "kernelspec": {
   "display_name": "Python 3.8",
   "language": "python",
   "name": "py38"
  },
  "language_info": {
   "codemirror_mode": {
    "name": "ipython",
    "version": 3
   },
   "file_extension": ".py",
   "mimetype": "text/x-python",
   "name": "python",
   "nbconvert_exporter": "python",
   "pygments_lexer": "ipython3",
   "version": "3.8.8"
  },
  "widgets": {
   "application/vnd.jupyter.widget-state+json": {
    "023f93d14c934299be94113aa089ff2f": {
     "model_module": "@jupyter-widgets/controls",
     "model_module_version": "1.5.0",
     "model_name": "ProgressStyleModel",
     "state": {
      "_model_module": "@jupyter-widgets/controls",
      "_model_module_version": "1.5.0",
      "_model_name": "ProgressStyleModel",
      "_view_count": null,
      "_view_module": "@jupyter-widgets/base",
      "_view_module_version": "1.2.0",
      "_view_name": "StyleView",
      "bar_color": null,
      "description_width": ""
     }
    },
    "2c01333330ae4863af15c0057fc3ae56": {
     "model_module": "@jupyter-widgets/controls",
     "model_module_version": "1.5.0",
     "model_name": "HTMLModel",
     "state": {
      "_dom_classes": [],
      "_model_module": "@jupyter-widgets/controls",
      "_model_module_version": "1.5.0",
      "_model_name": "HTMLModel",
      "_view_count": null,
      "_view_module": "@jupyter-widgets/controls",
      "_view_module_version": "1.5.0",
      "_view_name": "HTMLView",
      "description": "",
      "description_tooltip": null,
      "layout": "IPY_MODEL_71dbfe7632524d69b167b4d56d44ed41",
      "placeholder": "​",
      "style": "IPY_MODEL_ef0ccb555eb34b45a4c5af40649f68ce",
      "value": "100%"
     }
    },
    "2e1f1639316a49e4acccba120fb254d4": {
     "model_module": "@jupyter-widgets/controls",
     "model_module_version": "1.5.0",
     "model_name": "HBoxModel",
     "state": {
      "_dom_classes": [],
      "_model_module": "@jupyter-widgets/controls",
      "_model_module_version": "1.5.0",
      "_model_name": "HBoxModel",
      "_view_count": null,
      "_view_module": "@jupyter-widgets/controls",
      "_view_module_version": "1.5.0",
      "_view_name": "HBoxView",
      "box_style": "",
      "children": [
       "IPY_MODEL_2c01333330ae4863af15c0057fc3ae56",
       "IPY_MODEL_48d64e6e8d294ebd974fd9e610e935d0",
       "IPY_MODEL_bb54549aef364adca5e067690cf7258c"
      ],
      "layout": "IPY_MODEL_c972d82225b84aa3aa6cb513952162b9"
     }
    },
    "48d64e6e8d294ebd974fd9e610e935d0": {
     "model_module": "@jupyter-widgets/controls",
     "model_module_version": "1.5.0",
     "model_name": "FloatProgressModel",
     "state": {
      "_dom_classes": [],
      "_model_module": "@jupyter-widgets/controls",
      "_model_module_version": "1.5.0",
      "_model_name": "FloatProgressModel",
      "_view_count": null,
      "_view_module": "@jupyter-widgets/controls",
      "_view_module_version": "1.5.0",
      "_view_name": "ProgressView",
      "bar_style": "success",
      "description": "",
      "description_tooltip": null,
      "layout": "IPY_MODEL_ce8f3ea6a7de46b08961e82f991b1a0e",
      "max": 21388428,
      "min": 0,
      "orientation": "horizontal",
      "style": "IPY_MODEL_023f93d14c934299be94113aa089ff2f",
      "value": 21388428
     }
    },
    "71dbfe7632524d69b167b4d56d44ed41": {
     "model_module": "@jupyter-widgets/base",
     "model_module_version": "1.2.0",
     "model_name": "LayoutModel",
     "state": {
      "_model_module": "@jupyter-widgets/base",
      "_model_module_version": "1.2.0",
      "_model_name": "LayoutModel",
      "_view_count": null,
      "_view_module": "@jupyter-widgets/base",
      "_view_module_version": "1.2.0",
      "_view_name": "LayoutView",
      "align_content": null,
      "align_items": null,
      "align_self": null,
      "border": null,
      "bottom": null,
      "display": null,
      "flex": null,
      "flex_flow": null,
      "grid_area": null,
      "grid_auto_columns": null,
      "grid_auto_flow": null,
      "grid_auto_rows": null,
      "grid_column": null,
      "grid_gap": null,
      "grid_row": null,
      "grid_template_areas": null,
      "grid_template_columns": null,
      "grid_template_rows": null,
      "height": null,
      "justify_content": null,
      "justify_items": null,
      "left": null,
      "margin": null,
      "max_height": null,
      "max_width": null,
      "min_height": null,
      "min_width": null,
      "object_fit": null,
      "object_position": null,
      "order": null,
      "overflow": null,
      "overflow_x": null,
      "overflow_y": null,
      "padding": null,
      "right": null,
      "top": null,
      "visibility": null,
      "width": null
     }
    },
    "bb54549aef364adca5e067690cf7258c": {
     "model_module": "@jupyter-widgets/controls",
     "model_module_version": "1.5.0",
     "model_name": "HTMLModel",
     "state": {
      "_dom_classes": [],
      "_model_module": "@jupyter-widgets/controls",
      "_model_module_version": "1.5.0",
      "_model_name": "HTMLModel",
      "_view_count": null,
      "_view_module": "@jupyter-widgets/controls",
      "_view_module_version": "1.5.0",
      "_view_name": "HTMLView",
      "description": "",
      "description_tooltip": null,
      "layout": "IPY_MODEL_bd2482a049e843f188adae6ee381101f",
      "placeholder": "​",
      "style": "IPY_MODEL_db323916e13f4d7da295d5ad05cf5c84",
      "value": " 20.4M/20.4M [00:00&lt;00:00, 71.6MB/s]"
     }
    },
    "bd2482a049e843f188adae6ee381101f": {
     "model_module": "@jupyter-widgets/base",
     "model_module_version": "1.2.0",
     "model_name": "LayoutModel",
     "state": {
      "_model_module": "@jupyter-widgets/base",
      "_model_module_version": "1.2.0",
      "_model_name": "LayoutModel",
      "_view_count": null,
      "_view_module": "@jupyter-widgets/base",
      "_view_module_version": "1.2.0",
      "_view_name": "LayoutView",
      "align_content": null,
      "align_items": null,
      "align_self": null,
      "border": null,
      "bottom": null,
      "display": null,
      "flex": null,
      "flex_flow": null,
      "grid_area": null,
      "grid_auto_columns": null,
      "grid_auto_flow": null,
      "grid_auto_rows": null,
      "grid_column": null,
      "grid_gap": null,
      "grid_row": null,
      "grid_template_areas": null,
      "grid_template_columns": null,
      "grid_template_rows": null,
      "height": null,
      "justify_content": null,
      "justify_items": null,
      "left": null,
      "margin": null,
      "max_height": null,
      "max_width": null,
      "min_height": null,
      "min_width": null,
      "object_fit": null,
      "object_position": null,
      "order": null,
      "overflow": null,
      "overflow_x": null,
      "overflow_y": null,
      "padding": null,
      "right": null,
      "top": null,
      "visibility": null,
      "width": null
     }
    },
    "c972d82225b84aa3aa6cb513952162b9": {
     "model_module": "@jupyter-widgets/base",
     "model_module_version": "1.2.0",
     "model_name": "LayoutModel",
     "state": {
      "_model_module": "@jupyter-widgets/base",
      "_model_module_version": "1.2.0",
      "_model_name": "LayoutModel",
      "_view_count": null,
      "_view_module": "@jupyter-widgets/base",
      "_view_module_version": "1.2.0",
      "_view_name": "LayoutView",
      "align_content": null,
      "align_items": null,
      "align_self": null,
      "border": null,
      "bottom": null,
      "display": null,
      "flex": null,
      "flex_flow": null,
      "grid_area": null,
      "grid_auto_columns": null,
      "grid_auto_flow": null,
      "grid_auto_rows": null,
      "grid_column": null,
      "grid_gap": null,
      "grid_row": null,
      "grid_template_areas": null,
      "grid_template_columns": null,
      "grid_template_rows": null,
      "height": null,
      "justify_content": null,
      "justify_items": null,
      "left": null,
      "margin": null,
      "max_height": null,
      "max_width": null,
      "min_height": null,
      "min_width": null,
      "object_fit": null,
      "object_position": null,
      "order": null,
      "overflow": null,
      "overflow_x": null,
      "overflow_y": null,
      "padding": null,
      "right": null,
      "top": null,
      "visibility": null,
      "width": null
     }
    },
    "ce8f3ea6a7de46b08961e82f991b1a0e": {
     "model_module": "@jupyter-widgets/base",
     "model_module_version": "1.2.0",
     "model_name": "LayoutModel",
     "state": {
      "_model_module": "@jupyter-widgets/base",
      "_model_module_version": "1.2.0",
      "_model_name": "LayoutModel",
      "_view_count": null,
      "_view_module": "@jupyter-widgets/base",
      "_view_module_version": "1.2.0",
      "_view_name": "LayoutView",
      "align_content": null,
      "align_items": null,
      "align_self": null,
      "border": null,
      "bottom": null,
      "display": null,
      "flex": null,
      "flex_flow": null,
      "grid_area": null,
      "grid_auto_columns": null,
      "grid_auto_flow": null,
      "grid_auto_rows": null,
      "grid_column": null,
      "grid_gap": null,
      "grid_row": null,
      "grid_template_areas": null,
      "grid_template_columns": null,
      "grid_template_rows": null,
      "height": null,
      "justify_content": null,
      "justify_items": null,
      "left": null,
      "margin": null,
      "max_height": null,
      "max_width": null,
      "min_height": null,
      "min_width": null,
      "object_fit": null,
      "object_position": null,
      "order": null,
      "overflow": null,
      "overflow_x": null,
      "overflow_y": null,
      "padding": null,
      "right": null,
      "top": null,
      "visibility": null,
      "width": null
     }
    },
    "db323916e13f4d7da295d5ad05cf5c84": {
     "model_module": "@jupyter-widgets/controls",
     "model_module_version": "1.5.0",
     "model_name": "DescriptionStyleModel",
     "state": {
      "_model_module": "@jupyter-widgets/controls",
      "_model_module_version": "1.5.0",
      "_model_name": "DescriptionStyleModel",
      "_view_count": null,
      "_view_module": "@jupyter-widgets/base",
      "_view_module_version": "1.2.0",
      "_view_name": "StyleView",
      "description_width": ""
     }
    },
    "ef0ccb555eb34b45a4c5af40649f68ce": {
     "model_module": "@jupyter-widgets/controls",
     "model_module_version": "1.5.0",
     "model_name": "DescriptionStyleModel",
     "state": {
      "_model_module": "@jupyter-widgets/controls",
      "_model_module_version": "1.5.0",
      "_model_name": "DescriptionStyleModel",
      "_view_count": null,
      "_view_module": "@jupyter-widgets/base",
      "_view_module_version": "1.2.0",
      "_view_name": "StyleView",
      "description_width": ""
     }
    }
   }
  }
 },
 "nbformat": 4,
 "nbformat_minor": 5
}
